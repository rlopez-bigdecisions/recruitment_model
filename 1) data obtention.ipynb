{
 "cells": [
  {
   "cell_type": "code",
   "execution_count": 13,
   "id": "1f654bd1",
   "metadata": {},
   "outputs": [],
   "source": [
    "import pandas as pd\n",
    "import json\n",
    "from llmsinferer import LlmsInferer"
   ]
  },
  {
   "cell_type": "markdown",
   "id": "2d1d0961",
   "metadata": {},
   "source": [
    "# Load data"
   ]
  },
  {
   "cell_type": "code",
   "execution_count": 14,
   "id": "9a058c0d",
   "metadata": {},
   "outputs": [
    {
     "data": {
      "application/vnd.microsoft.datawrangler.viewer.v0+json": {
       "columns": [
        {
         "name": "index",
         "rawType": "int64",
         "type": "integer"
        },
        {
         "name": "id",
         "rawType": "object",
         "type": "string"
        },
        {
         "name": "analysis",
         "rawType": "object",
         "type": "string"
        }
       ],
       "conversionMethod": "pd.DataFrame",
       "ref": "a97fe2cb-0685-4ca3-af4e-4bfefb25bb11",
       "rows": [
        [
         "0",
         "CVANON0002",
         "{\"professionality\": 4, \"visual\": 3, \"grammar\": 5, \"ai_likelihood\": 3, \"education\": [{\"level\": \"Non-regulated Course\", \"field\": \"Modern languages\", \"related\": false, \"where\": \"Unknown\"}, {\"level\": \"Non-regulated Course\", \"field\": \"Bookkeeping\", \"related\": false, \"where\": \"Ekerer\"}, {\"level\": \"Non-regulated Course\", \"field\": \"Bookkeeping\", \"related\": false, \"where\": \"One day school and 4 days working\"}, {\"level\": \"Non-regulated Course\", \"field\": \"Accounting\", \"related\": false, \"where\": \"Adult study accountant\"}], \"experience\": [{\"position\": \"Learning help bookkeeper\", \"responsibility_level\": \"Entry\", \"company\": \"Unknown\", \"start_date\": \"1993-07-01\", \"end_date\": \"1993-05-01\", \"duration\": -2, \"related\": false}, {\"position\": \"Horeca\", \"responsibility_level\": \"Other\", \"company\": \"Horeca cal pub, Be\", \"start_date\": \"1993-07-01\", \"end_date\": \"1995-05-01\", \"duration\": 22, \"related\": false}, {\"position\": \"Secretary real estate\", \"responsibility_level\": \"Entry\", \"company\": \"Unknown\", \"start_date\": \"1996-03-01\", \"end_date\": \"1999-08-01\", \"duration\": 41, \"related\": false}, {\"position\": \"Client service\", \"responsibility_level\": \"Entry\", \"company\": \"Unknown\", \"start_date\": \"2000-04-01\", \"end_date\": \"2001-03-01\", \"duration\": 11, \"related\": false}, {\"position\": \"Teks writer\", \"responsibility_level\": \"Entry\", \"company\": \"Er mir\", \"start_date\": \"2001-02-01\", \"end_date\": \"2006-10-01\", \"duration\": 68, \"related\": false}, {\"position\": \"Aangepaste sectie\", \"responsibility_level\": \"Other\", \"company\": \"Unknown\", \"start_date\": \"2009-04-01\", \"end_date\": \"2018-11-01\", \"duration\": 115, \"related\": false}], \"languages\": [{\"language\": \"Nederlands\", \"level\": \"Fluent\"}, {\"language\": \"English\", \"level\": \"Fluent\"}, {\"language\": \"Spaans\", \"level\": \"Other\"}]}"
        ],
        [
         "1",
         "CVANON0247",
         "{\"professionality\": 7, \"visual\": 6, \"grammar\": 8, \"ai_likelihood\": 4, \"education\": [{\"level\": \"Bachelor\", \"field\": \"Creative Business\", \"related\": true, \"where\": \"Inholland University of Applied Sciences\"}, {\"level\": \"Secondary\", \"field\": \"General Education\", \"related\": false, \"where\": \"American School of Madrid\"}], \"experience\": [{\"position\": \"Customer Service Specialist\", \"responsibility_level\": \"Intermediate\", \"company\": \"RIFF\", \"start_date\": \"2020-10-01\", \"end_date\": \"2021-10-01\", \"duration\": 12, \"related\": false}, {\"position\": \"Musician\", \"responsibility_level\": \"Other\", \"company\": \"Clamores\", \"start_date\": \"2018-04-01\", \"end_date\": \"2018-05-01\", \"duration\": 1, \"related\": false}, {\"position\": \"Messenger\", \"responsibility_level\": \"Entry\", \"company\": \"Home delivery\", \"start_date\": \"2020-01-01\", \"end_date\": \"2020-03-01\", \"duration\": 2, \"related\": false}, {\"position\": \"Seller\", \"responsibility_level\": \"Entry\", \"company\": \"Timberlands\", \"start_date\": \"2022-10-01\", \"end_date\": \"2023-06-01\", \"duration\": 8, \"related\": false}, {\"position\": \"Waiter\", \"responsibility_level\": \"Entry\", \"company\": \"Calaiza\", \"start_date\": \"2023-06-01\", \"end_date\": \"2023-09-01\", \"duration\": 3, \"related\": false}], \"languages\": [{\"language\": \"Spanish\", \"level\": \"Fluent\"}, {\"language\": \"English\", \"level\": \"Fluent\"}, {\"language\": \"French\", \"level\": \"Intermediate\"}]}"
        ],
        [
         "2",
         "CVANON0105",
         "{\"professionality\": 7, \"visual\": 5, \"grammar\": 4, \"ai_likelihood\": 5, \"education\": [{\"level\": \"Master\", \"field\": \"Marketing Digital\", \"related\": true, \"where\": \"ESIC\"}, {\"level\": \"Vocational\", \"field\": \"Sound Technician\", \"related\": false, \"where\": \"UNIV. FRANCISCO DE VITORIA\"}, {\"level\": \"Diploma\", \"field\": \"Business\", \"related\": true, \"where\": \"UNIV. FRANCISCO DE VITORIA\"}], \"experience\": [{\"position\": \"Marketing y Comunicacion\", \"responsibility_level\": \"Intermediate\", \"company\": \"MARTIN MOLINA ABOGADOS Y ECONOMISTAS\", \"start_date\": \"2022-02-01\", \"end_date\": \"2023-10-01\", \"duration\": 20, \"related\": true}, {\"position\": \"Especialista de Marketing Digital\", \"responsibility_level\": \"Intermediate\", \"company\": \"SECRETALIGNER\", \"start_date\": \"2021-02-01\", \"end_date\": \"2022-02-01\", \"duration\": 12, \"related\": true}, {\"position\": \"International Marketing Specialist\", \"responsibility_level\": \"Intermediate\", \"company\": \"MINDWAY EDUCACION S.L.\", \"start_date\": \"2020-09-01\", \"end_date\": \"2021-02-01\", \"duration\": 5, \"related\": true}, {\"position\": \"Responsable de Marketing . Ventas\", \"responsibility_level\": \"Manager\", \"company\": \"UN MUNDO CONSCIENTE S.L.\", \"start_date\": \"2019-04-01\", \"end_date\": \"2020-09-01\", \"duration\": 17, \"related\": true}, {\"position\": \"Marketing\", \"responsibility_level\": \"Intermediate\", \"company\": \"OKORU DIGITAL AGENCIA DE MARKETING\", \"start_date\": \"2017-01-01\", \"end_date\": \"2019-03-01\", \"duration\": 26, \"related\": true}, {\"position\": \"Responsable de Marketing Digital\", \"responsibility_level\": \"Manager\", \"company\": \"ESCUELA DE FLAMENCO ARABESQUEES\", \"start_date\": \"2012-07-01\", \"end_date\": \"2017-09-01\", \"duration\": 62, \"related\": true}, {\"position\": \"Marketing Sensorial\", \"responsibility_level\": \"Intermediate\", \"company\": \"STORE EVER - MUSICMATIC\", \"start_date\": \"2009-04-01\", \"end_date\": \"2012-10-01\", \"duration\": 42, \"related\": true}], \"languages\": [{\"language\": \"English\", \"level\": \"Intermediate\"}]}"
        ],
        [
         "3",
         "CVANON0009",
         "{\"professionality\": 7, \"visual\": 6, \"grammar\": 6, \"ai_likelihood\": 5, \"education\": [{\"level\": \"Master\", \"field\": \"Education\", \"related\": false, \"where\": \"Universidad San Pablo-CEU\"}, {\"level\": \"Bachelor\", \"field\": \"Hispanic Philology\", \"related\": false, \"where\": \"Universidad SWPS en Varsovia\"}, {\"level\": \"Non-regulated Course\", \"field\": \"Pedagogical\", \"related\": false, \"where\": \"Centrum szkolenia kadr\"}, {\"level\": \"Non-regulated Course\", \"field\": \"Beauty\", \"related\": false, \"where\": \"Academy of make up & cosmetology by Alan Dąbrowski\"}, {\"level\": \"Non-regulated Course\", \"field\": \"Assistant-secretarial\", \"related\": false, \"where\": \"gowork.pl education\"}], \"experience\": [{\"position\": \"Auxiliar de conversacion en inglés\", \"responsibility_level\": \"Entry\", \"company\": \"IES Europa Mostoles\", \"start_date\": \"2021-10-01\", \"end_date\": \"2022-06-01\", \"duration\": 8, \"related\": false}, {\"position\": \"Especialista en procesamiento de datos\", \"responsibility_level\": \"Intermediate\", \"company\": \"NielsenIQ\", \"start_date\": \"2021-07-01\", \"end_date\": \"2021-09-01\", \"duration\": 2, \"related\": false}, {\"position\": \"Especialista en marketing y negocio\", \"responsibility_level\": \"Entry\", \"company\": \"ER Medical\", \"start_date\": \"2021-03-01\", \"end_date\": \"2021-06-01\", \"duration\": 3, \"related\": true}, {\"position\": \"Recepcionista de hotel\", \"responsibility_level\": \"Entry\", \"company\": \"Best Western Plus Hotel Warsaw\", \"start_date\": \"2020-09-01\", \"end_date\": \"2020-11-01\", \"duration\": 2, \"related\": false}, {\"position\": \"Au Pair\", \"responsibility_level\": \"Entry\", \"company\": \"Au Pair\", \"start_date\": \"2019-09-01\", \"end_date\": \"2020-08-01\", \"duration\": 11, \"related\": false}, {\"position\": \"Hostess\", \"responsibility_level\": \"Entry\", \"company\": \"grupo Dani Garcia\", \"start_date\": \"2019-09-01\", \"end_date\": \"2020-02-01\", \"duration\": 5, \"related\": false}, {\"position\": \"Private tutor\", \"responsibility_level\": \"Entry\", \"company\": \"Buki.org.pl\", \"start_date\": \"2019-03-01\", \"end_date\": \"2019-07-01\", \"duration\": 4, \"related\": false}, {\"position\": \"Private tutor\", \"responsibility_level\": \"Entry\", \"company\": \"Europejskie Centrum Szkolen\", \"start_date\": \"2019-03-01\", \"end_date\": \"2019-07-01\", \"duration\": 4, \"related\": false}, {\"position\": \"Vendedor en panaderia\", \"responsibility_level\": \"Entry\", \"company\": \"Grzybki\", \"start_date\": \"2018-07-01\", \"end_date\": \"2018-10-01\", \"duration\": 3, \"related\": true}], \"languages\": [{\"language\": \"Spanish\", \"level\": \"Advanced\"}, {\"language\": \"English\", \"level\": \"Advanced\"}, {\"language\": \"Polish\", \"level\": \"Native\"}]}"
        ],
        [
         "4",
         "CVANON0033",
         "{\n  \"professionality\": 7,\n  \"visual\": 6,\n  \"grammar\": 8,\n  \"ai_likelihood\": 4,\n  \"education\": [\n    {\n      \"level\": \"Vocational\",\n      \"field\": \"Communication, Image and Sound\",\n      \"related\": false,\n      \"where\": \"Centro formacion informatica Mostoles\"\n    },\n    {\n      \"level\": \"Vocational\",\n      \"field\": \"Physical Activities and Sports\",\n      \"related\": false,\n      \"where\": \"Arcadia de Villanueva de la Cañada\"\n    },\n    {\n      \"level\": \"Secondary\",\n      \"field\": \"General\",\n      \"related\": false,\n      \"where\": \"Lycée Molière (Centro Francés) de Villanueva de la Cañada\"\n    },\n    {\n      \"level\": \"Non-regulated Course\",\n      \"field\": \"First Aid\",\n      \"related\": false,\n      \"where\": \"Centro de Salud de Villanueva de la Cañada\"\n    }\n  ],\n  \"experience\": [\n    {\n      \"position\": \"Auxiliar administrativo/a\",\n      \"responsibility_level\": \"Entry\",\n      \"company\": \"Coopservice Ibérica\",\n      \"start_date\": \"2021-12-01\",\n      \"end_date\": \"2022-05-01\",\n      \"duration\": 5,\n      \"related\": false\n    },\n    {\n      \"position\": \"Auxiliar administrativo\",\n      \"responsibility_level\": \"Entry\",\n      \"company\": \"Accenture\",\n      \"start_date\": \"2019-11-01\",\n      \"end_date\": \"2021-11-01\",\n      \"duration\": 24,\n      \"related\": false\n    },\n    {\n      \"position\": \"Cajera\",\n      \"responsibility_level\": \"Entry\",\n      \"company\": \"Leroy Merlin\",\n      \"start_date\": \"2019-05-01\",\n      \"end_date\": \"2019-10-01\",\n      \"duration\": 5,\n      \"related\": false\n    },\n    {\n      \"position\": \"Cajera\",\n      \"responsibility_level\": \"Entry\",\n      \"company\": \"Bricodepot\",\n      \"start_date\": \"2018-11-01\",\n      \"end_date\": \"2019-05-01\",\n      \"duration\": 6,\n      \"related\": false\n    },\n    {\n      \"position\": \"Socorrista\",\n      \"responsibility_level\": \"Entry\",\n      \"company\": \"Julio Alvarez\",\n      \"start_date\": \"2018-06-01\",\n      \"end_date\": \"2018-09-01\",\n      \"duration\": 3,\n      \"related\": false\n    },\n    {\n      \"position\": \"Cajera\",\n      \"responsibility_level\": \"Entry\",\n      \"company\": \"Mercadona\",\n      \"start_date\": \"2017-10-01\",\n      \"end_date\": \"2018-03-01\",\n      \"duration\": 5,\n      \"related\": false\n    },\n    {\n      \"position\": \"Socorrista\",\n      \"responsibility_level\": \"Entry\",\n      \"company\": \"Julio Alvarez S.L\",\n      \"start_date\": \"2017-06-01\",\n      \"end_date\": \"2017-09-01\",\n      \"duration\": 3,\n      \"related\": false\n    },\n    {\n      \"position\": \"Socorrista\",\n      \"responsibility_level\": \"Entry\",\n      \"company\": \"Simasport\",\n      \"start_date\": \"2016-06-01\",\n      \"end_date\": \"2016-09-01\",\n      \"duration\": 3,\n      \"related\": false\n    },\n    {\n      \"position\": \"Socorrista\",\n      \"responsibility_level\": \"Entry\",\n      \"company\": \"Delta Integral 4\",\n      \"start_date\": \"2015-06-01\",\n      \"end_date\": \"2015-09-01\",\n      \"duration\": 3,\n      \"related\": false\n    },\n    {\n      \"position\": \"Dependienta\",\n      \"responsibility_level\": \"Entry\",\n      \"company\": \"Decathlon de Alcorcón\",\n      \"start_date\": \"2013-07-01\",\n      \"end_date\": \"2013-09-01\",\n      \"duration\": 2,\n      \"related\": false\n    },\n    {\n      \"position\": \"Socorrista\",\n      \"responsibility_level\": \"Entry\",\n      \"company\": \"Aquopolis\",\n      \"start_date\": \"2012-06-01\",\n      \"end_date\": \"2012-09-01\",\n      \"duration\": 3,\n      \"related\": false\n    }\n  ],\n  \"languages\": [\n    {\n      \"language\": \"Inglés\",\n      \"level\": \"Intermediate\"\n    },\n    {\n      \"language\": \"Francés\",\n      \"level\": \"Advanced\"\n    }\n  ]\n}"
        ],
        [
         "5",
         "CVANON0010",
         "{\n  \"professionality\": 7,\n  \"visual\": 5,\n  \"grammar\": 6,\n  \"ai_likelihood\": 3,\n  \"education\": [\n    {\n      \"level\": \"Vocational\",\n      \"field\": \"Commerce\",\n      \"related\": true,\n      \"where\": \"Lycée la Providence, Cholet (FRANCE)\"\n    },\n    {\n      \"level\": \"Diploma\",\n      \"field\": \"Negotiation and Customer Relations\",\n      \"related\": true,\n      \"where\": \"CFA CFP La Providence, Cholet (FRANCE)\"\n    },\n    {\n      \"level\": \"Secondary\",\n      \"field\": \"Commerce\",\n      \"related\": true,\n      \"where\": \"Lycée la Providence, Cholet (FRANCE)\"\n    }\n  ],\n  \"experience\": [\n    {\n      \"position\": \"Senior Analyst\",\n      \"responsibility_level\": \"Senior\",\n      \"company\": \"Daimler Group\",\n      \"start_date\": \"2020-03-01\",\n      \"end_date\": null,\n      \"duration\": null,\n      \"related\": false\n    },\n    {\n      \"position\": \"Employée ventes & Marketing\",\n      \"responsibility_level\": \"Intermediate\",\n      \"company\": \"BNZSA\",\n      \"start_date\": \"2019-01-01\",\n      \"end_date\": \"2020-03-01\",\n      \"duration\": 14,\n      \"related\": true\n    },\n    {\n      \"position\": \"Téléopératrice\",\n      \"responsibility_level\": \"Entry\",\n      \"company\": \"YODEYMA PARFUMS\",\n      \"start_date\": \"2018-10-01\",\n      \"end_date\": \"2018-12-01\",\n      \"duration\": 2,\n      \"related\": true\n    },\n    {\n      \"position\": \"Vendeuse en sellerie d'équitation\",\n      \"responsibility_level\": \"Entry\",\n      \"company\": \"TERRA EQUUS\",\n      \"start_date\": \"2018-08-01\",\n      \"end_date\": \"2018-10-01\",\n      \"duration\": 2,\n      \"related\": false\n    },\n    {\n      \"position\": \"Fille au pair\",\n      \"responsibility_level\": \"Other\",\n      \"company\": \"AU PAIR WORLD\",\n      \"start_date\": \"2017-08-01\",\n      \"end_date\": \"2018-08-01\",\n      \"duration\": 12,\n      \"related\": false\n    },\n    {\n      \"position\": \"Technico-comerciale\",\n      \"responsibility_level\": \"Intermediate\",\n      \"company\": \"INSIGNYA\",\n      \"start_date\": \"2016-06-01\",\n      \"end_date\": \"2017-07-01\",\n      \"duration\": 13,\n      \"related\": true\n    },\n    {\n      \"position\": \"Technico-commerciale en alternance\",\n      \"responsibility_level\": \"Entry\",\n      \"company\": \"INSIGNYA\",\n      \"start_date\": \"2014-09-01\",\n      \"end_date\": \"2016-06-01\",\n      \"duration\": 21,\n      \"related\": true\n    },\n    {\n      \"position\": \"Stage découverte\",\n      \"responsibility_level\": \"Entry\",\n      \"company\": \"LE CADRE NOIR\",\n      \"start_date\": null,\n      \"end_date\": null,\n      \"duration\": null,\n      \"related\": false\n    }\n  ],\n  \"languages\": [\n    {\n      \"language\": \"French\",\n      \"level\": \"Native\"\n    },\n    {\n      \"language\": \"English\",\n      \"level\": \"Fluent\"\n    },\n    {\n      \"language\": \"Spanish\",\n      \"level\": \"Basic\"\n    }\n  ]\n}"
        ],
        [
         "6",
         "CVANON0238",
         "{\"professionality\": 7, \"visual\": 6, \"grammar\": 5, \"ai_likelihood\": 4, \"education\": [{\"level\": \"Master\", \"field\": \"Business Administration\", \"related\": true, \"where\": \"IE Business School\"}, {\"level\": \"Bachelor\", \"field\": \"Business Administration - Finance\", \"related\": true, \"where\": \"The University of Toledo, OH, USA\"}], \"experience\": [{\"position\": \"Business Development Representative\", \"responsibility_level\": \"Intermediate\", \"company\": \"Doofinder\", \"start_date\": null, \"end_date\": null, \"duration\": null, \"related\": true}, {\"position\": \"Commercial Underwriter\", \"responsibility_level\": \"Intermediate\", \"company\": \"Comerica Bank\", \"start_date\": null, \"end_date\": null, \"duration\": null, \"related\": true}, {\"position\": \"Senior Credit Specialist\", \"responsibility_level\": \"Senior\", \"company\": \"Comerica Bank\", \"start_date\": \"2017-04-01\", \"end_date\": \"2019-01-01\", \"duration\": 21, \"related\": true}], \"languages\": [{\"language\": \"English\", \"level\": \"Bilingual\"}, {\"language\": \"Spanish\", \"level\": \"Limited Working Proficiency\"}]}"
        ],
        [
         "7",
         "CVANON0269",
         "{\"professionality\": 7, \"visual\": 6, \"grammar\": 8, \"ai_likelihood\": 3, \"education\": [{\"level\": \"Bachelor\", \"field\": \"Marketing\", \"related\": true, \"where\": \"ESIC University\"}, {\"level\": \"Other\", \"field\": \"Marketing\", \"related\": true, \"where\": \"UIA (University of Agder)\"}, {\"level\": \"Secondary\", \"field\": \"Social Sciences\", \"related\": false, \"where\": \"St Joseph, France\"}], \"experience\": [{\"position\": \"Sales Assistant\", \"responsibility_level\": \"Intermediate\", \"company\": \"Karl Lagerfeld\", \"start_date\": \"2022-01-01\", \"end_date\": \"2022-12-31\", \"duration\": 12, \"related\": false}, {\"position\": \"Sales Assistant\", \"responsibility_level\": \"Intermediate\", \"company\": \"Maje\", \"start_date\": \"2021-01-01\", \"end_date\": \"2021-12-31\", \"duration\": 12, \"related\": false}, {\"position\": \"Account Affiliate\", \"responsibility_level\": \"Entry\", \"company\": \"E-Retail Advertising\", \"start_date\": \"2021-01-01\", \"end_date\": \"2021-12-31\", \"duration\": 12, \"related\": true}, {\"position\": \"Internship\", \"responsibility_level\": \"Entry\", \"company\": \"Telecoming\", \"start_date\": \"2024-01-01\", \"end_date\": \"2024-12-31\", \"duration\": 12, \"related\": true}], \"languages\": [{\"language\": \"Spanish\", \"level\": \"Native\"}, {\"language\": \"French\", \"level\": \"Native\"}, {\"language\": \"English\", \"level\": \"Advanced\"}]}"
        ],
        [
         "8",
         "CVANON0197",
         "{\"professionality\": 6, \"visual\": 5, \"grammar\": 7, \"ai_likelihood\": 3, \"education\": [{\"level\": \"Vocational\", \"field\": \"Transporte y Logistica\", \"related\": false, \"where\": \"FEDA Madrid\"}], \"experience\": [{\"position\": \"Auxiliar administrativo/a\", \"responsibility_level\": \"Entry\", \"company\": \"Salzgitter Mannesmann S.L\", \"start_date\": \"2023-09-01\", \"end_date\": \"2023-11-01\", \"duration\": 2, \"related\": false}], \"languages\": [{\"language\": \"Español\", \"level\": \"Advanced\"}, {\"language\": \"Inglés\", \"level\": \"Advanced\"}, {\"language\": \"Alemán\", \"level\": \"Native\"}]}"
        ],
        [
         "9",
         "CVANON0015",
         "{\"professionality\": 7, \"visual\": 6, \"grammar\": 5, \"ai_likelihood\": 3, \"education\": [{\"level\": \"Vocational\", \"field\": \"Nursing\", \"related\": false, \"where\": \"St. Marien Hospital Gelsenkirchen-Buer, Deutschland\"}, {\"level\": \"Other\", \"field\": \"Psychology\", \"related\": false, \"where\": \"Fern-Universitat Hagen\"}, {\"level\": \"Vocational\", \"field\": \"Intensive Care and Anesthesia Nursing\", \"related\": false, \"where\": \"Not specified\"}, {\"level\": \"Vocational\", \"field\": \"Wholesale and Foreign Trade\", \"related\": true, \"where\": \"Gelsenkirchen, Deutschland\"}, {\"level\": \"Secondary\", \"field\": \"General Education\", \"related\": false, \"where\": \"Theodor-Heuss-Realschule, Gelsenkirchen, Deutschland\"}], \"experience\": [{\"position\": \"Founder\", \"responsibility_level\": \"Other\", \"company\": \"Veganized\", \"start_date\": \"2013-12-01\", \"end_date\": \"Currently\", \"duration\": null, \"related\": false}, {\"position\": \"Manager\", \"responsibility_level\": \"Other\", \"company\": \"Family Project\", \"start_date\": \"2007-10-01\", \"end_date\": \"Currently\", \"duration\": null, \"related\": false}, {\"position\": \"Pre-Sales Support\", \"responsibility_level\": \"Intermediate\", \"company\": \"KG Glipa-Technik GmbH\", \"start_date\": \"2006-10-01\", \"end_date\": \"2007-09-01\", \"duration\": 11, \"related\": true}, {\"position\": \"Pre-Sales Support\", \"responsibility_level\": \"Intermediate\", \"company\": \"Winterhalter S.L.U\", \"start_date\": \"2005-03-01\", \"end_date\": \"2006-10-01\", \"duration\": 19, \"related\": true}, {\"position\": \"Marketing\", \"responsibility_level\": \"Intermediate\", \"company\": \"SUR\", \"start_date\": \"2004-10-01\", \"end_date\": \"2005-10-01\", \"duration\": 12, \"related\": true}, {\"position\": \"Promotor / Telesales-Rep\", \"responsibility_level\": \"Entry\", \"company\": \"SUR / Spantel\", \"start_date\": \"2004-06-01\", \"end_date\": \"2004-10-01\", \"duration\": 4, \"related\": true}, {\"position\": \"Sales Support\", \"responsibility_level\": \"Entry\", \"company\": \"Deutsche Bank\", \"start_date\": \"2003-06-01\", \"end_date\": \"2004-03-01\", \"duration\": 9, \"related\": true}, {\"position\": \"Telesales-Rep\", \"responsibility_level\": \"Entry\", \"company\": \"Boston Scientific GmbH\", \"start_date\": \"2001-04-01\", \"end_date\": \"2003-05-01\", \"duration\": 25, \"related\": true}, {\"position\": \"Sales-Rep.\", \"responsibility_level\": \"Entry\", \"company\": \"Schalker Grobblechhandel GmbH\", \"start_date\": \"2001-01-01\", \"end_date\": \"2001-03-01\", \"duration\": 2, \"related\": true}, {\"position\": \"Nurse\", \"responsibility_level\": \"Entry\", \"company\": \"Evangelisches Krankenhaus\", \"start_date\": \"1997-04-01\", \"end_date\": \"1998-07-01\", \"duration\": 15, \"related\": false}, {\"position\": \"Nurse\", \"responsibility_level\": \"Entry\", \"company\": \"St. Josef Hospital\", \"start_date\": \"1994-10-01\", \"end_date\": \"1997-03-01\", \"duration\": 29, \"related\": false}], \"languages\": [{\"language\": \"Deutsch\", \"level\": \"Native\"}, {\"language\": \"Spanisch\", \"level\": \"Advanced\"}, {\"language\": \"Englisch\", \"level\": \"Intermediate\"}]}"
        ],
        [
         "10",
         "CVANON0172",
         "{\n  \"professionality\": 6,\n  \"visual\": 5,\n  \"grammar\": 6,\n  \"ai_likelihood\": 3,\n  \"education\": [\n    {\n      \"level\": \"Master\",\n      \"field\": \"Marketing\",\n      \"related\": true,\n      \"where\": \"Medi Caps University\"\n    },\n    {\n      \"level\": \"Bachelor\",\n      \"field\": \"Marketing\",\n      \"related\": true,\n      \"where\": \"Devi Ahilya Vishwavidyalaya University\"\n    },\n    {\n      \"level\": \"Non-regulated Course\",\n      \"field\": \"Digital Marketing\",\n      \"related\": true,\n      \"where\": \"\"\n    }\n  ],\n  \"experience\": [\n    {\n      \"position\": \"Academic Advisor\",\n      \"responsibility_level\": \"Intermediate\",\n      \"company\": \"Global Alumni\",\n      \"start_date\": \"2023-08-01\",\n      \"end_date\": \"2023-09-01\",\n      \"duration\": 1,\n      \"related\": false\n    },\n    {\n      \"position\": \"Lead Generation Executive\",\n      \"responsibility_level\": \"Intermediate\",\n      \"company\": \"Neo kinetics Pvt Ltd\",\n      \"start_date\": \"2022-05-01\",\n      \"end_date\": \"2023-05-01\",\n      \"duration\": 12,\n      \"related\": true\n    },\n    {\n      \"position\": \"Sales Executive/Business Development Executive\",\n      \"responsibility_level\": \"Intermediate\",\n      \"company\": \"Srijan medi solutions Pvt ltd\",\n      \"start_date\": \"2020-07-01\",\n      \"end_date\": \"2021-10-01\",\n      \"duration\": 15,\n      \"related\": true\n    },\n    {\n      \"position\": \"Marketing Coordinator\",\n      \"responsibility_level\": \"Entry\",\n      \"company\": \"Shakti Pumps Pvt Ltd\",\n      \"start_date\": \"2019-06-01\",\n      \"end_date\": \"2019-08-01\",\n      \"duration\": 2,\n      \"related\": true\n    },\n    {\n      \"position\": \"Intern\",\n      \"responsibility_level\": \"Entry\",\n      \"company\": \"Samosys Technologies Pvt Ltd\",\n      \"start_date\": \"2018-01-01\",\n      \"end_date\": \"2018-03-01\",\n      \"duration\": 2,\n      \"related\": false\n    }\n  ],\n  \"languages\": [\n    {\n      \"language\": \"English\",\n      \"level\": \"Fluent\"\n    },\n    {\n      \"language\": \"Hindi\",\n      \"level\": \"Fluent\"\n    },\n    {\n      \"language\": \"Spanish\",\n      \"level\": \"Basic\"\n    }\n  ]\n}"
        ],
        [
         "11",
         "CVANON0007",
         "{\"professionality\": 7, \"visual\": 5, \"grammar\": 6, \"ai_likelihood\": 4, \"education\": [{\"level\": \"Secondary\", \"field\": \"General Education\", \"related\": false, \"where\": \"IES José Luis Sanpedro\"}, {\"level\": \"Bachelor\", \"field\": \"Physical Activity and Sports Science\", \"related\": false, \"where\": \"University of Delaware\"}], \"experience\": [{\"position\": \"Professional Soccer Player\", \"responsibility_level\": \"Other\", \"company\": \"RGVC TOROS & TUCSON FC\", \"start_date\": \"2018-01-01\", \"end_date\": \"2019-12-31\", \"duration\": 24, \"related\": false}, {\"position\": \"English and Support Teacher\", \"responsibility_level\": \"Entry\", \"company\": \"Academia Advance\", \"start_date\": \"2020-01-01\", \"end_date\": \"2020-08-31\", \"duration\": 8, \"related\": false}, {\"position\": \"Personal Trainer\", \"responsibility_level\": \"Intermediate\", \"company\": \"i-Motion Montecarmelo\", \"start_date\": \"2021-01-01\", \"end_date\": \"2021-07-31\", \"duration\": 7, \"related\": false}, {\"position\": \"Physical Education Teacher\", \"responsibility_level\": \"Intermediate\", \"company\": \"Colegio Internacional Santo Tomás de Aquino\", \"start_date\": \"2021-09-01\", \"end_date\": null, \"duration\": null, \"related\": false}], \"languages\": [{\"language\": \"Spanish\", \"level\": \"Native\"}, {\"language\": \"English\", \"level\": \"Fluent\"}]}"
        ],
        [
         "12",
         "CVANON0055",
         "{\n  \"professionality\": 7,\n  \"visual\": 6,\n  \"grammar\": 5,\n  \"ai_likelihood\": 4,\n  \"education\": [\n    {\n      \"level\": \"Diploma\",\n      \"field\": \"Computing Applications and Programming\",\n      \"related\": false,\n      \"where\": \"Hastings College of Arts and Technology\"\n    }\n  ],\n  \"experience\": [\n    {\n      \"position\": \"Waiter\",\n      \"responsibility_level\": \"Entry\",\n      \"company\": \"Bistro11:11\",\n      \"start_date\": \"2022-06-01\",\n      \"end_date\": null,\n      \"duration\": 17,\n      \"related\": false\n    },\n    {\n      \"position\": \"Amazon Sortation Associate\",\n      \"responsibility_level\": \"Entry\",\n      \"company\": \"Amazon Logistics\",\n      \"start_date\": \"2021-09-01\",\n      \"end_date\": \"2022-06-01\",\n      \"duration\": 9,\n      \"related\": false\n    },\n    {\n      \"position\": \"Tobacco Shop Attendant\",\n      \"responsibility_level\": \"Entry\",\n      \"company\": \"Estanco Cigarette Expendeduria Numero\",\n      \"start_date\": \"2020-01-01\",\n      \"end_date\": \"2020-04-01\",\n      \"duration\": 3,\n      \"related\": false\n    },\n    {\n      \"position\": \"Waiter and Barman\",\n      \"responsibility_level\": \"Entry\",\n      \"company\": \"Camping Villamar\",\n      \"start_date\": \"2018-10-01\",\n      \"end_date\": \"2019-10-01\",\n      \"duration\": 12,\n      \"related\": false\n    },\n    {\n      \"position\": \"Hawk Administrator\",\n      \"responsibility_level\": \"Intermediate\",\n      \"company\": \"Medica Group\",\n      \"start_date\": \"2017-09-01\",\n      \"end_date\": \"2018-07-01\",\n      \"duration\": 10,\n      \"related\": false\n    },\n    {\n      \"position\": \"Road Marker Supervisor\",\n      \"responsibility_level\": \"Manager\",\n      \"company\": \"A AND M MARKINGS LTD\",\n      \"start_date\": \"2007-05-01\",\n      \"end_date\": \"2017-02-01\",\n      \"duration\": 117,\n      \"related\": false\n    },\n    {\n      \"position\": \"International Clerk\",\n      \"responsibility_level\": \"Intermediate\",\n      \"company\": \"Barclays Bank Sales Financing\",\n      \"start_date\": \"2003-04-01\",\n      \"end_date\": \"2007-05-01\",\n      \"duration\": 49,\n      \"related\": false\n    }\n  ],\n  \"languages\": [\n    {\n      \"language\": \"English\",\n      \"level\": \"Native\"\n    },\n    {\n      \"language\": \"Spanish\",\n      \"level\": \"Basic\"\n    }\n  ]\n}"
        ],
        [
         "13",
         "CVANON0261",
         "{\"professionality\": 6, \"visual\": 5, \"grammar\": 7, \"ai_likelihood\": 5, \"education\": [{\"level\": \"Bachelor\", \"field\": \"Communication Studies\", \"related\": false, \"where\": \"Western Washington University\"}, {\"level\": \"Bachelor\", \"field\": \"Spanish Language Studies\", \"related\": false, \"where\": \"Western Washington University\"}], \"experience\": [{\"position\": \"Business English Teacher\", \"responsibility_level\": \"Intermediate\", \"company\": \"Blue Parrot Language School & Native Professional Teachers Academy\", \"start_date\": \"2022-01-01\", \"end_date\": null, \"duration\": null, \"related\": false}, {\"position\": \"English Conversation Teacher\", \"responsibility_level\": \"Intermediate\", \"company\": \"Spanish Public High Schools\", \"start_date\": \"2018-01-01\", \"end_date\": \"2022-01-01\", \"duration\": 48, \"related\": false}, {\"position\": \"Administrative Assistant, Concert Project Manager, & Musician\", \"responsibility_level\": \"Intermediate\", \"company\": \"Gigs4U Concert Productions\", \"start_date\": \"2016-01-01\", \"end_date\": \"2018-01-01\", \"duration\": 24, \"related\": false}, {\"position\": \"Rentals Coordinator & Assistant Talent Buyer\", \"responsibility_level\": \"Intermediate\", \"company\": \"The Vera Project All-Ages Non-Profit Organization\", \"start_date\": \"2017-01-01\", \"end_date\": \"2018-01-01\", \"duration\": 12, \"related\": false}, {\"position\": \"Program Manager & Coordinator\", \"responsibility_level\": \"Intermediate\", \"company\": \"Associated Students Productions\", \"start_date\": \"2015-01-01\", \"end_date\": \"2016-01-01\", \"duration\": 12, \"related\": false}], \"languages\": [{\"language\": \"English\", \"level\": \"Fluent\"}, {\"language\": \"Spanish\", \"level\": \"Fluent\"}, {\"language\": \"Farsi\", \"level\": \"Basic\"}]}"
        ],
        [
         "14",
         "CVANON0011",
         "{\"professionality\": 7, \"visual\": 6, \"grammar\": 7, \"ai_likelihood\": 5, \"education\": [{\"level\": \"Bachelor\", \"field\": \"German Philology\", \"related\": false, \"where\": \"Unnamed University\"}], \"experience\": [{\"position\": \"Video Agent\", \"responsibility_level\": \"Entry\", \"company\": \"Branddocs\", \"start_date\": \"2022-05-01\", \"end_date\": null, \"duration\": null, \"related\": false}, {\"position\": \"HR worker\", \"responsibility_level\": \"Intermediate\", \"company\": \"Prosenior24\", \"start_date\": \"2017-11-01\", \"end_date\": null, \"duration\": null, \"related\": false}], \"languages\": [{\"language\": \"Spanish\", \"level\": \"Intermediate\"}, {\"language\": \"English\", \"level\": \"Advanced\"}, {\"language\": \"German\", \"level\": \"Intermediate\"}, {\"language\": \"Polish\", \"level\": \"Native\"}]}"
        ],
        [
         "15",
         "CVANON0255",
         "{\"professionality\": 6, \"visual\": 4, \"grammar\": 7, \"ai_likelihood\": 3, \"education\": [{\"level\": \"Secondary\", \"field\": \"General\", \"related\": false, \"where\": \"Winford High School, Leiden\"}], \"experience\": [{\"position\": \"Barman/Waiter\", \"responsibility_level\": \"Entry\", \"company\": \"Taberna de Jarana\", \"start_date\": \"2022-09-01\", \"end_date\": \"2023-05-01\", \"duration\": 8, \"related\": false}, {\"position\": \"Meal Deliverer and Manager\", \"responsibility_level\": \"Manager\", \"company\": \"Maciotto\", \"start_date\": \"2019-04-01\", \"end_date\": \"2022-08-01\", \"duration\": 40, \"related\": false}, {\"position\": \"Stock Clerk\", \"responsibility_level\": \"Entry\", \"company\": \"Albert Heijn Supermarket\", \"start_date\": \"2017-09-01\", \"end_date\": \"2018-12-01\", \"duration\": 15, \"related\": false}], \"languages\": [{\"language\": \"Dutch\", \"level\": \"Native\"}, {\"language\": \"English\", \"level\": \"Fluent\"}, {\"language\": \"Spanish\", \"level\": \"Advanced\"}, {\"language\": \"German\", \"level\": \"Basic\"}]}"
        ],
        [
         "16",
         "CVANON0083",
         "{\"professionality\": 7, \"visual\": 6, \"grammar\": 7, \"ai_likelihood\": 6, \"education\": [{\"level\": \"Bachelor\", \"field\": \"English\", \"related\": false, \"where\": \"University of Limerick\"}], \"experience\": [{\"position\": \"Catering Assistant\", \"responsibility_level\": \"Entry\", \"company\": \"Supermacs\", \"start_date\": \"2020-10-01\", \"end_date\": \"2021-07-01\", \"duration\": 9, \"related\": false}, {\"position\": \"Tourism Intern\", \"responsibility_level\": \"Entry\", \"company\": \"Mayo County Council\", \"start_date\": \"2019-01-01\", \"end_date\": \"2019-08-01\", \"duration\": 7, \"related\": false}], \"languages\": [{\"language\": \"English\", \"level\": \"Native\"}, {\"language\": \"Spanish\", \"level\": \"Basic\"}]}"
        ],
        [
         "17",
         "CVANON0183",
         "{\n  \"professionality\": 8,\n  \"visual\": 7,\n  \"grammar\": 9,\n  \"ai_likelihood\": 5,\n  \"education\": [\n    {\n      \"level\": \"Master\",\n      \"field\": \"Digital Marketing, Social Media and Communication\",\n      \"related\": true,\n      \"where\": \"Universidad Camilo Jose Cela\"\n    },\n    {\n      \"level\": \"Bachelor\",\n      \"field\": \"International Commerce and Marketing\",\n      \"related\": true,\n      \"where\": \"Universidad de Oviedo\"\n    }\n  ],\n  \"experience\": [\n    {\n      \"position\": \"Marketing Executive\",\n      \"responsibility_level\": \"Executive\",\n      \"company\": \"Grupo Edelvives\",\n      \"start_date\": \"2022-10-01\",\n      \"end_date\": \"2023-11-01\",\n      \"duration\": 13,\n      \"related\": true\n    },\n    {\n      \"position\": \"Social Media & Content for Virtual Brands Specialist\",\n      \"responsibility_level\": \"Senior\",\n      \"company\": \"Delivery Hero\",\n      \"start_date\": \"2022-01-01\",\n      \"end_date\": \"2022-10-01\",\n      \"duration\": 9,\n      \"related\": true\n    },\n    {\n      \"position\": \"Senior Global Marketing Insights Associate\",\n      \"responsibility_level\": \"Senior\",\n      \"company\": \"Atheneum Partners\",\n      \"start_date\": \"2020-01-01\",\n      \"end_date\": \"2022-01-01\",\n      \"duration\": 24,\n      \"related\": true\n    },\n    {\n      \"position\": \"Project Manager\",\n      \"responsibility_level\": \"Manager\",\n      \"company\": \"Global Perspectives\",\n      \"start_date\": \"2019-07-01\",\n      \"end_date\": \"2020-01-01\",\n      \"duration\": 6,\n      \"related\": false\n    },\n    {\n      \"position\": \"Communications Assistant\",\n      \"responsibility_level\": \"Entry\",\n      \"company\": \"Zesto Digital\",\n      \"start_date\": \"2018-09-01\",\n      \"end_date\": \"2019-06-01\",\n      \"duration\": 9,\n      \"related\": true\n    }\n  ],\n  \"languages\": [\n    {\n      \"language\": \"English\",\n      \"level\": \"Native\"\n    },\n    {\n      \"language\": \"Spanish\",\n      \"level\": \"Native\"\n    }\n  ]\n}"
        ],
        [
         "18",
         "CVANON0243",
         "{\"professionality\": 3, \"visual\": 2, \"grammar\": 4, \"ai_likelihood\": 5, \"education\": [{\"level\": \"Secondary\", \"field\": \"General\", \"related\": false, \"where\": \"Not Specified\"}], \"experience\": [], \"languages\": [{\"language\": \"Spanish\", \"level\": \"Advanced\"}, {\"language\": \"Inglés\", \"level\": \"Nativo\"}, {\"language\": \"Alemán\", \"level\": \"Nativo\"}, {\"language\": \"Francés\", \"level\": \"Básico\"}, {\"language\": \"Latin\", \"level\": \"Intermedio\"}]}"
        ],
        [
         "19",
         "CVANON0313",
         "{\"professionality\": 6, \"visual\": 5, \"grammar\": 5, \"ai_likelihood\": 4, \"education\": [{\"level\": \"Master\", \"field\": \"Theology and Philosophy\", \"related\": false, \"where\": \"Mater Dei Institute Dublin\"}, {\"level\": \"Non-regulated Course\", \"field\": \"Advanced Jira\", \"related\": false, \"where\": \"Udemy\"}, {\"level\": \"Non-regulated Course\", \"field\": \"Advanced Excel\", \"related\": false, \"where\": \"IBM\"}, {\"level\": \"Non-regulated Course\", \"field\": \"Advanced Computer Science\", \"related\": false, \"where\": \"Google Certification\"}], \"experience\": [{\"position\": \"Profesor de inglés\", \"responsibility_level\": \"Intermediate\", \"company\": \"Colegio Alameda de Osuna\", \"start_date\": \"2021-09-01\", \"end_date\": \"2024-07-31\", \"duration\": 34, \"related\": false}, {\"position\": \"Profesor de Inglés\", \"responsibility_level\": \"Intermediate\", \"company\": \"Colegio St Michael (Villanueva de la Cañada)\", \"start_date\": \"2014-09-01\", \"end_date\": \"2021-07-31\", \"duration\": 82, \"related\": false}, {\"position\": \"Ayudante de camarero/a\", \"responsibility_level\": \"Entry\", \"company\": \"COSTA\", \"start_date\": \"2008-02-01\", \"end_date\": \"2008-08-31\", \"duration\": 6, \"related\": false}], \"languages\": [{\"language\": \"Spanish\", \"level\": \"Intermediate\"}, {\"language\": \"English\", \"level\": \"Native\"}]}"
        ],
        [
         "20",
         "CVANON0299",
         "{\"professionality\": 4, \"visual\": 3, \"grammar\": 4, \"ai_likelihood\": 2, \"education\": [{\"level\": \"Secondary\", \"field\": \"General Education\", \"related\": false, \"where\": \"Leppavaara High School\"}, {\"level\": \"Secondary\", \"field\": \"General Education\", \"related\": false, \"where\": \"German School Of Helsinki\"}], \"experience\": [{\"position\": \"Temporary worker, Grocery store employer\", \"responsibility_level\": \"Entry\", \"company\": \"Eezy OY\", \"start_date\": \"2022-06-01\", \"end_date\": \"\", \"duration\": 17, \"related\": false}, {\"position\": \"Expert and youth trainer\", \"responsibility_level\": \"Intermediate\", \"company\": \"Association for Cultural Relations, Finland\", \"start_date\": \"2023-02-01\", \"end_date\": \"2024-08-01\", \"duration\": 18, \"related\": false}, {\"position\": \"School assistant\", \"responsibility_level\": \"Entry\", \"company\": \"Alter Teichweg — school, Hamburg/Germany\", \"start_date\": \"2021-09-01\", \"end_date\": \"2022-03-01\", \"duration\": 6, \"related\": false}, {\"position\": \"After school club leader\", \"responsibility_level\": \"Intermediate\", \"company\": \"St. Pauli — School, Hamburg/Germany\", \"start_date\": \"2021-09-01\", \"end_date\": \"2022-03-01\", \"duration\": 6, \"related\": false}, {\"position\": \"Grocery store employer\", \"responsibility_level\": \"Entry\", \"company\": \"Rewe BarnerstraBe, Hamburg/Germany\", \"start_date\": \"2021-02-01\", \"end_date\": \"2021-07-01\", \"duration\": 5, \"related\": false}, {\"position\": \"Grocery store employer\", \"responsibility_level\": \"Entry\", \"company\": \"Rewe Westerland Sylt/Saksa\", \"start_date\": \"2019-09-01\", \"end_date\": \"2020-09-01\", \"duration\": 12, \"related\": false}, {\"position\": \"After school club leader\", \"responsibility_level\": \"Intermediate\", \"company\": \"German School Of Helsinki\", \"start_date\": \"2019-04-01\", \"end_date\": \"2019-06-01\", \"duration\": 2, \"related\": false}, {\"position\": \"Pre-school teacher, Civil service\", \"responsibility_level\": \"Entry\", \"company\": \"German School Of Helsinki\", \"start_date\": \"2018-08-01\", \"end_date\": \"2019-03-01\", \"duration\": 7, \"related\": false}, {\"position\": \"Grocery store employer\", \"responsibility_level\": \"Entry\", \"company\": \"Sky Sylt/(Germany\", \"start_date\": \"2018-07-01\", \"end_date\": \"2018-07-31\", \"duration\": 1, \"related\": false}, {\"position\": \"Civil service\", \"responsibility_level\": \"Entry\", \"company\": \"Lyhty ry\", \"start_date\": \"2018-05-03\", \"end_date\": \"2018-06-21\", \"duration\": 2, \"related\": false}], \"languages\": [{\"language\": \"Finnish\", \"level\": \"Fluent\"}, {\"language\": \"German\", \"level\": \"Fluent\"}, {\"language\": \"English\", \"level\": \"Basic\"}, {\"language\": \"Swedish\", \"level\": \"Intermediate\"}]}"
        ],
        [
         "21",
         "CVANON0204",
         "{\"professionality\": 8, \"visual\": 6, \"grammar\": 8, \"ai_likelihood\": 5, \"education\": [{\"level\": \"Bachelor\", \"field\": \"Psychology\", \"related\": false, \"where\": \"Universidad Bicentenaria de Aragua\"}, {\"level\": \"Diploma\", \"field\": \"Industrial and Organizational Psychology\", \"related\": true, \"where\": \"Universidad Bicentenaria de Aragua\"}], \"experience\": [{\"position\": \"Human Resources Recruiter\", \"responsibility_level\": \"Intermediate\", \"company\": \"Not specified\", \"start_date\": \"2023-11-01\", \"end_date\": \"\", \"duration\": null, \"related\": true}, {\"position\": \"Senior Recruitment Consultant (RPO)\", \"responsibility_level\": \"Senior\", \"company\": \"Not specified\", \"start_date\": \"2022-01-01\", \"end_date\": \"2022-10-01\", \"duration\": 9, \"related\": true}, {\"position\": \"Mid-level IT Recruiter\", \"responsibility_level\": \"Intermediate\", \"company\": \"HAYS\", \"start_date\": \"2021-08-01\", \"end_date\": \"2021-12-31\", \"duration\": 5, \"related\": false}, {\"position\": \"Talent Acquisition Recruiter\", \"responsibility_level\": \"Senior\", \"company\": \"Not specified\", \"start_date\": \"2020-09-01\", \"end_date\": \"2021-08-31\", \"duration\": 12, \"related\": true}, {\"position\": \"Business Psychologist - Manager (Talent Acquisition/OSHA)\", \"responsibility_level\": \"Manager\", \"company\": \"SARGO LTDA\", \"start_date\": \"2017-01-01\", \"end_date\": \"2017-12-31\", \"duration\": 12, \"related\": false}, {\"position\": \"Investigator - Forensic Psychologist\", \"responsibility_level\": \"Intermediate\", \"company\": \"Direccién Nacional de Apoyo Técnico Pericial Venezuela (Defensa Publica)\", \"start_date\": \"2017-01-01\", \"end_date\": \"2017-12-31\", \"duration\": 12, \"related\": false}], \"languages\": [{\"language\": \"Spanish\", \"level\": \"Native\"}, {\"language\": \"English\", \"level\": \"Fluent\"}, {\"language\": \"French\", \"level\": \"Basic\"}]}"
        ],
        [
         "22",
         "CVANON0319",
         "{\"professionality\": 7, \"visual\": 6, \"grammar\": 8, \"ai_likelihood\": 5, \"education\": [{\"level\": \"International Baccalaureate\", \"field\": \"General\", \"related\": false, \"where\": \"International School\"}, {\"level\": \"Bachelor\", \"field\": \"International Business\", \"related\": true, \"where\": \"Maastricht University\"}], \"experience\": [{\"position\": \"Assistant Intern\", \"responsibility_level\": \"Entry\", \"company\": \"Giugiaro Architettura\", \"start_date\": \"2018-06-01\", \"end_date\": \"2018-06-30\", \"duration\": 0, \"related\": false}, {\"position\": \"Volunteer\", \"responsibility_level\": \"Entry\", \"company\": \"Dog adoption center\", \"start_date\": \"2022-09-01\", \"end_date\": \"2022-09-30\", \"duration\": 0, \"related\": false}, {\"position\": \"Exchange student\", \"responsibility_level\": \"Other\", \"company\": \"University of Zagreb\", \"start_date\": \"2024-02-01\", \"end_date\": \"2024-07-01\", \"duration\": 5, \"related\": false}], \"languages\": [{\"language\": \"English\", \"level\": \"Native\"}, {\"language\": \"Italian\", \"level\": \"Intermediate\"}, {\"language\": \"Afrikaans\", \"level\": \"Intermediate\"}, {\"language\": \"German\", \"level\": \"Basic\"}, {\"language\": \"Spanish\", \"level\": \"Basic\"}]}"
        ],
        [
         "23",
         "CVANON0306",
         "{\"professionality\": 7, \"visual\": 5, \"grammar\": 6, \"ai_likelihood\": 3, \"education\": [], \"experience\": [{\"position\": \"Medical Fitness Coach\", \"responsibility_level\": \"Manager\", \"company\": \"Self Employed\", \"start_date\": \"2021-05-01\", \"end_date\": \"Present\", \"duration\": null, \"related\": false}, {\"position\": \"Professional Musician\", \"responsibility_level\": \"Manager\", \"company\": \"Self Employed\", \"start_date\": \"2015-05-01\", \"end_date\": \"Present\", \"duration\": null, \"related\": false}, {\"position\": \"Lead Barista\", \"responsibility_level\": \"Manager\", \"company\": \"Macaronnerie\", \"start_date\": \"2012-02-01\", \"end_date\": \"2017-02-01\", \"duration\": 60, \"related\": false}], \"languages\": [{\"language\": \"German\", \"level\": \"Native\"}, {\"language\": \"English\", \"level\": \"Proficient\"}, {\"language\": \"Spanish\", \"level\": \"Intermediate\"}]}"
        ],
        [
         "24",
         "CVANON0120",
         "{\n  \"professionality\": 8,\n  \"visual\": 7,\n  \"grammar\": 9,\n  \"ai_likelihood\": 5,\n  \"education\": [\n    {\n      \"level\": \"Master\",\n      \"field\": \"International Management\",\n      \"related\": true,\n      \"where\": \"Esade Business & Law School, Ramon Llull University\"\n    },\n    {\n      \"level\": \"Bachelor\",\n      \"field\": \"Philosophy\",\n      \"related\": false,\n      \"where\": \"University College London\"\n    },\n    {\n      \"level\": \"Preparatory\",\n      \"field\": \"International Baccalaureate\",\n      \"related\": false,\n      \"where\": \"Repton School Dubai\"\n    }\n  ],\n  \"experience\": [\n    {\n      \"position\": \"Project Manager\",\n      \"responsibility_level\": \"Intermediate\",\n      \"company\": \"Selectra\",\n      \"start_date\": \"2022-12-01\",\n      \"end_date\": \"2023-06-01\",\n      \"duration\": 6,\n      \"related\": true\n    },\n    {\n      \"position\": \"Marketing Intern\",\n      \"responsibility_level\": \"Entry\",\n      \"company\": \"Maison Santé\",\n      \"start_date\": \"2021-01-01\",\n      \"end_date\": \"2021-02-01\",\n      \"duration\": 1,\n      \"related\": true\n    },\n    {\n      \"position\": \"Procurement Executive (Internship)\",\n      \"responsibility_level\": \"Entry\",\n      \"company\": \"Al Oufouk Company\",\n      \"start_date\": \"2021-04-01\",\n      \"end_date\": \"2021-05-01\",\n      \"duration\": 1,\n      \"related\": true\n    }\n  ],\n  \"languages\": [\n    {\n      \"language\": \"German\",\n      \"level\": \"Native\"\n    },\n    {\n      \"language\": \"Spanish\",\n      \"level\": \"Native\"\n    },\n    {\n      \"language\": \"English\",\n      \"level\": \"Native\"\n    },\n    {\n      \"language\": \"French\",\n      \"level\": \"Intermediate\"\n    }\n  ]\n}"
        ],
        [
         "25",
         "CVANON0245",
         "{\"professionality\": 7, \"visual\": 6, \"grammar\": 5, \"ai_likelihood\": 3, \"education\": [{\"level\": \"Bachelor\", \"field\": \"Tourism\", \"related\": true, \"where\": \"UNIVERSIDAD DE VALLADOLID\"}, {\"level\": \"Bachelor\", \"field\": \"Business\", \"related\": true, \"where\": \"UNIVERSIDAD AUTONOMA DE MADRID\"}, {\"level\": \"Secondary\", \"field\": \"Economics\", \"related\": false, \"where\": \"LYCEE FRANCAIS DE MADRID\"}], \"experience\": [{\"position\": \"Customer Experience\", \"responsibility_level\": \"Intermediate\", \"company\": \"Telco - Toyota\", \"start_date\": \"2022-06-01\", \"end_date\": null, \"duration\": null, \"related\": true}, {\"position\": \"Customer Service\", \"responsibility_level\": \"Intermediate\", \"company\": \"Telco - Movistar\", \"start_date\": \"2021-12-01\", \"end_date\": \"2022-06-01\", \"duration\": 6, \"related\": true}, {\"position\": \"Administrative\", \"responsibility_level\": \"Entry\", \"company\": \"Academia Apir\", \"start_date\": \"2021-06-01\", \"end_date\": \"2022-01-01\", \"duration\": 7, \"related\": false}], \"languages\": [{\"language\": \"Spanish\", \"level\": \"Native\"}, {\"language\": \"French\", \"level\": \"Fluent\"}, {\"language\": \"English\", \"level\": \"Intermediate\"}]}"
        ],
        [
         "26",
         "CVANON0305",
         "{\n  \"professionality\": 8,\n  \"visual\": 7,\n  \"grammar\": 8,\n  \"ai_likelihood\": 5,\n  \"education\": [\n    {\n      \"level\": \"Bachelor\",\n      \"field\": \"Geology\",\n      \"related\": false,\n      \"where\": \"National University of Comahue / University of Granada, Spain\"\n    }\n  ],\n  \"experience\": [\n    {\n      \"position\": \"Receptionist and Customer Service\",\n      \"responsibility_level\": \"Intermediate\",\n      \"company\": \"Alborea Flamenco Theater and Souvenir Store\",\n      \"start_date\": \"2023-07-01\",\n      \"end_date\": \"Present\",\n      \"duration\": null,\n      \"related\": true\n    },\n    {\n      \"position\": \"Senior Communications Manager\",\n      \"responsibility_level\": \"Senior\",\n      \"company\": \"Pharmacy and Beauty Cosmetics Store Fypneuquen\",\n      \"start_date\": \"2020-03-01\",\n      \"end_date\": \"2023-02-01\",\n      \"duration\": 35,\n      \"related\": true\n    },\n    {\n      \"position\": \"Administrative Assistant and Project Coordinator\",\n      \"responsibility_level\": \"Intermediate\",\n      \"company\": \"Patagonian Foundation for Studies\",\n      \"start_date\": \"2019-05-01\",\n      \"end_date\": \"2020-03-01\",\n      \"duration\": 10,\n      \"related\": false\n    },\n    {\n      \"position\": \"President\",\n      \"responsibility_level\": \"Executive\",\n      \"company\": \"American Association of Petroleum Geologists Student Chapter\",\n      \"start_date\": \"2017-01-01\",\n      \"end_date\": \"2019-01-01\",\n      \"duration\": 24,\n      \"related\": false\n    },\n    {\n      \"position\": \"Customer Service Representative\",\n      \"responsibility_level\": \"Entry\",\n      \"company\": \"Hy Cite Finance\",\n      \"start_date\": \"2015-02-01\",\n      \"end_date\": \"2018-08-01\",\n      \"duration\": 42,\n      \"related\": true\n    }\n  ],\n  \"languages\": [\n    {\n      \"language\": \"Spanish\",\n      \"level\": \"Native\"\n    },\n    {\n      \"language\": \"English\",\n      \"level\": \"Fluent\"\n    },\n    {\n      \"language\": \"French\",\n      \"level\": \"Advanced\"\n    },\n    {\n      \"language\": \"Japanese\",\n      \"level\": \"Intermediate\"\n    }\n  ]\n}"
        ],
        [
         "27",
         "CVANON0128",
         "{\"professionality\": 6, \"visual\": 5, \"grammar\": 7, \"ai_likelihood\": 5, \"education\": [], \"experience\": [{\"position\": \"Sales Agent + SEO & Content Specialist\", \"responsibility_level\": \"Intermediate\", \"company\": \"Selectra\", \"start_date\": \"2020-02-01\", \"end_date\": \"2022-01-01\", \"duration\": 23, \"related\": true}], \"languages\": [{\"language\": \"English\", \"level\": \"Native\"}]}"
        ],
        [
         "28",
         "CVANON0225",
         "{\"professionality\": 7, \"visual\": 5, \"grammar\": 6, \"ai_likelihood\": 5, \"education\": [], \"experience\": [{\"position\": \"Internationale import & export planner\", \"responsibility_level\": \"Intermediate\", \"company\": \"TECNIRUTA-CONCISA S.A.\", \"start_date\": \"2022-01-01\", \"end_date\": \"Present\", \"duration\": null, \"related\": false}, {\"position\": \"Administratief medewerkster\", \"responsibility_level\": \"Entry\", \"company\": \"IVC OUTSOURCING CVI S.L.\", \"start_date\": \"2021-01-01\", \"end_date\": \"2022-01-01\", \"duration\": 12, \"related\": false}, {\"position\": \"Office Manager\", \"responsibility_level\": \"Manager\", \"company\": \"Bebanjo S.L.\", \"start_date\": \"2012-01-01\", \"end_date\": \"2018-01-01\", \"duration\": 72, \"related\": false}, {\"position\": \"Diverse functies\", \"responsibility_level\": \"Other\", \"company\": \"Ministerie van Defensie\", \"start_date\": \"1996-01-01\", \"end_date\": \"2010-01-01\", \"duration\": 168, \"related\": false}, {\"position\": \"Disponente\", \"responsibility_level\": \"Intermediate\", \"company\": \"HAPAG-LLOYD Rotterdam\", \"start_date\": \"1989-01-01\", \"end_date\": \"1996-01-01\", \"duration\": 84, \"related\": false}, {\"position\": \"Wegtransportmedewerkster\", \"responsibility_level\": \"Entry\", \"company\": \"DCD Nederland B.V.\", \"start_date\": \"1985-01-01\", \"end_date\": \"1989-01-01\", \"duration\": 48, \"related\": false}], \"languages\": []}"
        ],
        [
         "29",
         "CVANON0265",
         "{\"professionality\": 6, \"visual\": 5, \"grammar\": 7, \"ai_likelihood\": 5, \"education\": [{\"level\": \"Non-regulated Course\", \"field\": \"Combat and security\", \"related\": false, \"where\": \"Defensie, Brussels\"}, {\"level\": \"Secondary\", \"field\": \"Artistic Education/Publicity\", \"related\": false, \"where\": \"Fransesco Paviljoen, Herentals, Belgium\"}, {\"level\": \"Secondary\", \"field\": \"Modern (ASO)\", \"related\": false, \"where\": \"IHHVM, Berlaar, Belgium\"}], \"experience\": [{\"position\": \"Game Presenter / Croupier\", \"responsibility_level\": \"Entry\", \"company\": \"Evolution\", \"start_date\": \"2022-11-01\", \"end_date\": \"\", \"duration\": 0, \"related\": false}, {\"position\": \"Bartender\", \"responsibility_level\": \"Entry\", \"company\": \"Stereo Beach Club\", \"start_date\": \"2022-06-01\", \"end_date\": \"2022-10-01\", \"duration\": 4, \"related\": false}, {\"position\": \"Manager/Bartender/Kitchen Helper\", \"responsibility_level\": \"Manager\", \"company\": \"De Seats\", \"start_date\": \"2013-06-01\", \"end_date\": \"2022-05-01\", \"duration\": 107, \"related\": false}], \"languages\": [{\"language\": \"Dutch\", \"level\": \"Native\"}, {\"language\": \"Flemish\", \"level\": \"Native\"}, {\"language\": \"English\", \"level\": \"Fluent\"}, {\"language\": \"Spanish\", \"level\": \"Intermediate\"}, {\"language\": \"French\", \"level\": \"Intermediate\"}, {\"language\": \"German\", \"level\": \"Basic\"}]}"
        ],
        [
         "30",
         "CVANON0023",
         "{\"professionality\": 6, \"visual\": 5, \"grammar\": 5, \"ai_likelihood\": 4, \"education\": [{\"level\": \"Other\", \"field\": \"Language Correspondence\", \"related\": false, \"where\": \"Academia de Lenguas Eilert, Osnabrück, Germany\"}], \"experience\": [{\"position\": \"Business Development Representative B2B\", \"responsibility_level\": \"Entry\", \"company\": \"TEDi Comercio\", \"start_date\": \"2022-04-01\", \"end_date\": \"\", \"duration\": 4, \"related\": true}, {\"position\": \"Administrative Assistant\", \"responsibility_level\": \"Entry\", \"company\": \"TEDi\", \"start_date\": \"2020-06-01\", \"end_date\": \"2022-04-01\", \"duration\": 22, \"related\": false}, {\"position\": \"Administrative Assistant\", \"responsibility_level\": \"Entry\", \"company\": \"Centro de Medicina Neuro-regenerativa\", \"start_date\": \"2018-10-01\", \"end_date\": \"2020-06-01\", \"duration\": 20, \"related\": false}, {\"position\": \"Secretary\", \"responsibility_level\": \"Entry\", \"company\": \"Empresa de transportes\", \"start_date\": \"2018-07-01\", \"end_date\": \"2018-10-01\", \"duration\": 3, \"related\": false}, {\"position\": \"Waitress\", \"responsibility_level\": \"Entry\", \"company\": \"Restaurante Teutonenhof Vinsebeck\", \"start_date\": \"2017-11-01\", \"end_date\": \"2018-03-01\", \"duration\": 4, \"related\": false}, {\"position\": \"Receptionist\", \"responsibility_level\": \"Entry\", \"company\": \"Firma BABION, Schwalenberg\", \"start_date\": \"2017-10-01\", \"end_date\": \"2018-01-01\", \"duration\": 3, \"related\": false}, {\"position\": \"Bar Waitress\", \"responsibility_level\": \"Entry\", \"company\": \"Discoteca Alando Palais, Osnabrück\", \"start_date\": \"2016-09-01\", \"end_date\": \"2017-08-01\", \"duration\": 11, \"related\": false}], \"languages\": [{\"language\": \"Spanish\", \"level\": \"Advanced\"}, {\"language\": \"English\", \"level\": \"Advanced\"}, {\"language\": \"German\", \"level\": \"Native\"}, {\"language\": \"French\", \"level\": \"Basic\"}]}"
        ],
        [
         "31",
         "CVANON0326",
         "{\n  \"professionality\": 7,\n  \"visual\": 5,\n  \"grammar\": 6,\n  \"ai_likelihood\": 2,\n  \"education\": [\n    {\n      \"level\": \"Diploma\",\n      \"field\": \"Music Technology\",\n      \"related\": false,\n      \"where\": \"Stoke-on-Trent Cauldon Campus\"\n    },\n    {\n      \"level\": \"Diploma\",\n      \"field\": \"English Literature\",\n      \"related\": false,\n      \"where\": \"Stoke-on-Trent College\"\n    }\n  ],\n  \"experience\": [\n    {\n      \"position\": \"Team Leader and Trainer for Housekeeping Crew\",\n      \"responsibility_level\": \"Manager\",\n      \"company\": \"Numa Hotels\",\n      \"start_date\": \"2023-12-01\",\n      \"end_date\": \"2024-09-01\",\n      \"duration\": 9,\n      \"related\": false\n    },\n    {\n      \"position\": \"Team Leader for BillPay\",\n      \"responsibility_level\": \"Manager\",\n      \"company\": \"Sykes\",\n      \"start_date\": \"2021-08-01\",\n      \"end_date\": \"2023-07-01\",\n      \"duration\": 23,\n      \"related\": false\n    },\n    {\n      \"position\": \"Customer Service Agent for Klarna\",\n      \"responsibility_level\": \"Intermediate\",\n      \"company\": \"Sykes\",\n      \"start_date\": \"2020-09-01\",\n      \"end_date\": \"2021-07-01\",\n      \"duration\": 10,\n      \"related\": true\n    },\n    {\n      \"position\": \"Wayfair Office Receptionist\",\n      \"responsibility_level\": \"Entry\",\n      \"company\": \"HBC Services\",\n      \"start_date\": \"2020-01-01\",\n      \"end_date\": \"2020-04-01\",\n      \"duration\": 3,\n      \"related\": false\n    },\n    {\n      \"position\": \"Receptionist\",\n      \"responsibility_level\": \"Entry\",\n      \"company\": \"BeSound Hostel\",\n      \"start_date\": \"2017-09-01\",\n      \"end_date\": \"2019-08-01\",\n      \"duration\": 23,\n      \"related\": false\n    },\n    {\n      \"position\": \"Technical Support Analyst for Sanofi US\",\n      \"responsibility_level\": \"Intermediate\",\n      \"company\": \"Computacenter\",\n      \"start_date\": \"2015-11-01\",\n      \"end_date\": \"2017-05-01\",\n      \"duration\": 18,\n      \"related\": false\n    },\n    {\n      \"position\": \"Technical Support\",\n      \"responsibility_level\": \"Entry\",\n      \"company\": \"Teleperformance Portugal\",\n      \"start_date\": \"2013-08-01\",\n      \"end_date\": \"2015-04-01\",\n      \"duration\": 20,\n      \"related\": false\n    },\n    {\n      \"position\": \"HR Administrator\",\n      \"responsibility_level\": \"Intermediate\",\n      \"company\": \"Xerox\",\n      \"start_date\": \"2013-04-01\",\n      \"end_date\": \"2013-07-01\",\n      \"duration\": 3,\n      \"related\": false\n    },\n    {\n      \"position\": \"Hotel Reservations Agent\",\n      \"responsibility_level\": \"Entry\",\n      \"company\": \"CPM International\",\n      \"start_date\": \"2009-12-01\",\n      \"end_date\": \"2012-01-01\",\n      \"duration\": 25,\n      \"related\": false\n    }\n  ],\n  \"languages\": [\n    {\n      \"language\": \"English\",\n      \"level\": \"Native\"\n    },\n    {\n      \"language\": \"Spanish\",\n      \"level\": \"Intermediate\"\n    },\n    {\n      \"language\": \"German\",\n      \"level\": \"Intermediate\"\n    }\n  ]\n}"
        ],
        [
         "32",
         "CVANON0203",
         "{\"professionality\": 3, \"visual\": 2, \"grammar\": 2, \"ai_likelihood\": 1, \"education\": [{\"level\": \"Preparatory\", \"field\": \"General Studies\", \"related\": false, \"where\": \"Colegio Americano Madrid\"}, {\"level\": \"Bachelor\", \"field\": \"CAFYD\", \"related\": false, \"where\": \"Umiversidad Francisco de Vitoria, Po lo, Madrid\"}], \"experience\": [{\"position\": \"Profesora de Ingles\", \"responsibility_level\": \"Other\", \"company\": \"\", \"start_date\": \"\", \"end_date\": \"\", \"duration\": 0, \"related\": false}, {\"position\": \"Cajera de Supermercado\", \"responsibility_level\": \"Entry\", \"company\": \"BM Supermercados\", \"start_date\": \"\", \"end_date\": \"\", \"duration\": 0, \"related\": false}, {\"position\": \"Personal Sala y Cocina\", \"responsibility_level\": \"Entry\", \"company\": \"Bombom Boss\", \"start_date\": \"\", \"end_date\": \"\", \"duration\": 0, \"related\": false}, {\"position\": \"Camarera\", \"responsibility_level\": \"Entry\", \"company\": \"PuroEgo\", \"start_date\": \"\", \"end_date\": \"\", \"duration\": 0, \"related\": false}, {\"position\": \"Administrativa\", \"responsibility_level\": \"Intermediate\", \"company\": \"Punto Moto\", \"start_date\": \"\", \"end_date\": \"\", \"duration\": 0, \"related\": false}], \"languages\": []}"
        ],
        [
         "33",
         "CVANON0295",
         "{\"professionality\": 7, \"visual\": 6, \"grammar\": 8, \"ai_likelihood\": 5, \"education\": [{\"level\": \"Bachelor\", \"field\": \"Economics\", \"related\": false, \"where\": \"Florida International University\"}, {\"level\": \"Preparatory\", \"field\": \"General Studies\", \"related\": false, \"where\": \"International Studies Preparatory Academy\"}], \"experience\": [{\"position\": \"Asistente\", \"responsibility_level\": \"Entry\", \"company\": \"Biscayne Fresh Group LLC Key\", \"start_date\": \"2019-11-01\", \"end_date\": \"2024-08-21\", \"duration\": 57, \"related\": false}, {\"position\": \"Becario de investigacion\", \"responsibility_level\": \"Entry\", \"company\": \"StratEdge Quant Investors\", \"start_date\": \"2021-04-01\", \"end_date\": \"2021-09-01\", \"duration\": 5, \"related\": false}], \"languages\": [{\"language\": \"German\", \"level\": \"Basic\"}, {\"language\": \"English\", \"level\": \"Native\"}, {\"language\": \"Spanish\", \"level\": \"Native\"}]}"
        ],
        [
         "34",
         "CVANON0212",
         "{\"professionality\": 7, \"visual\": 6, \"grammar\": 7, \"ai_likelihood\": 5, \"education\": [{\"level\": \"Master\", \"field\": \"Business Administration\", \"related\": true, \"where\": \"ESERP Business School\"}, {\"level\": \"Bachelor\", \"field\": \"Business Administration\", \"related\": true, \"where\": \"Toulouse Business School\"}], \"experience\": [{\"position\": \"Agente comercial\", \"responsibility_level\": \"Entry\", \"company\": \"Yumping.com\", \"start_date\": \"2021-03-01\", \"end_date\": \"2023-09-01\", \"duration\": 30, \"related\": true}, {\"position\": \"Webmaster\", \"responsibility_level\": \"Intermediate\", \"company\": \"Grupo Solocal\", \"start_date\": \"2019-12-01\", \"end_date\": \"2020-10-01\", \"duration\": 10, \"related\": false}], \"languages\": [{\"language\": \"Español\", \"level\": \"Intermediate\"}, {\"language\": \"Inglés\", \"level\": \"Advanced\"}, {\"language\": \"Francés\", \"level\": \"Native\"}, {\"language\": \"Arabe\", \"level\": \"Native\"}]}"
        ],
        [
         "35",
         "CVANON0133",
         "{\"professionality\": 6, \"visual\": 5, \"grammar\": 4, \"ai_likelihood\": 3, \"education\": [{\"level\": \"Vocational\", \"field\": \"Able Seaman\", \"related\": false, \"where\": \"Estonian Nautical School\"}, {\"level\": \"Secondary\", \"field\": \"General Education\", \"related\": false, \"where\": \"Parnu Vanalinna P6hikool\"}, {\"level\": \"Primary\", \"field\": \"General Education\", \"related\": false, \"where\": \"Tystberga skola\"}], \"experience\": [{\"position\": \"Telephone Sales Representative\", \"responsibility_level\": \"Intermediate\", \"company\": \"Reko Marketing, S.L.\", \"start_date\": \"2022-01-01\", \"end_date\": \"2023-10-01\", \"duration\": 21, \"related\": true}, {\"position\": \"O/S on board Orms6\", \"responsibility_level\": \"Entry\", \"company\": \"Kihnu Veeteed A/S\", \"start_date\": \"2019-01-01\", \"end_date\": \"2021-12-31\", \"duration\": 36, \"related\": false}, {\"position\": \"Warehouse Worker\", \"responsibility_level\": \"Entry\", \"company\": \"Eurowork OU\", \"start_date\": \"2019-01-01\", \"end_date\": \"2019-12-31\", \"duration\": 12, \"related\": false}, {\"position\": \"Sales Manager\", \"responsibility_level\": \"Manager\", \"company\": \"Hansa24 Group OU\", \"start_date\": \"2018-01-01\", \"end_date\": \"2018-12-31\", \"duration\": 12, \"related\": true}, {\"position\": \"Telephone Administrator\", \"responsibility_level\": \"Intermediate\", \"company\": \"Eesti AGA AS\", \"start_date\": \"2017-01-01\", \"end_date\": \"2017-12-31\", \"duration\": 12, \"related\": true}, {\"position\": \"Team Leader\", \"responsibility_level\": \"Manager\", \"company\": \"Hurtigruten Pluss AS\", \"start_date\": \"2014-01-01\", \"end_date\": \"2015-12-31\", \"duration\": 24, \"related\": true}, {\"position\": \"Team Leader\", \"responsibility_level\": \"Manager\", \"company\": \"Hurtigruten Estonia OU\", \"start_date\": \"2012-01-01\", \"end_date\": \"2013-12-31\", \"duration\": 24, \"related\": true}, {\"position\": \"Telephone Agent/Lead Agent\", \"responsibility_level\": \"Intermediate\", \"company\": \"Runway International OU\", \"start_date\": \"2010-01-01\", \"end_date\": \"2011-12-31\", \"duration\": 24, \"related\": true}, {\"position\": \"Warehouse Manager\", \"responsibility_level\": \"Intermediate\", \"company\": \"Pinea OU\", \"start_date\": \"2007-01-01\", \"end_date\": \"2008-01-31\", \"duration\": 13, \"related\": false}, {\"position\": \"Member of Board, Manager\", \"responsibility_level\": \"Manager\", \"company\": \"Pernau Wood OU\", \"start_date\": \"2004-01-01\", \"end_date\": \"2007-12-31\", \"duration\": 48, \"related\": false}, {\"position\": \"Manager's Assistant\", \"responsibility_level\": \"Entry\", \"company\": \"Exwood OU\", \"start_date\": \"2003-01-01\", \"end_date\": \"2003-12-31\", \"duration\": 12, \"related\": false}], \"languages\": [{\"language\": \"English\", \"level\": \"Very good\"}, {\"language\": \"Swedish\", \"level\": \"Native\"}, {\"language\": \"Norwegian\", \"level\": \"Good\"}, {\"language\": \"Finnish\", \"level\": \"Basic\"}, {\"language\": \"Estonian\", \"level\": \"Native\"}, {\"language\": \"Spanish\", \"level\": \"Basic\"}]}"
        ],
        [
         "36",
         "CVANON0286",
         "{\n  \"professionality\": 7,\n  \"visual\": 6,\n  \"grammar\": 5,\n  \"ai_likelihood\": 4,\n  \"education\": [\n    {\n      \"level\": \"Non-regulated Course\",\n      \"field\": \"Design\",\n      \"related\": false,\n      \"where\": \"Madrid Academy of Art\"\n    },\n    {\n      \"level\": \"Bachelor\",\n      \"field\": \"Product Design\",\n      \"related\": false,\n      \"where\": \"Universidad de Navarra\"\n    },\n    {\n      \"level\": \"Secondary\",\n      \"field\": \"General Education\",\n      \"related\": false,\n      \"where\": \"Paref Southridge School\"\n    }\n  ],\n  \"experience\": [\n    {\n      \"position\": \"Project Collaborator\",\n      \"responsibility_level\": \"Intermediate\",\n      \"company\": \"Design Center of the Philippines and National Museum of Fine Art\",\n      \"start_date\": \"2023-09-01\",\n      \"end_date\": \"2023-12-01\",\n      \"duration\": 3,\n      \"related\": false\n    },\n    {\n      \"position\": \"Volunteer Museum Tour Guide\",\n      \"responsibility_level\": \"Entry\",\n      \"company\": \"Boston Children's Museum\",\n      \"start_date\": \"2022-07-01\",\n      \"end_date\": \"2022-09-01\",\n      \"duration\": 2,\n      \"related\": false\n    },\n    {\n      \"position\": \"Server\",\n      \"responsibility_level\": \"Entry\",\n      \"company\": \"Shy Bird\",\n      \"start_date\": \"2022-07-01\",\n      \"end_date\": \"2022-09-01\",\n      \"duration\": 2,\n      \"related\": false\n    },\n    {\n      \"position\": \"Segway Tour Guide\",\n      \"responsibility_level\": \"Entry\",\n      \"company\": \"Boston Segway Tours\",\n      \"start_date\": \"2021-06-01\",\n      \"end_date\": \"2021-08-01\",\n      \"duration\": 2,\n      \"related\": false\n    },\n    {\n      \"position\": \"Junior Designer Internship\",\n      \"responsibility_level\": \"Entry\",\n      \"company\": \"Designs Ligna\",\n      \"start_date\": \"2019-08-01\",\n      \"end_date\": \"2019-09-01\",\n      \"duration\": 1,\n      \"related\": false\n    }\n  ],\n  \"languages\": [\n    {\n      \"language\": \"Filipino\",\n      \"level\": \"Fluent\"\n    }\n  ]\n}"
        ],
        [
         "37",
         "CVANON0074",
         "{\n  \"professionality\": 6,\n  \"visual\": 5,\n  \"grammar\": 6,\n  \"ai_likelihood\": 3,\n  \"education\": [\n    {\n      \"level\": \"Vocational\",\n      \"field\": \"Nursing\",\n      \"related\": false,\n      \"where\": \"ROC van Twente\"\n    },\n    {\n      \"level\": \"Vocational\",\n      \"field\": \"Healthcare\",\n      \"related\": false,\n      \"where\": \"ROC van Twente\"\n    },\n    {\n      \"level\": \"Vocational\",\n      \"field\": \"Retail\",\n      \"related\": false,\n      \"where\": \"ROC van Twente\"\n    },\n    {\n      \"level\": \"Secondary\",\n      \"field\": \"General\",\n      \"related\": false,\n      \"where\": \"Scholengemeenschap de Waerdenborch Holten\"\n    }\n  ],\n  \"experience\": [\n    {\n      \"position\": \"Klantenservice medewerker + Product Specialist\",\n      \"responsibility_level\": \"Intermediate\",\n      \"company\": \"Sitel/Abbott Diabetes Care\",\n      \"start_date\": \"2022-02-01\",\n      \"end_date\": \"present\",\n      \"duration\": null,\n      \"related\": false\n    },\n    {\n      \"position\": \"Verzorgende IG\",\n      \"responsibility_level\": \"Intermediate\",\n      \"company\": \"Trivium Meulenbeltzorg\",\n      \"start_date\": \"2010-01-01\",\n      \"end_date\": \"2018-01-01\",\n      \"duration\": 96,\n      \"related\": false\n    },\n    {\n      \"position\": \"Various Part-time Jobs\",\n      \"responsibility_level\": \"Entry\",\n      \"company\": \"Various\",\n      \"start_date\": \"2003-01-01\",\n      \"end_date\": \"2010-01-01\",\n      \"duration\": 84,\n      \"related\": false\n    }\n  ],\n  \"languages\": [\n    {\n      \"language\": \"Nederlands\",\n      \"level\": \"Fluent\"\n    },\n    {\n      \"language\": \"Engels\",\n      \"level\": \"Intermediate\"\n    },\n    {\n      \"language\": \"Duits\",\n      \"level\": \"Fluent\"\n    }\n  ]\n}"
        ],
        [
         "38",
         "CVANON0137",
         "{\"professionality\": 1, \"visual\": 1, \"grammar\": 1, \"ai_likelihood\": 1, \"education\": [], \"experience\": [], \"languages\": []}"
        ],
        [
         "39",
         "CVANON0090",
         "{\"professionality\": 7, \"visual\": 6, \"grammar\": 7, \"ai_likelihood\": 3, \"education\": [{\"level\": \"Master\", \"field\": \"Publicidad integrada\", \"related\": true, \"where\": \"Universidad Antonio de Nebrija\"}, {\"level\": \"Bachelor\", \"field\": \"Publicidad y Relaciones Publicas\", \"related\": true, \"where\": \"Universidad Autónoma de Santo Domingo\"}], \"experience\": [{\"position\": \"Diseñadora interactiva\", \"responsibility_level\": \"Entry\", \"company\": \"Phnx Studio\", \"start_date\": \"2021-06-01\", \"end_date\": \"2023-02-01\", \"duration\": 20, \"related\": false}], \"languages\": [{\"language\": \"Español\", \"level\": \"Native\"}, {\"language\": \"Inglés\", \"level\": \"Intermediate\"}]}"
        ],
        [
         "40",
         "CVANON0208",
         "{\n  \"professionality\": 7,\n  \"visual\": 5,\n  \"grammar\": 6,\n  \"ai_likelihood\": 2,\n  \"education\": [\n    {\n      \"level\": \"Bachelor\",\n      \"field\": \"Pedagogy\",\n      \"related\": false,\n      \"where\": \"U.N.E.D.\"\n    },\n    {\n      \"level\": \"Vocational\",\n      \"field\": \"Healthcare\",\n      \"related\": false,\n      \"where\": \"Diakonie-Kolleg Hannover Annastift\"\n    },\n    {\n      \"level\": \"Secondary\",\n      \"field\": \"General Secondary Education\",\n      \"related\": false,\n      \"where\": \"Goetheschule Instituto de Educación Secundaria Obligatoria Integrativa en Barsinghausen\"\n    },\n    {\n      \"level\": \"Non-regulated Course\",\n      \"field\": \"Childhood Education\",\n      \"related\": false,\n      \"where\": \"Ministerio de Educación, Política Social y Deporte en Palencia\"\n    },\n    {\n      \"level\": \"Non-regulated Course\",\n      \"field\": \"Socio-sanitary and Care\",\n      \"related\": false,\n      \"where\": \"Escuela de Iniciación a la Formación Profesional en Springe\"\n    }\n  ],\n  \"experience\": [\n    {\n      \"position\": \"German Language Teacher\",\n      \"responsibility_level\": \"Other\",\n      \"company\": \"Particular a domicilio\",\n      \"start_date\": \"2011-09-01\",\n      \"end_date\": \"2023-11-30\",\n      \"duration\": 146,\n      \"related\": false\n    },\n    {\n      \"position\": \"Administrative\",\n      \"responsibility_level\": \"Entry\",\n      \"company\": \"IQVIA\",\n      \"start_date\": \"2023-03-01\",\n      \"end_date\": \"2023-11-30\",\n      \"duration\": 8,\n      \"related\": false\n    },\n    {\n      \"position\": \"Customer Service Person\",\n      \"responsibility_level\": \"Entry\",\n      \"company\": \"Grupo PSA Projecto Servicebox\",\n      \"start_date\": \"2021-09-01\",\n      \"end_date\": \"2022-04-30\",\n      \"duration\": 7,\n      \"related\": false\n    },\n    {\n      \"position\": \"Childcare Provider\",\n      \"responsibility_level\": \"Entry\",\n      \"company\": \"Private residences\",\n      \"start_date\": \"2016-06-01\",\n      \"end_date\": \"2021-05-14\",\n      \"duration\": 59,\n      \"related\": false\n    },\n    {\n      \"position\": \"Childcare Provider\",\n      \"responsibility_level\": \"Entry\",\n      \"company\": \"Private residence\",\n      \"start_date\": \"2011-03-01\",\n      \"end_date\": \"2011-05-31\",\n      \"duration\": 2,\n      \"related\": false\n    },\n    {\n      \"position\": \"Assistant in Infant School\",\n      \"responsibility_level\": \"Entry\",\n      \"company\": \"E.I. Los Madroños\",\n      \"start_date\": \"2010-09-13\",\n      \"end_date\": \"2010-12-23\",\n      \"duration\": 3,\n      \"related\": false\n    },\n    {\n      \"position\": \"Summer Camp Monitor\",\n      \"responsibility_level\": \"Entry\",\n      \"company\": \"Activitas\",\n      \"start_date\": \"2010-06-01\",\n      \"end_date\": \"2010-06-23\",\n      \"duration\": 0,\n      \"related\": false\n    },\n    {\n      \"position\": \"Restaurant Waitress\",\n      \"responsibility_level\": \"Entry\",\n      \"company\": \"Hotel Real Monasterio San Zoilo\",\n      \"start_date\": \"2009-04-01\",\n      \"end_date\": \"2009-06-30\",\n      \"duration\": 3,\n      \"related\": false\n    },\n    {\n      \"position\": \"Auxiliary in Geriatrics\",\n      \"responsibility_level\": \"Entry\",\n      \"company\": \"Residencia Santa Maria del Camino\",\n      \"start_date\": \"2008-09-01\",\n      \"end_date\": \"2009-02-28\",\n      \"duration\": 5,\n      \"related\": false\n    }\n  ],\n  \"languages\": [\n    {\n      \"language\": \"German\",\n      \"level\": \"Native\"\n    },\n    {\n      \"language\": \"Spanish\",\n      \"level\": \"Native\"\n    },\n    {\n      \"language\": \"English\",\n      \"level\": \"Intermediate\"\n    }\n  ]\n}"
        ],
        [
         "41",
         "CVANON0291",
         "{\n  \"professionality\": 6,\n  \"visual\": 5,\n  \"grammar\": 7,\n  \"ai_likelihood\": 3,\n  \"education\": [\n    {\n      \"level\": \"Bachelor\",\n      \"field\": \"Commerce\",\n      \"related\": false,\n      \"where\": \"Philippine School of Business and Administration\"\n    }\n  ],\n  \"experience\": [\n    {\n      \"position\": \"Agente de ventas y atencion a cliente\",\n      \"responsibility_level\": \"Intermediate\",\n      \"company\": \"TELUS - Dell Computers\",\n      \"start_date\": \"2017-03-01\",\n      \"end_date\": \"2020-12-01\",\n      \"duration\": 45,\n      \"related\": true\n    },\n    {\n      \"position\": \"Agente telefonica de soporte técnico\",\n      \"responsibility_level\": \"Intermediate\",\n      \"company\": \"Teleperformance - AT&T U-verse\",\n      \"start_date\": \"2015-01-01\",\n      \"end_date\": \"2017-02-01\",\n      \"duration\": 25,\n      \"related\": true\n    },\n    {\n      \"position\": \"Agente telefonica de soporte técnico\",\n      \"responsibility_level\": \"Intermediate\",\n      \"company\": \"Teletech - Telecom New Zealand\",\n      \"start_date\": \"2012-12-01\",\n      \"end_date\": \"2015-01-01\",\n      \"duration\": 25,\n      \"related\": true\n    }\n  ],\n  \"languages\": [\n    {\n      \"language\": \"English\",\n      \"level\": \"Fluent\"\n    },\n    {\n      \"language\": \"Spanish\",\n      \"level\": \"Basic\"\n    }\n  ]\n}"
        ],
        [
         "42",
         "CVANON0037",
         "{\n  \"professionality\": 6,\n  \"visual\": 5,\n  \"grammar\": 7,\n  \"ai_likelihood\": 3,\n  \"education\": [\n    {\n      \"level\": \"Vocational\",\n      \"field\": \"Tourism\",\n      \"related\": false,\n      \"where\": \"ROC Midden Nederland, The Netherlands\"\n    },\n    {\n      \"level\": \"Other\",\n      \"field\": \"Management Travel & Hospitality\",\n      \"related\": false,\n      \"where\": \"Unspecified\"\n    }\n  ],\n  \"experience\": [\n    {\n      \"position\": \"Customer Support Sales Representative\",\n      \"responsibility_level\": \"Intermediate\",\n      \"company\": \"Webhelp - HP\",\n      \"start_date\": \"Unspecified\",\n      \"end_date\": \"Unspecified\",\n      \"duration\": 0,\n      \"related\": true\n    },\n    {\n      \"position\": \"Sales Advisor\",\n      \"responsibility_level\": \"Entry\",\n      \"company\": \"H&M\",\n      \"start_date\": \"Unspecified\",\n      \"end_date\": \"Unspecified\",\n      \"duration\": 0,\n      \"related\": true\n    },\n    {\n      \"position\": \"Customer Support\",\n      \"responsibility_level\": \"Entry\",\n      \"company\": \"Cendris - T-Mobile\",\n      \"start_date\": \"Unspecified\",\n      \"end_date\": \"Unspecified\",\n      \"duration\": 0,\n      \"related\": true\n    },\n    {\n      \"position\": \"Receptionist\",\n      \"responsibility_level\": \"Entry\",\n      \"company\": \"Hoteles Globales\",\n      \"start_date\": \"Unspecified\",\n      \"end_date\": \"Unspecified\",\n      \"duration\": 0,\n      \"related\": false\n    },\n    {\n      \"position\": \"Receptionist\",\n      \"responsibility_level\": \"Entry\",\n      \"company\": \"Hoteles Globales\",\n      \"start_date\": \"Unspecified\",\n      \"end_date\": \"Unspecified\",\n      \"duration\": 0,\n      \"related\": false\n    },\n    {\n      \"position\": \"Cashier\",\n      \"responsibility_level\": \"Entry\",\n      \"company\": \"Local Supermarket\",\n      \"start_date\": \"Unspecified\",\n      \"end_date\": \"Unspecified\",\n      \"duration\": 0,\n      \"related\": false\n    }\n  ],\n  \"languages\": [\n    {\n      \"language\": \"English\",\n      \"level\": \"Fluent\"\n    },\n    {\n      \"language\": \"Dutch\",\n      \"level\": \"Fluent\"\n    },\n    {\n      \"language\": \"Arabic\",\n      \"level\": \"Native\"\n    },\n    {\n      \"language\": \"Spanish\",\n      \"level\": \"Intermediate\"\n    },\n    {\n      \"language\": \"French\",\n      \"level\": \"Basic\"\n    }\n  ]\n}"
        ],
        [
         "43",
         "CVANON0029",
         "{\"professionality\": 6, \"visual\": 5, \"grammar\": 4, \"ai_likelihood\": 2, \"education\": [{\"level\": \"Primary\", \"field\": \"General\", \"related\": false, \"where\": \"Marcel Sambat — France\"}, {\"level\": \"Secondary\", \"field\": \"General\", \"related\": false, \"where\": \"Marcel Sambat — France / Ecole Saint-Exupéry — Madrid\"}, {\"level\": \"Non-regulated Course\", \"field\": \"First Aid\", \"related\": false, \"where\": \"\"}, {\"level\": \"Non-regulated Course\", \"field\": \"Pro-Marketing Commercial\", \"related\": true, \"where\": \"Entreprise « Fors Ibérica Espafia »\"}, {\"level\": \"Non-regulated Course\", \"field\": \"Intermediate English\", \"related\": false, \"where\": \"Académie International Brasshouse (Birmingham — ROYAUMES UNIS)\"}], \"experience\": [{\"position\": \"Assitant Administratif\", \"responsibility_level\": \"Entry\", \"company\": \"Transportes Carrasco\", \"start_date\": \"2019-01-01\", \"end_date\": \"2022-01-01\", \"duration\": 36, \"related\": false}, {\"position\": \"Assitant Administratif\", \"responsibility_level\": \"Entry\", \"company\": \"Dupessey\", \"start_date\": \"2017-01-01\", \"end_date\": \"2019-01-01\", \"duration\": 24, \"related\": false}, {\"position\": \"Gerant de Boutique\", \"responsibility_level\": \"Manager\", \"company\": \"Ekseption\", \"start_date\": \"2016-01-01\", \"end_date\": \"2017-01-01\", \"duration\": 12, \"related\": true}, {\"position\": \"Conseiller Styliste\", \"responsibility_level\": \"Intermediate\", \"company\": \"Prada Paris\", \"start_date\": \"2015-01-01\", \"end_date\": \"2016-01-01\", \"duration\": 12, \"related\": true}, {\"position\": \"Directeur Marketing Commercial\", \"responsibility_level\": \"Director\", \"company\": \"Islamex D.C.V. D.C.A.\", \"start_date\": \"2011-01-01\", \"end_date\": \"2012-01-01\", \"duration\": 12, \"related\": true}, {\"position\": \"Commercial\", \"responsibility_level\": \"Intermediate\", \"company\": \"Hermes\", \"start_date\": \"2010-01-01\", \"end_date\": \"2011-01-01\", \"duration\": 12, \"related\": true}, {\"position\": \"Commercial\", \"responsibility_level\": \"Intermediate\", \"company\": \"Christian Dior\", \"start_date\": \"2009-01-01\", \"end_date\": \"2010-01-01\", \"duration\": 12, \"related\": true}, {\"position\": \"Directeur de Zone\", \"responsibility_level\": \"Director\", \"company\": \"Grupo Omega\", \"start_date\": \"2008-01-01\", \"end_date\": \"2009-01-01\", \"duration\": 12, \"related\": true}, {\"position\": \"Commercial\", \"responsibility_level\": \"Intermediate\", \"company\": \"Manolo Blahnik\", \"start_date\": \"2007-01-01\", \"end_date\": \"2008-01-01\", \"duration\": 12, \"related\": true}, {\"position\": \"Dependant\", \"responsibility_level\": \"Entry\", \"company\": \"Carolina Herrera\", \"start_date\": \"2005-01-01\", \"end_date\": \"2007-01-01\", \"duration\": 24, \"related\": true}, {\"position\": \"Chef D’Equipe Adjoint\", \"responsibility_level\": \"Intermediate\", \"company\": \"Fors Iberica, S.A.\", \"start_date\": \"2002-01-01\", \"end_date\": \"2004-01-01\", \"duration\": 24, \"related\": false}], \"languages\": [{\"language\": \"French\", \"level\": \"Native\"}, {\"language\": \"Spanish\", \"level\": \"Native\"}, {\"language\": \"English\", \"level\": \"Intermediate\"}]}"
        ],
        [
         "44",
         "CVANON0324",
         "{\"professionality\": 8, \"visual\": 6, \"grammar\": 7, \"ai_likelihood\": 5, \"education\": [{\"level\": \"Non-regulated Course\", \"field\": \"Information Technology\", \"related\": false, \"where\": \"Metropolia, open University\"}, {\"level\": \"Non-regulated Course\", \"field\": \"Spanish\", \"related\": false, \"where\": \"NL College, Language school\"}, {\"level\": \"Master\", \"field\": \"Entrepreneurship and leadership\", \"related\": true, \"where\": \"Proacademy, University of Tampere\"}, {\"level\": \"Bachelor\", \"field\": \"Business Administration, Management and Operations\", \"related\": true, \"where\": \"Laurea University of Applied Sciences\"}, {\"level\": \"Bachelor\", \"field\": \"Business Administration, Management and Operations\", \"related\": true, \"where\": \"Universidad Europea de Madrid\"}], \"experience\": [{\"position\": \"Sales Representative\", \"responsibility_level\": \"Intermediate\", \"company\": \"Turva / Lahitapiola\", \"start_date\": \"2023-01-01\", \"end_date\": \"Present\", \"duration\": 11, \"related\": true}, {\"position\": \"Sales Representative\", \"responsibility_level\": \"Intermediate\", \"company\": \"IF\", \"start_date\": \"2016-01-01\", \"end_date\": \"2022-12-31\", \"duration\": 83, \"related\": true}, {\"position\": \"Business Development Representative\", \"responsibility_level\": \"Intermediate\", \"company\": \"Fennia\", \"start_date\": \"2014-12-01\", \"end_date\": \"2015-12-31\", \"duration\": 13, \"related\": true}, {\"position\": \"Sales Manager, Corporate Insurance\", \"responsibility_level\": \"Manager\", \"company\": \"IF\", \"start_date\": \"2014-01-01\", \"end_date\": \"2014-12-31\", \"duration\": 12, \"related\": true}, {\"position\": \"Sales and Marketing Manager\", \"responsibility_level\": \"Manager\", \"company\": \"Clubhouse Incanto\", \"start_date\": \"2012-10-01\", \"end_date\": \"2013-12-31\", \"duration\": 15, \"related\": true}], \"languages\": [{\"language\": \"Finnish\", \"level\": \"Native\"}, {\"language\": \"English\", \"level\": \"Fluent\"}, {\"language\": \"Spanish\", \"level\": \"Basic\"}, {\"language\": \"Swedish\", \"level\": \"Basic\"}]}"
        ],
        [
         "45",
         "CVANON0114",
         "{\"professionality\": 7, \"visual\": 5, \"grammar\": 6, \"ai_likelihood\": 3, \"education\": [{\"level\": \"Master\", \"field\": \"Marketing\", \"related\": true, \"where\": \"UCM\"}, {\"level\": \"Bachelor\", \"field\": \"English Philology\", \"related\": false, \"where\": \"Pontificia Universidad Católica de Ecuador\"}, {\"level\": \"Other\", \"field\": \"Social Management\", \"related\": false, \"where\": \"Pontificia Universidad Católica de Ecuador\"}, {\"level\": \"Secondary\", \"field\": \"Social Sciences\", \"related\": false, \"where\": \"Colegio Alemán Quito\"}], \"experience\": [{\"position\": \"Business Development Representative B2B\", \"responsibility_level\": \"Intermediate\", \"company\": \"Openbank\", \"start_date\": \"2019-09-01\", \"end_date\": \"2020-03-01\", \"duration\": 6, \"related\": false}, {\"position\": \"Global Customer Manager\", \"responsibility_level\": \"Intermediate\", \"company\": \"Achilles\", \"start_date\": \"2017-07-01\", \"end_date\": \"2019-09-01\", \"duration\": 26, \"related\": false}, {\"position\": \"Teleoperadora\", \"responsibility_level\": \"Entry\", \"company\": \"ALARES S.L.\", \"start_date\": \"2017-03-01\", \"end_date\": \"2017-08-01\", \"duration\": 5, \"related\": true}, {\"position\": \"Atencion al cliente\", \"responsibility_level\": \"Entry\", \"company\": \"Intropia\", \"start_date\": \"2016-10-01\", \"end_date\": \"2017-03-01\", \"duration\": 5, \"related\": false}, {\"position\": \"Campaña Televenta\", \"responsibility_level\": \"Entry\", \"company\": \"TELEPERFORMANCE ESPAÑA\", \"start_date\": \"2016-02-01\", \"end_date\": \"2016-09-01\", \"duration\": 7, \"related\": true}, {\"position\": \"Agente de reservas\", \"responsibility_level\": \"Entry\", \"company\": \"NH HOTELES ESPAÑA SA.\", \"start_date\": \"2015-09-01\", \"end_date\": \"2016-01-01\", \"duration\": 4, \"related\": true}, {\"position\": \"Technical Systems Analyst\", \"responsibility_level\": \"Specialist\", \"company\": \"Oracle\", \"start_date\": \"2010-10-01\", \"end_date\": \"2015-06-01\", \"duration\": 56, \"related\": false}, {\"position\": \"Profesor de idiomas\", \"responsibility_level\": \"Specialist\", \"company\": \"Escuela Oficial de Idiomas Navalcarnero\", \"start_date\": \"2009-10-01\", \"end_date\": \"2010-07-01\", \"duration\": 9, \"related\": false}, {\"position\": \"Profesor de idiomas\", \"responsibility_level\": \"Specialist\", \"company\": \"SylvanLanguageCourses\", \"start_date\": \"2006-06-01\", \"end_date\": \"2008-09-01\", \"duration\": 27, \"related\": false}, {\"position\": \"Asistente de Desarrollo\", \"responsibility_level\": \"Specialist\", \"company\": \"Iroko\", \"start_date\": \"2005-06-01\", \"end_date\": \"2006-06-01\", \"duration\": 12, \"related\": false}], \"languages\": [{\"language\": \"German\", \"level\": \"Native\"}, {\"language\": \"English\", \"level\": \"Advanced\"}]}"
        ],
        [
         "46",
         "CVANON0079",
         "{\"professionality\": 7, \"visual\": 6, \"grammar\": 8, \"ai_likelihood\": 3, \"education\": [{\"level\": \"Diploma\", \"field\": \"Commerce\", \"related\": true, \"where\": \"Sydney Institute of Business and Technology, Sydney, Australia\"}, {\"level\": \"Bachelor\", \"field\": \"Business Administration\", \"related\": true, \"where\": \"Macquarie University, Sydney, Australia\"}, {\"level\": \"Other\", \"field\": \"Sports Marketing\", \"related\": true, \"where\": \"Escuela Universitaria Real Madrid\"}], \"experience\": [{\"position\": \"Production and Events\", \"responsibility_level\": \"Entry\", \"company\": \"Madison Experience Marketing\", \"start_date\": \"2022-08-01\", \"end_date\": \"2022-12-01\", \"duration\": 4, \"related\": true}, {\"position\": \"Marketing and Communications Consultant\", \"responsibility_level\": \"Entry\", \"company\": \"Metroin SAS\", \"start_date\": \"2022-03-01\", \"end_date\": \"2022-07-01\", \"duration\": 4, \"related\": true}, {\"position\": \"Marketing and Communication\", \"responsibility_level\": \"Entry\", \"company\": \"Infinity Pack\", \"start_date\": \"2021-05-01\", \"end_date\": \"2021-09-01\", \"duration\": 4, \"related\": true}, {\"position\": \"Marketing & Communication\", \"responsibility_level\": \"Entry\", \"company\": \"MB Partners Agencia de Patrocinios & Eventos\", \"start_date\": \"2019-12-01\", \"end_date\": \"2021-01-01\", \"duration\": 13, \"related\": true}, {\"position\": \"Community Manager\", \"responsibility_level\": \"Entry\", \"company\": \"Centro Nacional de la Real Federacion Española de Golf\", \"start_date\": \"2019-02-01\", \"end_date\": \"2019-12-01\", \"duration\": 10, \"related\": true}, {\"position\": \"Marketing and Events Coordinator\", \"responsibility_level\": \"Entry\", \"company\": \"Ronaldo Academy (R9)\", \"start_date\": \"2016-08-01\", \"end_date\": \"2017-02-01\", \"duration\": 6, \"related\": true}, {\"position\": \"Sales Representative\", \"responsibility_level\": \"Entry\", \"company\": \"Roger David\", \"start_date\": \"2015-09-01\", \"end_date\": \"2016-07-01\", \"duration\": 10, \"related\": false}, {\"position\": \"Sales & Marketing Manager\", \"responsibility_level\": \"Manager\", \"company\": \"Industrics Pty Ltd\", \"start_date\": \"2014-06-01\", \"end_date\": \"2015-07-01\", \"duration\": 13, \"related\": true}, {\"position\": \"Marketing Assistant\", \"responsibility_level\": \"Entry\", \"company\": \"Century 21 Metroin\", \"start_date\": \"2014-01-01\", \"end_date\": \"2014-06-01\", \"duration\": 5, \"related\": true}, {\"position\": \"Sales Representative\", \"responsibility_level\": \"Entry\", \"company\": \"Cotton On Group\", \"start_date\": \"2012-09-01\", \"end_date\": \"2013-03-01\", \"duration\": 6, \"related\": false}, {\"position\": \"Sales Representative\", \"responsibility_level\": \"Entry\", \"company\": \"Mathers\", \"start_date\": \"2012-09-01\", \"end_date\": \"2013-01-01\", \"duration\": 4, \"related\": false}, {\"position\": \"Marketing Coordinator\", \"responsibility_level\": \"Entry\", \"company\": \"VIEC Study Abroad\", \"start_date\": \"2011-07-01\", \"end_date\": \"2012-01-01\", \"duration\": 6, \"related\": true}], \"languages\": [{\"language\": \"Spanish\", \"level\": \"Native\"}, {\"language\": \"English\", \"level\": \"Advanced\"}, {\"language\": \"Portuguese\", \"level\": \"Intermediate\"}, {\"language\": \"French\", \"level\": \"Basic\"}, {\"language\": \"German\", \"level\": \"Basic\"}]}"
        ],
        [
         "47",
         "CVANON0116",
         "{\n  \"professionality\": 7,\n  \"visual\": 6,\n  \"grammar\": 6,\n  \"ai_likelihood\": 3,\n  \"education\": [\n    {\n      \"level\": \"Bachelor\",\n      \"field\": \"Sports Strength & Conditioning\",\n      \"related\": false,\n      \"where\": \"TUS Thurles Campus - Tipperary, Ireland\"\n    }\n  ],\n  \"experience\": [\n    {\n      \"position\": \"Sales Account Manager\",\n      \"responsibility_level\": \"Intermediate\",\n      \"company\": \"Doofinder SL\",\n      \"start_date\": \"2023-01-01\",\n      \"end_date\": \"9999-12-31\",\n      \"duration\": -1,\n      \"related\": true\n    },\n    {\n      \"position\": \"Head Coach\",\n      \"responsibility_level\": \"Manager\",\n      \"company\": \"Orangetheory Fitness\",\n      \"start_date\": \"2020-01-01\",\n      \"end_date\": \"2022-08-01\",\n      \"duration\": 32,\n      \"related\": false\n    },\n    {\n      \"position\": \"Sales Associate & Coach\",\n      \"responsibility_level\": \"Entry\",\n      \"company\": \"Orangetheory Fitness\",\n      \"start_date\": \"2018-09-01\",\n      \"end_date\": \"2020-01-01\",\n      \"duration\": 16,\n      \"related\": true\n    },\n    {\n      \"position\": \"Executive Membership Sales\",\n      \"responsibility_level\": \"Executive\",\n      \"company\": \"CD Sport & Fitness\",\n      \"start_date\": \"2017-08-01\",\n      \"end_date\": \"2018-08-01\",\n      \"duration\": 12,\n      \"related\": true\n    }\n  ],\n  \"languages\": [\n    {\n      \"language\": \"English\",\n      \"level\": \"Advanced\"\n    },\n    {\n      \"language\": \"Spanish\",\n      \"level\": \"Elementary\"\n    }\n  ]\n}"
        ],
        [
         "48",
         "CVANON0094",
         "{\"professionality\": 7, \"visual\": 5, \"grammar\": 6, \"ai_likelihood\": 4, \"education\": [{\"level\": \"Master\", \"field\": \"Digital Marketing\", \"related\": true, \"where\": \"ESIC Business Marketing School\"}, {\"level\": \"Bachelor\", \"field\": \"Modern Languages\", \"related\": false, \"where\": \"Universidad Complutense de Madrid\"}, {\"level\": \"Secondary\", \"field\": \"Bachillerato\", \"related\": false, \"where\": \"L.E.S Velazquez\"}], \"experience\": [{\"position\": \"Digital Trade Marketing\", \"responsibility_level\": \"Entry\", \"company\": \"HP\", \"start_date\": \"2022-11-01\", \"end_date\": \"2023-01-01\", \"duration\": 2, \"related\": true}, {\"position\": \"Digital marketing & Customer experience manager\", \"responsibility_level\": \"Entry\", \"company\": \"MAPFRE\", \"start_date\": \"2022-05-01\", \"end_date\": \"2022-10-01\", \"duration\": 5, \"related\": true}, {\"position\": \"Administrativo\", \"responsibility_level\": \"Entry\", \"company\": \"SERMAS\", \"start_date\": \"2020-06-01\", \"end_date\": \"2022-05-01\", \"duration\": 23, \"related\": false}, {\"position\": \"Vendedora\", \"responsibility_level\": \"Entry\", \"company\": \"Boston\", \"start_date\": \"2018-01-01\", \"end_date\": \"2019-01-01\", \"duration\": 12, \"related\": false}, {\"position\": \"Vendedora\", \"responsibility_level\": \"Entry\", \"company\": \"Decimas\", \"start_date\": \"2017-11-01\", \"end_date\": \"2018-01-01\", \"duration\": 2, \"related\": false}, {\"position\": \"Vendedora en tiendas y almacén\", \"responsibility_level\": \"Entry\", \"company\": \"Club Atletico de Madrid\", \"start_date\": \"2016-07-01\", \"end_date\": \"2017-03-01\", \"duration\": 8, \"related\": false}], \"languages\": [{\"language\": \"Francés\", \"level\": \"Advanced\"}, {\"language\": \"Alemán\", \"level\": \"Basic\"}, {\"language\": \"Español\", \"level\": \"Native\"}, {\"language\": \"Inglés\", \"level\": \"Advanced\"}]}"
        ],
        [
         "49",
         "CVANON0012",
         "{\"professionality\": 7, \"visual\": 6, \"grammar\": 7, \"ai_likelihood\": 5, \"education\": [{\"level\": \"Bachelor\", \"field\": \"Illustration Animation\", \"related\": false, \"where\": \"Kingston University\"}, {\"level\": \"Non-regulated Course\", \"field\": \"User Experience\", \"related\": true, \"where\": \"Coventry University\"}, {\"level\": \"Non-regulated Course\", \"field\": \"Consumer Behaviour and Psychology\", \"related\": true, \"where\": \"Accenture\"}], \"experience\": [{\"position\": \"Manager\", \"responsibility_level\": \"Manager\", \"company\": \"Enjoy Expressing English\", \"start_date\": \"2021-09-01\", \"end_date\": \"Present\", \"duration\": null, \"related\": false}, {\"position\": \"English Teacher\", \"responsibility_level\": \"Intermediate\", \"company\": \"IES Vega del Jarama\", \"start_date\": \"2019-10-01\", \"end_date\": \"2021-06-01\", \"duration\": 20, \"related\": false}, {\"position\": \"English Teacher\", \"responsibility_level\": \"Intermediate\", \"company\": \"Colegio Bienaventurada Virgen Maria / Colegio San José Moreno Nieto\", \"start_date\": \"2018-09-01\", \"end_date\": \"2019-06-01\", \"duration\": 9, \"related\": false}, {\"position\": \"Team Member\", \"responsibility_level\": \"Entry\", \"company\": \"MeatLiquor\", \"start_date\": \"2017-07-01\", \"end_date\": \"2018-04-01\", \"duration\": 9, \"related\": true}, {\"position\": \"Head of Marketing\", \"responsibility_level\": \"Manager\", \"company\": \"Kingston University\", \"start_date\": \"2016-01-01\", \"end_date\": \"2016-06-01\", \"duration\": 5, \"related\": true}], \"languages\": [{\"language\": \"English\", \"level\": \"Fluent\"}, {\"language\": \"Spanish\", \"level\": \"Native\"}]}"
        ]
       ],
       "shape": {
        "columns": 2,
        "rows": 327
       }
      },
      "text/html": [
       "<div>\n",
       "<style scoped>\n",
       "    .dataframe tbody tr th:only-of-type {\n",
       "        vertical-align: middle;\n",
       "    }\n",
       "\n",
       "    .dataframe tbody tr th {\n",
       "        vertical-align: top;\n",
       "    }\n",
       "\n",
       "    .dataframe thead th {\n",
       "        text-align: right;\n",
       "    }\n",
       "</style>\n",
       "<table border=\"1\" class=\"dataframe\">\n",
       "  <thead>\n",
       "    <tr style=\"text-align: right;\">\n",
       "      <th></th>\n",
       "      <th>id</th>\n",
       "      <th>analysis</th>\n",
       "    </tr>\n",
       "  </thead>\n",
       "  <tbody>\n",
       "    <tr>\n",
       "      <th>0</th>\n",
       "      <td>CVANON0002</td>\n",
       "      <td>{\"professionality\": 4, \"visual\": 3, \"grammar\":...</td>\n",
       "    </tr>\n",
       "    <tr>\n",
       "      <th>1</th>\n",
       "      <td>CVANON0247</td>\n",
       "      <td>{\"professionality\": 7, \"visual\": 6, \"grammar\":...</td>\n",
       "    </tr>\n",
       "    <tr>\n",
       "      <th>2</th>\n",
       "      <td>CVANON0105</td>\n",
       "      <td>{\"professionality\": 7, \"visual\": 5, \"grammar\":...</td>\n",
       "    </tr>\n",
       "    <tr>\n",
       "      <th>3</th>\n",
       "      <td>CVANON0009</td>\n",
       "      <td>{\"professionality\": 7, \"visual\": 6, \"grammar\":...</td>\n",
       "    </tr>\n",
       "    <tr>\n",
       "      <th>4</th>\n",
       "      <td>CVANON0033</td>\n",
       "      <td>{\\n  \"professionality\": 7,\\n  \"visual\": 6,\\n  ...</td>\n",
       "    </tr>\n",
       "    <tr>\n",
       "      <th>...</th>\n",
       "      <td>...</td>\n",
       "      <td>...</td>\n",
       "    </tr>\n",
       "    <tr>\n",
       "      <th>322</th>\n",
       "      <td>CVANON0206</td>\n",
       "      <td>{\"professionality\": 7, \"visual\": 6, \"grammar\":...</td>\n",
       "    </tr>\n",
       "    <tr>\n",
       "      <th>323</th>\n",
       "      <td>CVANON0185</td>\n",
       "      <td>{\"professionality\": 7, \"visual\": 6, \"grammar\":...</td>\n",
       "    </tr>\n",
       "    <tr>\n",
       "      <th>324</th>\n",
       "      <td>CVANON0119</td>\n",
       "      <td>{\"professionality\": 6, \"visual\": 5, \"grammar\":...</td>\n",
       "    </tr>\n",
       "    <tr>\n",
       "      <th>325</th>\n",
       "      <td>CVANON0059</td>\n",
       "      <td>{\"professionality\": 7, \"visual\": 6, \"grammar\":...</td>\n",
       "    </tr>\n",
       "    <tr>\n",
       "      <th>326</th>\n",
       "      <td>CVANON0097</td>\n",
       "      <td>{\"professionality\": 6, \"visual\": 5, \"grammar\":...</td>\n",
       "    </tr>\n",
       "  </tbody>\n",
       "</table>\n",
       "<p>327 rows × 2 columns</p>\n",
       "</div>"
      ],
      "text/plain": [
       "             id                                           analysis\n",
       "0    CVANON0002  {\"professionality\": 4, \"visual\": 3, \"grammar\":...\n",
       "1    CVANON0247  {\"professionality\": 7, \"visual\": 6, \"grammar\":...\n",
       "2    CVANON0105  {\"professionality\": 7, \"visual\": 5, \"grammar\":...\n",
       "3    CVANON0009  {\"professionality\": 7, \"visual\": 6, \"grammar\":...\n",
       "4    CVANON0033  {\\n  \"professionality\": 7,\\n  \"visual\": 6,\\n  ...\n",
       "..          ...                                                ...\n",
       "322  CVANON0206  {\"professionality\": 7, \"visual\": 6, \"grammar\":...\n",
       "323  CVANON0185  {\"professionality\": 7, \"visual\": 6, \"grammar\":...\n",
       "324  CVANON0119  {\"professionality\": 6, \"visual\": 5, \"grammar\":...\n",
       "325  CVANON0059  {\"professionality\": 7, \"visual\": 6, \"grammar\":...\n",
       "326  CVANON0097  {\"professionality\": 6, \"visual\": 5, \"grammar\":...\n",
       "\n",
       "[327 rows x 2 columns]"
      ]
     },
     "execution_count": 14,
     "metadata": {},
     "output_type": "execute_result"
    }
   ],
   "source": [
    "cvs_train = pd.read_parquet(\"data/cvs_train_processed.parquet\")\n",
    "cvs_train"
   ]
  },
  {
   "cell_type": "code",
   "execution_count": 16,
   "id": "81eefcbf",
   "metadata": {},
   "outputs": [
    {
     "data": {
      "application/vnd.microsoft.datawrangler.viewer.v0+json": {
       "columns": [
        {
         "name": "index",
         "rawType": "int64",
         "type": "integer"
        },
        {
         "name": "id",
         "rawType": "object",
         "type": "string"
        },
        {
         "name": "analysis",
         "rawType": "object",
         "type": "string"
        }
       ],
       "conversionMethod": "pd.DataFrame",
       "ref": "84b4ec4b-73c8-4070-9f6c-bb96219de078",
       "rows": [
        [
         "0",
         "CVANON0002",
         "{\"professionality\": 3, \"visual\": 4, \"grammar\": 5, \"ai_likelihood\": 1, \"education\": [{\"level\": \"Preparatory\", \"field\": \"General Education\", \"related\": false, \"where\": \"Instituto Bilinglie de Educacién Secundaria Nicolas Copérnico\"}, {\"level\": \"Secondary\", \"field\": \"General Education\", \"related\": false, \"where\": \"Instituto Bilinglie de Educacién Secundaria Nicolas Copérnico\"}], \"experience\": [], \"languages\": [{\"language\": \"Inglés\", \"level\": \"Native\"}, {\"language\": \"Espanol\", \"level\": \"Native\"}]}"
        ],
        [
         "1",
         "CVANON0009",
         "{\"professionality\": 3, \"visual\": 4, \"grammar\": 6, \"ai_likelihood\": 2, \"education\": [{\"level\": \"Bachelor\", \"field\": \"Técnico Superior en Desarrollo de Aplicaciones Multiplataforma\", \"related\": false, \"where\": \"ES Virgen de la Paloma\"}, {\"level\": \"Vocational\", \"field\": \"Transporte y Mantenimiento de Vehiculos\", \"related\": false, \"where\": \"ES Virgen de la Paloma\"}, {\"level\": \"Secondary\", \"field\": \"Bachillerato\", \"related\": false, \"where\": \"Ntra. Sra. de la Almudena\"}], \"experience\": [], \"languages\": [{\"language\": \"English\", \"level\": \"Native\"}, {\"language\": \"Spanish\", \"level\": \"Native\"}]}"
        ],
        [
         "2",
         "CVANON0033",
         "{\"professionality\": 6, \"visual\": 5, \"grammar\": 8, \"ai_likelihood\": 3, \"education\": [{\"level\": \"Bachelor\", \"field\": \"History\", \"related\": false, \"where\": \"Universidad de Alcala de Henares\"}, {\"level\": \"Preparatory\", \"field\": \"General\", \"related\": false, \"where\": \"N/A\"}], \"experience\": [{\"position\": \"Profesor de inglés\", \"responsibility_level\": \"Entry\", \"company\": \"Clases particulares\", \"start_date\": \"2020-01-01\", \"end_date\": \"2025-01-01\", \"duration\": 60, \"related\": false}], \"languages\": [{\"language\": \"Español\", \"level\": \"Native\"}, {\"language\": \"Inglés\", \"level\": \"Native\"}]}"
        ],
        [
         "3",
         "CVANON0010",
         "{\"professionality\": 6, \"visual\": 5, \"grammar\": 6, \"ai_likelihood\": 5, \"education\": [{\"level\": \"Bachelor\", \"field\": \"Criminology\", \"related\": false, \"where\": \"Universidad Rey Juan Carlos\"}, {\"level\": \"Secondary\", \"field\": \"\", \"related\": false, \"where\": \"Colegio Decroly\"}, {\"level\": \"Preparatory\", \"field\": \"\", \"related\": false, \"where\": \"Colegio Sagrado Corazon de Jesus\"}], \"experience\": [{\"position\": \"Azafata de eventos\", \"responsibility_level\": \"Entry\", \"company\": \"Universidad Rey Juan Carlos\", \"start_date\": \"2019-10-01\", \"end_date\": \"2020-02-01\", \"duration\": 4, \"related\": false}, {\"position\": \"Dependienta\", \"responsibility_level\": \"Entry\", \"company\": \"Libreria Deportiva Sol\", \"start_date\": \"2017-04-01\", \"end_date\": \"2017-04-30\", \"duration\": 0, \"related\": false}], \"languages\": [{\"language\": \"French\", \"level\": \"Basic\"}, {\"language\": \"English\", \"level\": \"Native\"}]}"
        ],
        [
         "4",
         "CVANON0015",
         "{\n  \"professionality\": 3,\n  \"visual\": 4,\n  \"grammar\": 3,\n  \"ai_likelihood\": 6,\n  \"education\": [\n    {\n      \"level\": \"Preparatory\",\n      \"field\": \"General Education\",\n      \"related\": false,\n      \"where\": \"IES Rosa Chacel\"\n    }\n  ],\n  \"experience\": [],\n  \"languages\": [\n    {\n      \"language\": \"Español\",\n      \"level\": \"Advanced\"\n    },\n    {\n      \"language\": \"Inglés\",\n      \"level\": \"Native\"\n    }\n  ]\n}"
        ],
        [
         "5",
         "CVANON0007",
         "{\"professionality\": 5, \"visual\": 5, \"grammar\": 6, \"ai_likelihood\": 2, \"education\": [{\"level\": \"Bachelor\", \"field\": \"Filologia Inglesa\", \"related\": false, \"where\": \"Saint Louis University - Madrid\"}, {\"level\": \"Preparatory\", \"field\": \"General Studies\", \"related\": false, \"where\": \"Barcelona High School\"}, {\"level\": \"Secondary\", \"field\": \"General Studies\", \"related\": false, \"where\": \"IES Consell de cent\"}], \"experience\": [], \"languages\": [{\"language\": \"Inglés\", \"level\": \"Native\"}, {\"language\": \"Catalan\", \"level\": \"Intermediate\"}, {\"language\": \"Español\", \"level\": \"Native\"}]}"
        ],
        [
         "6",
         "CVANON0055",
         "{\n  \"professionality\": 8,\n  \"visual\": 7,\n  \"grammar\": 7,\n  \"ai_likelihood\": 5,\n  \"education\": [\n    {\n      \"level\": \"Master\",\n      \"field\": \"Gestion Internacional de la Empresa\",\n      \"related\": true,\n      \"where\": \"ICEX España Exportación e Inversiones\"\n    },\n    {\n      \"level\": \"Bachelor\",\n      \"field\": \"Administración y Dirección de Empresas\",\n      \"related\": true,\n      \"where\": \"Universidad Rey Juan Carlos\"\n    },\n    {\n      \"level\": \"Bachelor\",\n      \"field\": \"Administración y Dirección de Empresas\",\n      \"related\": true,\n      \"where\": \"Uniwersytet Warszawski\"\n    }\n  ],\n  \"experience\": [\n    {\n      \"position\": \"Analista de Proyectos Internacionales\",\n      \"responsibility_level\": \"Intermediate\",\n      \"company\": \"INECO - INGENIERIA Y ECONOMIA DEL TRANSPORTE\",\n      \"start_date\": \"2024-02-01\",\n      \"end_date\": \"2024-06-01\",\n      \"duration\": 4,\n      \"related\": false\n    },\n    {\n      \"position\": \"Asesor de Comercio e Inversiones Internacionales\",\n      \"responsibility_level\": \"Intermediate\",\n      \"company\": \"OFICINA ECONOMICA Y COMERCIAL DE LA EMBAJADA DE ESPAÑA EN LUANDA\",\n      \"start_date\": \"2023-01-01\",\n      \"end_date\": \"2023-12-31\",\n      \"duration\": 11,\n      \"related\": true\n    },\n    {\n      \"position\": \"Analista de Front Office\",\n      \"responsibility_level\": \"Intermediate\",\n      \"company\": \"CECABANK – CONFEDERACION ESPANOLA DE CAJAS DE AHORROS\",\n      \"start_date\": \"2022-06-01\",\n      \"end_date\": \"2022-12-31\",\n      \"duration\": 6,\n      \"related\": false\n    },\n    {\n      \"position\": \"Coordinador Logistico\",\n      \"responsibility_level\": \"Intermediate\",\n      \"company\": \"CHEP POOLING SYSTEMS – BRAMBLES LOGISTICS\",\n      \"start_date\": \"2021-06-01\",\n      \"end_date\": \"2022-05-31\",\n      \"duration\": 11,\n      \"related\": false\n    },\n    {\n      \"position\": \"Auditor financiero\",\n      \"responsibility_level\": \"Entry\",\n      \"company\": \"PwC - PRICEWATERHOUSECOOPERS\",\n      \"start_date\": \"2021-01-01\",\n      \"end_date\": \"2021-05-31\",\n      \"duration\": 4,\n      \"related\": false\n    },\n    {\n      \"position\": \"Encargado de Ventas y Distribución\",\n      \"responsibility_level\": \"Intermediate\",\n      \"company\": \"ARROZITOS & MAS\",\n      \"start_date\": \"2017-11-01\",\n      \"end_date\": \"2020-10-31\",\n      \"duration\": 35,\n      \"related\": true\n    },\n    {\n      \"position\": \"Encargado de Ventas y Stock\",\n      \"responsibility_level\": \"Intermediate\",\n      \"company\": \"MARCO POLO DECOR -IMPERAITALIA\",\n      \"start_date\": \"2017-01-01\",\n      \"end_date\": \"2017-10-31\",\n      \"duration\": 9,\n      \"related\": true\n    },\n    {\n      \"position\": \"Representante de Ventas\",\n      \"responsibility_level\": \"Entry\",\n      \"company\": \"XLN TELECOM\",\n      \"start_date\": \"2016-02-01\",\n      \"end_date\": \"2017-01-31\",\n      \"duration\": 11,\n      \"related\": true\n    }\n  ],\n  \"languages\": [\n    {\n      \"language\": \"Español\",\n      \"level\": \"Native\"\n    },\n    {\n      \"language\": \"Inglés\",\n      \"level\": \"Native\"\n    },\n    {\n      \"language\": \"Portugués\",\n      \"level\": \"Advanced\"\n    },\n    {\n      \"language\": \"Francés\",\n      \"level\": \"Intermediate\"\n    }\n  ]\n}"
        ],
        [
         "7",
         "CVANON0011",
         "{\n  \"professionality\": 7,\n  \"visual\": 6,\n  \"grammar\": 4,\n  \"ai_likelihood\": 4,\n  \"education\": [\n    {\n      \"level\": \"Secondary\",\n      \"field\": \"General\",\n      \"related\": false,\n      \"where\": \"I.E.S Hiponova\"\n    },\n    {\n      \"level\": \"Non-regulated Course\",\n      \"field\": \"Relaxation Massage\",\n      \"related\": false,\n      \"where\": \"Aula de formación andaluza (Marbella)\"\n    }\n  ],\n  \"experience\": [\n    {\n      \"position\": \"Uk Merchant Sales Manager and Client Manager\",\n      \"responsibility_level\": \"Intermediate\",\n      \"company\": \"American Express\",\n      \"start_date\": \"2018-12-01\",\n      \"end_date\": \"2023-01-01\",\n      \"duration\": 61,\n      \"related\": true\n    },\n    {\n      \"position\": \"Community manager and Sales Manager\",\n      \"responsibility_level\": \"Intermediate\",\n      \"company\": \"Pronovias\",\n      \"start_date\": \"2017-04-01\",\n      \"end_date\": \"2018-08-01\",\n      \"duration\": 16,\n      \"related\": true\n    },\n    {\n      \"position\": \"Secretaria técnica y azafata de congreso/imagen/promociones\",\n      \"responsibility_level\": \"Entry\",\n      \"company\": \"De Teral Protocolo\",\n      \"start_date\": \"2014-10-01\",\n      \"end_date\": \"2018-05-01\",\n      \"duration\": 43,\n      \"related\": false\n    },\n    {\n      \"position\": \"Sales Assistant\",\n      \"responsibility_level\": \"Entry\",\n      \"company\": \"Adolfo Dominguez\",\n      \"start_date\": \"2017-01-01\",\n      \"end_date\": \"2017-04-01\",\n      \"duration\": 3,\n      \"related\": false\n    },\n    {\n      \"position\": \"Manager and Assistant Manager\",\n      \"responsibility_level\": \"Manager\",\n      \"company\": \"Mamahuhu\",\n      \"start_date\": \"2016-01-01\",\n      \"end_date\": \"2016-08-01\",\n      \"duration\": 7,\n      \"related\": true\n    },\n    {\n      \"position\": \"Front Desk Manager\",\n      \"responsibility_level\": \"Entry\",\n      \"company\": \"Gar-Anat Hotel de Boutique\",\n      \"start_date\": \"2013-05-01\",\n      \"end_date\": \"2015-03-01\",\n      \"duration\": 22,\n      \"related\": false\n    },\n    {\n      \"position\": \"English Teacher\",\n      \"responsibility_level\": \"Entry\",\n      \"company\": \"Academia Henry O'Connell\",\n      \"start_date\": \"2013-04-01\",\n      \"end_date\": \"2014-07-01\",\n      \"duration\": 15,\n      \"related\": false\n    },\n    {\n      \"position\": \"Supervisor\",\n      \"responsibility_level\": \"Entry\",\n      \"company\": \"JD Sports Spain Plc\",\n      \"start_date\": \"2011-12-01\",\n      \"end_date\": \"2012-06-01\",\n      \"duration\": 6,\n      \"related\": false\n    },\n    {\n      \"position\": \"Events Manager\",\n      \"responsibility_level\": \"Director\",\n      \"company\": \"The Hacienda Retreat\",\n      \"start_date\": \"2009-06-01\",\n      \"end_date\": \"2011-11-01\",\n      \"duration\": 29,\n      \"related\": false\n    }\n  ],\n  \"languages\": [\n    {\n      \"language\": \"Español\",\n      \"level\": \"Native\"\n    },\n    {\n      \"language\": \"Inglés\",\n      \"level\": \"Native\"\n    },\n    {\n      \"language\": \"Francés\",\n      \"level\": \"Basic\"\n    }\n  ]\n}"
        ],
        [
         "8",
         "CVANON0023",
         "{\n  \"professionality\": 6,\n  \"visual\": 5,\n  \"grammar\": 5,\n  \"ai_likelihood\": 3,\n  \"education\": [\n    {\n      \"level\": \"Master\",\n      \"field\": \"Animation 3D\",\n      \"related\": false,\n      \"where\": \"Lightbox\"\n    },\n    {\n      \"level\": \"Vocational\",\n      \"field\": \"Administrative Management\",\n      \"related\": false,\n      \"where\": \"F.O.E Huelva\"\n    }\n  ],\n  \"experience\": [\n    {\n      \"position\": \"Profesor de inglés\",\n      \"responsibility_level\": \"Entry\",\n      \"company\": \"Colegio Santisimo Rosario\",\n      \"start_date\": \"2023-10-01\",\n      \"end_date\": \"Present\",\n      \"duration\": 15,\n      \"related\": false\n    },\n    {\n      \"position\": \"Clases particulares y asesorías\",\n      \"responsibility_level\": \"Entry\",\n      \"company\": \"Autónomo\",\n      \"start_date\": \"2018-01-01\",\n      \"end_date\": \"Present\",\n      \"duration\": 83,\n      \"related\": false\n    },\n    {\n      \"position\": \"Auxiliar administrativo y atención al cliente\",\n      \"responsibility_level\": \"Entry\",\n      \"company\": \"Puerto Deportivo Ayamonte\",\n      \"start_date\": \"2007-06-01\",\n      \"end_date\": \"2017-11-01\",\n      \"duration\": 125,\n      \"related\": false\n    }\n  ],\n  \"languages\": [\n    {\n      \"language\": \"Inglés\",\n      \"level\": \"Native\"\n    },\n    {\n      \"language\": \"Español\",\n      \"level\": \"Native\"\n    }\n  ]\n}"
        ],
        [
         "9",
         "CVANON0074",
         "{\"professionality\": 3, \"visual\": 2, \"grammar\": 5, \"ai_likelihood\": 4, \"education\": [{\"level\": \"Bachelor\", \"field\": \"Administration and Business Management\", \"related\": true, \"where\": \"Universidad Pontificia Comillas\"}, {\"level\": \"Bachelor\", \"field\": \"Administration and Business Management\", \"related\": true, \"where\": \"Dublin City University (DCU)\"}], \"experience\": [], \"languages\": [{\"language\": \"Spanish\", \"level\": \"Intermediate\"}, {\"language\": \"English\", \"level\": \"Native\"}]}"
        ],
        [
         "10",
         "CVANON0037",
         "{\"professionality\": 5, \"visual\": 3, \"grammar\": 6, \"ai_likelihood\": 2, \"education\": [{\"level\": \"Vocational\", \"field\": \"International Trade\", \"related\": false, \"where\": \"Not specified\"}], \"experience\": [{\"position\": \"Finance accountant\", \"responsibility_level\": \"Intermediate\", \"company\": \"SRL AHV International\", \"start_date\": \"2021-04-01\", \"end_date\": \"2024-08-01\", \"duration\": 40, \"related\": false}], \"languages\": [{\"language\": \"Español\", \"level\": \"Advanced\"}, {\"language\": \"Inglés\", \"level\": \"Advanced\"}, {\"language\": \"Holandés\", \"level\": \"Intermediate\"}]}"
        ],
        [
         "11",
         "CVANON0029",
         "{\"professionality\": 6, \"visual\": 5, \"grammar\": 4, \"ai_likelihood\": 3, \"education\": [{\"level\": \"Master\", \"field\": \"Education\", \"related\": false, \"where\": \"Universidad Autónoma de Madrid\"}, {\"level\": \"Bachelor\", \"field\": \"Biology\", \"related\": false, \"where\": \"Universidad Complutense de Madrid\"}, {\"level\": \"Non-regulated Course\", \"field\": \"English Language\", \"related\": false, \"where\": \"British Council\"}], \"experience\": [{\"position\": \"Profesor particular de inglés\", \"responsibility_level\": \"Entry\", \"company\": \"Freelance\", \"start_date\": \"2010-01-01\", \"end_date\": \"Currently\", \"duration\": 180, \"related\": false}, {\"position\": \"Monitor de campamento\", \"responsibility_level\": \"Entry\", \"company\": \"Access English Campus\", \"start_date\": \"2009-07-01\", \"end_date\": \"2013-07-01\", \"duration\": 48, \"related\": false}], \"languages\": [{\"language\": \"English\", \"level\": \"Native\"}]}"
        ],
        [
         "12",
         "CVANON0079",
         "{\"professionality\": 7, \"visual\": 6, \"grammar\": 5, \"ai_likelihood\": 5, \"education\": [{\"level\": \"Bachelor\", \"field\": \"Psychology\", \"related\": false, \"where\": \"York University\"}], \"experience\": [{\"position\": \"Assistant professor\", \"responsibility_level\": \"Entry\", \"company\": \"Colegio Zola\", \"start_date\": \"2021-01-01\", \"end_date\": \"2021-06-01\", \"duration\": 5, \"related\": false}, {\"position\": \"Tefl Instructor\", \"responsibility_level\": \"Intermediate\", \"company\": \"TEmadrid\", \"start_date\": \"2018-11-01\", \"end_date\": \"2020-12-01\", \"duration\": 25, \"related\": false}], \"languages\": [{\"language\": \"Italiano\", \"level\": \"Basic\"}, {\"language\": \"Español\", \"level\": \"Advanced\"}, {\"language\": \"Inglés\", \"level\": \"Native\"}]}"
        ],
        [
         "13",
         "CVANON0012",
         "{\n  \"professionality\": 7,\n  \"visual\": 5,\n  \"grammar\": 6,\n  \"ai_likelihood\": 4,\n  \"education\": [\n    {\n      \"level\": \"Bachelor\",\n      \"field\": \"Occupational Therapy\",\n      \"related\": false,\n      \"where\": \"Universidad Rey Juan Carlos\"\n    },\n    {\n      \"level\": \"Non-regulated Course\",\n      \"field\": \"Cognitive Evaluation Administration\",\n      \"related\": false,\n      \"where\": \"MoCA Cognition\"\n    },\n    {\n      \"level\": \"Non-regulated Course\",\n      \"field\": \"Self-harm and Suicide Prevention\",\n      \"related\": false,\n      \"where\": \"Organización Panamericana de la Salud\"\n    },\n    {\n      \"level\": \"Non-regulated Course\",\n      \"field\": \"E-commerce\",\n      \"related\": true,\n      \"where\": \"N/A\"\n    },\n    {\n      \"level\": \"Non-regulated Course\",\n      \"field\": \"Digital Marketing Fundamentals\",\n      \"related\": true,\n      \"where\": \"N/A\"\n    },\n    {\n      \"level\": \"Other\",\n      \"field\": \"English C1 Cambridge\",\n      \"related\": true,\n      \"where\": \"N/A\"\n    }\n  ],\n  \"experience\": [\n    {\n      \"position\": \"Private Tutor\",\n      \"responsibility_level\": \"Entry\",\n      \"company\": \"Self-Employed\",\n      \"start_date\": \"2020-09-01\",\n      \"end_date\": \"2024-06-01\",\n      \"duration\": 45,\n      \"related\": false\n    },\n    {\n      \"position\": \"Cashier\",\n      \"responsibility_level\": \"Entry\",\n      \"company\": \"Carrefour San Sebastian\",\n      \"start_date\": \"2023-07-01\",\n      \"end_date\": \"2023-08-01\",\n      \"duration\": 1,\n      \"related\": false\n    },\n    {\n      \"position\": \"Occupational Therapy Intern\",\n      \"responsibility_level\": \"Entry\",\n      \"company\": \"Hospital Universitario Doce de Octubre\",\n      \"start_date\": \"2022-10-01\",\n      \"end_date\": \"2022-12-01\",\n      \"duration\": 2,\n      \"related\": false\n    },\n    {\n      \"position\": \"Occupational Therapy Intern\",\n      \"responsibility_level\": \"Entry\",\n      \"company\": \"Hospital San Vicente\",\n      \"start_date\": \"2022-12-01\",\n      \"end_date\": \"2023-02-01\",\n      \"duration\": 2,\n      \"related\": false\n    },\n    {\n      \"position\": \"Occupational Therapy Intern\",\n      \"responsibility_level\": \"Entry\",\n      \"company\": \"Unidad de Memoria en Alcorcón\",\n      \"start_date\": \"2023-02-01\",\n      \"end_date\": \"2023-05-01\",\n      \"duration\": 3,\n      \"related\": false\n    }\n  ],\n  \"languages\": [\n    {\n      \"language\": \"Spanish\",\n      \"level\": \"Native\"\n    },\n    {\n      \"language\": \"English\",\n      \"level\": \"Native\"\n    },\n    {\n      \"language\": \"French\",\n      \"level\": \"Basic\"\n    }\n  ]\n}"
        ],
        [
         "14",
         "CVANON0041",
         "{\"professionality\": 6, \"visual\": 5, \"grammar\": 4, \"ai_likelihood\": 2, \"education\": [{\"level\": \"Vocational\", \"field\": \"Imagen Personal\", \"related\": false, \"where\": \"Lebt\"}, {\"level\": \"Non-regulated Course\", \"field\": \"Celta - B\", \"related\": false, \"where\": \"\"}], \"experience\": [{\"position\": \"Profesora de inglés\", \"responsibility_level\": \"Senior\", \"company\": \"Autonom\", \"start_date\": \"2008-11-01\", \"end_date\": \"2025-01-01\", \"duration\": 194, \"related\": false}], \"languages\": [{\"language\": \"Francés\", \"level\": \"Basic\"}, {\"language\": \"Aleman\", \"level\": \"Intermediate\"}, {\"language\": \"Español\", \"level\": \"Advanced\"}, {\"language\": \"Inglés\", \"level\": \"Native\"}]}"
        ],
        [
         "15",
         "CVANON0003",
         "{\n  \"professionality\": 6,\n  \"visual\": 5,\n  \"grammar\": 5,\n  \"ai_likelihood\": 3,\n  \"education\": [\n    {\n      \"level\": \"Non-regulated Course\",\n      \"field\": \"Interior and Exterior Design\",\n      \"related\": false,\n      \"where\": \"Online\"\n    }\n  ],\n  \"experience\": [\n    {\n      \"position\": \"Dependiente/a de tienda\",\n      \"responsibility_level\": \"Entry\",\n      \"company\": \"Obsesion Escuela de Surf\",\n      \"start_date\": \"2023-06-01\",\n      \"end_date\": \"2023-11-01\",\n      \"duration\": 5,\n      \"related\": false\n    },\n    {\n      \"position\": \"Auxiliar Administrativa\",\n      \"responsibility_level\": \"Entry\",\n      \"company\": \"Desguace Reto\",\n      \"start_date\": \"2022-01-01\",\n      \"end_date\": \"2023-01-01\",\n      \"duration\": 12,\n      \"related\": false\n    },\n    {\n      \"position\": \"Técnico/a social\",\n      \"responsibility_level\": \"Intermediate\",\n      \"company\": \"Reto alaEsperanza\",\n      \"start_date\": \"2018-05-01\",\n      \"end_date\": \"2022-09-01\",\n      \"duration\": 52,\n      \"related\": false\n    }\n  ],\n  \"languages\": [\n    {\n      \"language\": \"Inglés\",\n      \"level\": \"Native\"\n    }\n  ]\n}"
        ],
        [
         "16",
         "CVANON0039",
         "{\"professionality\": 7, \"visual\": 6, \"grammar\": 6, \"ai_likelihood\": 3, \"education\": [{\"level\": \"Bachelor\", \"field\": \"History\", \"related\": false, \"where\": \"Duquesne University\"}, {\"level\": \"Secondary\", \"field\": \"Bachillerato\", \"related\": false, \"where\": \"C.E. Zola - Las Rozas\"}, {\"level\": \"Secondary\", \"field\": \"Educacion Secundaria Obligatoria\", \"related\": false, \"where\": \"C.E. Zola - Las Rozas\"}], \"experience\": [{\"position\": \"Auxiliar de Conversacion\", \"responsibility_level\": \"Intermediate\", \"company\": \"IES El Burgo de las Rozas-Ignacio Echevarria\", \"start_date\": \"2018-01-01\", \"end_date\": \"2019-01-01\", \"duration\": 12, \"related\": true}, {\"position\": \"Auxiliar de Conversacion\", \"responsibility_level\": \"Intermediate\", \"company\": \"IES Diego Velazquez\", \"start_date\": \"2016-01-01\", \"end_date\": \"2018-01-01\", \"duration\": 24, \"related\": true}, {\"position\": \"Auxiliar de Conversacion\", \"responsibility_level\": \"Intermediate\", \"company\": \"IES Gregorio Peces-Barba\", \"start_date\": \"2013-01-01\", \"end_date\": \"2014-01-01\", \"duration\": 12, \"related\": true}, {\"position\": \"Secretario de oficina\", \"responsibility_level\": \"Entry\", \"company\": \"Oficina de Relaciones Publicas de Duquesne University\", \"start_date\": \"2015-01-01\", \"end_date\": \"2016-01-01\", \"duration\": 12, \"related\": false}, {\"position\": \"Socorrista\", \"responsibility_level\": \"Entry\", \"company\": \"Simasport\", \"start_date\": \"2016-06-01\", \"end_date\": \"2016-08-31\", \"duration\": 2, \"related\": false}, {\"position\": \"Socorrista\", \"responsibility_level\": \"Entry\", \"company\": \"Simasport\", \"start_date\": \"2017-06-01\", \"end_date\": \"2017-08-31\", \"duration\": 2, \"related\": false}, {\"position\": \"Primer entrenador de baloncesto\", \"responsibility_level\": \"Entry\", \"company\": \"Club Baloncesto Torrelodones\", \"start_date\": \"2009-01-01\", \"end_date\": \"2011-01-01\", \"duration\": 24, \"related\": false}], \"languages\": [{\"language\": \"Inglés\", \"level\": \"Native\"}, {\"language\": \"Español\", \"level\": \"Native\"}]}"
        ],
        [
         "17",
         "CVANON0005",
         "{\"professionality\": 6, \"visual\": 5, \"grammar\": 4, \"ai_likelihood\": 3, \"education\": [{\"level\": \"Bachelor\", \"field\": \"Law\", \"related\": false, \"where\": \"Universidad Iberoamericana\"}, {\"level\": \"Postgraduate Diploma\", \"field\": \"Intellectual Property\", \"related\": false, \"where\": \"Universidad Carlos III de Madrid\"}, {\"level\": \"Bachelor\", \"field\": \"Law\", \"related\": false, \"where\": \"Universidad Internacional de la Rioja\"}], \"experience\": [{\"position\": \"Intern\", \"responsibility_level\": \"Entry\", \"company\": \"Warner Music Spain\", \"start_date\": \"2022-10-01\", \"end_date\": \"2023-05-01\", \"duration\": 7, \"related\": false}, {\"position\": \"Legal Assistant\", \"responsibility_level\": \"Entry\", \"company\": \"Grupo Sonigas\", \"start_date\": \"2021-09-01\", \"end_date\": \"2022-08-01\", \"duration\": 11, \"related\": false}, {\"position\": \"Project Coordinator\", \"responsibility_level\": \"Entry\", \"company\": \"Correduria Publica numero 2 del Estado de Guanajuato\", \"start_date\": \"2021-05-01\", \"end_date\": \"2021-09-01\", \"duration\": 4, \"related\": false}], \"languages\": [{\"language\": \"Spanish\", \"level\": \"Native\"}, {\"language\": \"French\", \"level\": \"Intermediate\"}, {\"language\": \"English\", \"level\": \"Native\"}]}"
        ],
        [
         "18",
         "CVANON0080",
         "{\"professionality\": 8, \"visual\": 7, \"grammar\": 8, \"ai_likelihood\": 3, \"education\": [{\"level\": \"Bachelor\", \"field\": \"Communication\", \"related\": true, \"where\": \"University of Massachusetts, Amherst\"}, {\"level\": \"Non-regulated Course\", \"field\": \"Spanish\", \"related\": false, \"where\": \"Universidad de Belgrano\"}], \"experience\": [{\"position\": \"CRM\", \"responsibility_level\": \"Entry\", \"company\": \"Lingokids\", \"start_date\": \"2018-12-01\", \"end_date\": \"\", \"duration\": 73, \"related\": true}, {\"position\": \"International Communications Manager\", \"responsibility_level\": \"Intermediate\", \"company\": \"LaLiga\", \"start_date\": \"2017-10-01\", \"end_date\": \"2018-08-01\", \"duration\": 10, \"related\": true}, {\"position\": \"Communications Specialist\", \"responsibility_level\": \"Specialist\", \"company\": \"Nike, Inc.\", \"start_date\": \"2017-01-01\", \"end_date\": \"2018-07-01\", \"duration\": 18, \"related\": true}, {\"position\": \"Business Development\", \"responsibility_level\": \"Intern\", \"company\": \"Harlem's Alive\", \"start_date\": \"2015-06-01\", \"end_date\": \"2015-08-01\", \"duration\": 2, \"related\": false}], \"languages\": [{\"language\": \"Spanish\", \"level\": \"Advanced\"}, {\"language\": \"English\", \"level\": \"Native\"}]}"
        ],
        [
         "19",
         "CVANON0006",
         "{\"professionality\": 6, \"visual\": 5, \"grammar\": 4, \"ai_likelihood\": 3, \"education\": [{\"level\": \"Bachelor\", \"field\": \"Humanities\", \"related\": false, \"where\": \"UAH\"}, {\"level\": \"Secondary\", \"field\": \"General Education\", \"related\": false, \"where\": \"IES Antonio Machado\"}], \"experience\": [{\"position\": \"Monitor de tiempo libre\", \"responsibility_level\": \"Entry\", \"company\": \"Activa\", \"start_date\": \"2012-07-01\", \"end_date\": \"2012-08-01\", \"duration\": 1, \"related\": false}, {\"position\": \"Profesora de ingles\", \"responsibility_level\": \"Entry\", \"company\": \"Newton\", \"start_date\": \"2010-10-01\", \"end_date\": \"2011-10-01\", \"duration\": 12, \"related\": false}], \"languages\": [{\"language\": \"Español\", \"level\": \"Native\"}, {\"language\": \"Inglés\", \"level\": \"Native\"}]}"
        ],
        [
         "20",
         "CVANON0047",
         "{\"professionality\": 8, \"visual\": 6, \"grammar\": 7, \"ai_likelihood\": 5, \"education\": [{\"level\": \"Postgraduate Diploma\", \"field\": \"Business Management\", \"related\": true, \"where\": \"EUDE Business School Madrid\"}, {\"level\": \"Bachelor\", \"field\": \"Business Administration\", \"related\": true, \"where\": \"Universidad de Puerto Rico, Rio Piedras\"}, {\"level\": \"Bachelor\", \"field\": \"Accounting and Finance\", \"related\": false, \"where\": \"Universidad de Puerto Rico, Rio Piedras\"}, {\"level\": \"Bachelor\", \"field\": \"Marketing\", \"related\": true, \"where\": \"Universidad de Puerto Rico, Rio Piedras\"}], \"experience\": [{\"position\": \"Marketing Manager\", \"responsibility_level\": \"Manager\", \"company\": \"Soluciones para Automocién Techauto\", \"start_date\": \"2023-03-01\", \"end_date\": \"2024-11-01\", \"duration\": 22, \"related\": true}, {\"position\": \"Digital Marketing\", \"responsibility_level\": \"Intermediate\", \"company\": \"Finca Casual Kitchen\", \"start_date\": \"2021-08-01\", \"end_date\": \"2022-05-01\", \"duration\": 9, \"related\": true}, {\"position\": \"Marketing\", \"responsibility_level\": \"Intermediate\", \"company\": \"Planet Media Corp\", \"start_date\": \"2020-03-01\", \"end_date\": \"2021-08-01\", \"duration\": 17, \"related\": true}, {\"position\": \"Digital Marketing\", \"responsibility_level\": \"Entry\", \"company\": \"Cincosentidos Culinary Group\", \"start_date\": \"2019-01-01\", \"end_date\": \"2020-03-01\", \"duration\": 14, \"related\": true}, {\"position\": \"Responsable de investigacion de mercados\", \"responsibility_level\": \"Entry\", \"company\": \"Colegio de Quimicos de PR\", \"start_date\": \"2019-01-01\", \"end_date\": \"2019-08-01\", \"duration\": 7, \"related\": true}], \"languages\": [{\"language\": \"English\", \"level\": \"Native\"}, {\"language\": \"Spanish\", \"level\": \"Native\"}]}"
        ],
        [
         "21",
         "CVANON0013",
         "{\"professionality\": 7, \"visual\": 6, \"grammar\": 5, \"ai_likelihood\": 4, \"education\": [{\"level\": \"Bachelor\", \"field\": \"Linguistics\", \"related\": false, \"where\": \"University of Leicester\"}], \"experience\": [{\"position\": \"Agente de venta telefénica\", \"responsibility_level\": \"Entry\", \"company\": \"Probance\", \"start_date\": \"2022-04-01\", \"end_date\": \"2022-08-01\", \"duration\": 4, \"related\": true}, {\"position\": \"Repartidor/a\", \"responsibility_level\": \"Entry\", \"company\": \"Grupo Disbesa\", \"start_date\": \"2022-03-01\", \"end_date\": \"2022-04-01\", \"duration\": 1, \"related\": false}, {\"position\": \"Conductor/a de camion\", \"responsibility_level\": \"Entry\", \"company\": \"DHL Supply Chain\", \"start_date\": \"2019-08-01\", \"end_date\": \"2020-09-01\", \"duration\": 13, \"related\": false}, {\"position\": \"Jefe/a de proyecto\", \"responsibility_level\": \"Manager\", \"company\": \"H&K\", \"start_date\": \"2012-03-01\", \"end_date\": \"2019-08-01\", \"duration\": 89, \"related\": false}], \"languages\": [{\"language\": \"Español\", \"level\": \"Advanced\"}, {\"language\": \"Inglés\", \"level\": \"Native\"}, {\"language\": \"Italiano\", \"level\": \"Native\"}, {\"language\": \"Francés\", \"level\": \"Advanced\"}]}"
        ],
        [
         "22",
         "CVANON0032",
         "{\n  \"professionality\": 7,\n  \"visual\": 6,\n  \"grammar\": 5,\n  \"ai_likelihood\": 4,\n  \"education\": [\n    {\n      \"level\": \"Secondary\",\n      \"field\": \"ADE\",\n      \"related\": false,\n      \"where\": \"\"\n    },\n    {\n      \"level\": \"Postgraduate Diploma\",\n      \"field\": \"Negocios Internacionales con Espanol\",\n      \"related\": false,\n      \"where\": \"Queens University Belfast\"\n    }\n  ],\n  \"experience\": [\n    {\n      \"position\": \"Profesor de Inglés\",\n      \"responsibility_level\": \"Entry\",\n      \"company\": \"ENGLISH4FUTURE\",\n      \"start_date\": \"2022-09-01\",\n      \"end_date\": \"2025-04-01\",\n      \"duration\": 31,\n      \"related\": false\n    },\n    {\n      \"position\": \"Auxiliar Administrativo\",\n      \"responsibility_level\": \"Entry\",\n      \"company\": \"HEALTH AND SOCIAL CARE TRUST, BELFAST TRUST\",\n      \"start_date\": \"2021-09-01\",\n      \"end_date\": \"2022-08-01\",\n      \"duration\": 11,\n      \"related\": false\n    },\n    {\n      \"position\": \"Profesor de Inglés\",\n      \"responsibility_level\": \"Entry\",\n      \"company\": \"ACADEMIA BIG BEN\",\n      \"start_date\": \"2019-09-01\",\n      \"end_date\": \"2020-06-01\",\n      \"duration\": 9,\n      \"related\": false\n    },\n    {\n      \"position\": \"Auxiliar de Inglés Profesor\",\n      \"responsibility_level\": \"Entry\",\n      \"company\": \"COLEGIO SAN JUAN BAUTISTA\",\n      \"start_date\": \"2019-01-01\",\n      \"end_date\": \"2020-01-01\",\n      \"duration\": 12,\n      \"related\": false\n    },\n    {\n      \"position\": \"Asistente de Ventas Internacionales y Exportaciones\",\n      \"responsibility_level\": \"Entry\",\n      \"company\": \"INBANI\",\n      \"start_date\": \"2017-09-01\",\n      \"end_date\": \"2018-06-01\",\n      \"duration\": 9,\n      \"related\": true\n    }\n  ],\n  \"languages\": [\n    {\n      \"language\": \"Español\",\n      \"level\": \"Advanced\"\n    },\n    {\n      \"language\": \"Inglés\",\n      \"level\": \"Native\"\n    }\n  ]\n}"
        ],
        [
         "23",
         "CVANON0058",
         "{\n  \"professionality\": 7,\n  \"visual\": 6,\n  \"grammar\": 7,\n  \"ai_likelihood\": 4,\n  \"education\": [\n    {\n      \"level\": \"Vocational\",\n      \"field\": \"Comunicación, Imagen y Sonido\",\n      \"related\": false,\n      \"where\": \"Nottingham College UK\"\n    }\n  ],\n  \"experience\": [\n    {\n      \"position\": \"Recepcionista\",\n      \"responsibility_level\": \"Specialist\",\n      \"company\": \"The Student Hotel\",\n      \"start_date\": \"2023-02-01\",\n      \"end_date\": \"2024-10-01\",\n      \"duration\": 20,\n      \"related\": false\n    },\n    {\n      \"position\": \"Gerente de restaurante\",\n      \"responsibility_level\": \"Director\",\n      \"company\": \"vida by lorentes\",\n      \"start_date\": \"2021-04-01\",\n      \"end_date\": \"2023-01-01\",\n      \"duration\": 21,\n      \"related\": false\n    },\n    {\n      \"position\": \"Gerente\",\n      \"responsibility_level\": \"Director\",\n      \"company\": \"Grupo GCV\",\n      \"start_date\": \"2020-04-01\",\n      \"end_date\": \"2021-01-01\",\n      \"duration\": 9,\n      \"related\": false\n    },\n    {\n      \"position\": \"Asistente de ventas\",\n      \"responsibility_level\": \"Specialist\",\n      \"company\": \"wilko\",\n      \"start_date\": \"2018-02-01\",\n      \"end_date\": \"2020-03-01\",\n      \"duration\": 25,\n      \"related\": true\n    },\n    {\n      \"position\": \"Asistente de ventas\",\n      \"responsibility_level\": \"Entry\",\n      \"company\": \"tigger\",\n      \"start_date\": \"2016-07-01\",\n      \"end_date\": \"2018-01-01\",\n      \"duration\": 18,\n      \"related\": true\n    },\n    {\n      \"position\": \"Camarero\",\n      \"responsibility_level\": \"Entry\",\n      \"company\": \"RESTAURANTE TANGO\",\n      \"start_date\": \"2015-03-01\",\n      \"end_date\": \"2016-06-01\",\n      \"duration\": 15,\n      \"related\": false\n    },\n    {\n      \"position\": \"Vendedor\",\n      \"responsibility_level\": \"Entry\",\n      \"company\": \"El Mamut\",\n      \"start_date\": \"2014-04-01\",\n      \"end_date\": \"2015-09-01\",\n      \"duration\": 17,\n      \"related\": true\n    }\n  ],\n  \"languages\": [\n    {\n      \"language\": \"Francés\",\n      \"level\": \"Native\"\n    },\n    {\n      \"language\": \"Inglés\",\n      \"level\": \"Native\"\n    },\n    {\n      \"language\": \"Español\",\n      \"level\": \"Native\"\n    }\n  ]\n}"
        ],
        [
         "24",
         "CVANON0064",
         "{\"professionality\": 7, \"visual\": 6, \"grammar\": 5, \"ai_likelihood\": 4, \"education\": [{\"level\": \"Vocational\", \"field\": \"Informatica\", \"related\": false, \"where\": \"Spartanburg Community College, USA\"}, {\"level\": \"Vocational\", \"field\": \"Informatica\", \"related\": false, \"where\": \"Not specified\"}], \"experience\": [{\"position\": \"Asistente de Personal\", \"responsibility_level\": \"Intermediate\", \"company\": \"Express Employment Professionals\", \"start_date\": \"2017-03-01\", \"end_date\": \"2021-12-01\", \"duration\": 57, \"related\": false}, {\"position\": \"Administrador de Ventas Internacionales\", \"responsibility_level\": \"Entry\", \"company\": \"Secom Caribe S.A.\", \"start_date\": \"2015-01-01\", \"end_date\": \"2017-06-01\", \"duration\": 29, \"related\": true}, {\"position\": \"Administrador de Oficina\", \"responsibility_level\": \"Entry\", \"company\": \"Hub Hyundai-Mitsubichi\", \"start_date\": \"2013-11-01\", \"end_date\": \"2015-03-01\", \"duration\": 16, \"related\": false}], \"languages\": [{\"language\": \"Inglés\", \"level\": \"Native\"}, {\"language\": \"Español\", \"level\": \"Native\"}]}"
        ],
        [
         "25",
         "CVANON0060",
         "{\n  \"professionality\": 7,\n  \"visual\": 6,\n  \"grammar\": 6,\n  \"ai_likelihood\": 5,\n  \"education\": [\n    {\n      \"level\": \"Vocational\",\n      \"field\": \"Administration\",\n      \"related\": false,\n      \"where\": \"MASTER-D\"\n    },\n    {\n      \"level\": \"Diploma\",\n      \"field\": \"Tourism\",\n      \"related\": true,\n      \"where\": \"Shannon College of Catering\"\n    },\n    {\n      \"level\": \"Diploma\",\n      \"field\": \"Hotel & Catering\",\n      \"related\": true,\n      \"where\": \"Shannon Catering College\"\n    },\n    {\n      \"level\": \"Other\",\n      \"field\": \"Web & Graphic Design\",\n      \"related\": false,\n      \"where\": \"FAS College, Limerick, Ireland\"\n    }\n  ],\n  \"experience\": [\n    {\n      \"position\": \"Customs agent\",\n      \"responsibility_level\": \"Entry\",\n      \"company\": \"DHL EXPRESS\",\n      \"start_date\": \"2010-06-01\",\n      \"end_date\": null,\n      \"duration\": 169,\n      \"related\": false\n    },\n    {\n      \"position\": \"Gestion Asistencia en Viajes/Medica/Carretera\",\n      \"responsibility_level\": \"Entry\",\n      \"company\": \"International SOS\",\n      \"start_date\": \"2009-01-01\",\n      \"end_date\": \"2010-06-01\",\n      \"duration\": 17,\n      \"related\": false\n    },\n    {\n      \"position\": \"Recepcionista Bilingue Ingles\",\n      \"responsibility_level\": \"Entry\",\n      \"company\": \"Aula Diez - Centro de Apoyo Académico\",\n      \"start_date\": \"2009-06-01\",\n      \"end_date\": \"2009-09-01\",\n      \"duration\": 3,\n      \"related\": false\n    },\n    {\n      \"position\": \"Gestion y control de Reservas de automoviles\",\n      \"responsibility_level\": \"Entry\",\n      \"company\": \"Rainbow Communications\",\n      \"start_date\": \"2008-04-01\",\n      \"end_date\": \"2008-10-01\",\n      \"duration\": 6,\n      \"related\": false\n    },\n    {\n      \"position\": \"Recepcionista Bilingue Espafol\",\n      \"responsibility_level\": \"Entry\",\n      \"company\": \"Sauche S.L\",\n      \"start_date\": \"2006-11-01\",\n      \"end_date\": \"2007-10-01\",\n      \"duration\": 11,\n      \"related\": false\n    },\n    {\n      \"position\": \"Tramitacion de Siniestros y Gestion de Presupuestos\",\n      \"responsibility_level\": \"Entry\",\n      \"company\": \"Multiasistencia S.A\",\n      \"start_date\": \"2005-08-01\",\n      \"end_date\": \"2006-10-01\",\n      \"duration\": 14,\n      \"related\": false\n    },\n    {\n      \"position\": \"Camarera\",\n      \"responsibility_level\": \"Entry\",\n      \"company\": \"McCarthy’s Irish Bar y Restaurantes\",\n      \"start_date\": \"2003-09-01\",\n      \"end_date\": \"2005-08-01\",\n      \"duration\": 23,\n      \"related\": false\n    }\n  ],\n  \"languages\": [\n    {\n      \"language\": \"Spanish\",\n      \"level\": \"Intermediate\"\n    },\n    {\n      \"language\": \"English\",\n      \"level\": \"Native\"\n    },\n    {\n      \"language\": \"French\",\n      \"level\": \"Basic\"\n    },\n    {\n      \"language\": \"Gaelic\",\n      \"level\": \"Native\"\n    }\n  ]\n}"
        ],
        [
         "26",
         "CVANON0028",
         "{\"professionality\": 7, \"visual\": 6, \"grammar\": 8, \"ai_likelihood\": 5, \"education\": [{\"level\": \"Bachelor\", \"field\": \"Secondary Education – Modern Languages\", \"related\": false, \"where\": \"Kansas State University\"}, {\"level\": \"Non-regulated Course\", \"field\": \"UX Design\", \"related\": false, \"where\": \"Google\"}], \"experience\": [{\"position\": \"Extracurricular English Teacher (Primary)\", \"responsibility_level\": \"Entry\", \"company\": \"International Institute Madrid\", \"start_date\": \"2021-04-01\", \"end_date\": \"2021-06-01\", \"duration\": 2, \"related\": false}, {\"position\": \"Academy English Teacher\", \"responsibility_level\": \"Entry\", \"company\": \"The Warehouse Madrid\", \"start_date\": \"2018-09-01\", \"end_date\": \"2020-11-01\", \"duration\": 26, \"related\": false}, {\"position\": \"Extracurricular English Teacher and Business English Teacher\", \"responsibility_level\": \"Entry\", \"company\": \"IC Idiomas\", \"start_date\": \"2017-10-01\", \"end_date\": \"2018-06-01\", \"duration\": 8, \"related\": false}, {\"position\": \"Business English Teacher\", \"responsibility_level\": \"Entry\", \"company\": \"Virensis\", \"start_date\": \"2016-10-01\", \"end_date\": \"2017-06-01\", \"duration\": 8, \"related\": false}, {\"position\": \"Conversation Assistant (Primary)\", \"responsibility_level\": \"Entry\", \"company\": \"CEIP Juan Pérez Villaamil\", \"start_date\": \"2014-10-01\", \"end_date\": \"2016-06-01\", \"duration\": 20, \"related\": false}, {\"position\": \"Extracurricular English Teacher (Primary)\", \"responsibility_level\": \"Entry\", \"company\": \"Native Learn, S.L.\", \"start_date\": \"2014-10-01\", \"end_date\": \"2016-03-01\", \"duration\": 17, \"related\": false}, {\"position\": \"Student Intern Practicum (Secondary)\", \"responsibility_level\": \"Entry\", \"company\": \"Manhattan High School West Campus\", \"start_date\": \"2014-01-01\", \"end_date\": \"2014-05-01\", \"duration\": 4, \"related\": false}, {\"position\": \"Student Intern Practicum (Primary)\", \"responsibility_level\": \"Entry\", \"company\": \"Theodore Roosevelt Elementary School\", \"start_date\": \"2014-01-01\", \"end_date\": \"2014-05-01\", \"duration\": 4, \"related\": false}, {\"position\": \"Front Desk Receptionist/ Guest Service Agent\", \"responsibility_level\": \"Entry\", \"company\": \"Fairfield Inn Manhattan (Marriott)\", \"start_date\": \"2011-12-01\", \"end_date\": \"2014-05-01\", \"duration\": 29, \"related\": false}], \"languages\": [{\"language\": \"English\", \"level\": \"Native\"}, {\"language\": \"Spanish\", \"level\": \"Advanced\"}]}"
        ],
        [
         "27",
         "CVANON0036",
         "{\n  \"professionality\": 7,\n  \"visual\": 6,\n  \"grammar\": 5,\n  \"ai_likelihood\": 3,\n  \"education\": [\n    {\n      \"level\": \"Bachelor\",\n      \"field\": \"Audiovisual Communication\",\n      \"related\": false,\n      \"where\": \"Universidad Complutense de Madrid\"\n    }\n  ],\n  \"experience\": [\n    {\n      \"position\": \"Vendedor/a\",\n      \"responsibility_level\": \"Entry\",\n      \"company\": \"Legends Hospitality SL\",\n      \"start_date\": \"2023-06-01\",\n      \"end_date\": \"2023-12-01\",\n      \"duration\": 6,\n      \"related\": true\n    }\n  ],\n  \"languages\": [\n    {\n      \"language\": \"English\",\n      \"level\": \"Native\"\n    },\n    {\n      \"language\": \"Spanish\",\n      \"level\": \"Native\"\n    }\n  ]\n}"
        ],
        [
         "28",
         "CVANON0042",
         "{\"professionality\": 7, \"visual\": 5, \"grammar\": 4, \"ai_likelihood\": 5, \"education\": [{\"level\": \"Master\", \"field\": \"Marketing Digital y Comercio Electronico\", \"related\": true, \"where\": \"EAE Business School\"}, {\"level\": \"Secondary\", \"field\": \"Bachillerato\", \"related\": false, \"where\": \"Unknown\"}], \"experience\": [{\"position\": \"Diseñador/a grafico/a y de video\", \"responsibility_level\": \"Intermediate\", \"company\": \"Dr. Fernando Calero\", \"start_date\": \"2020-02-01\", \"end_date\": \"2023-12-01\", \"duration\": 58, \"related\": false}, {\"position\": \"Redes Sociales\", \"responsibility_level\": \"Intermediate\", \"company\": \"Denlite\", \"start_date\": \"2019-01-01\", \"end_date\": \"2023-12-01\", \"duration\": 71, \"related\": true}, {\"position\": \"Digital marketer\", \"responsibility_level\": \"Intermediate\", \"company\": \"Sombrero Media\", \"start_date\": \"2018-12-01\", \"end_date\": \"2019-09-01\", \"duration\": 9, \"related\": true}], \"languages\": [{\"language\": \"Inglés\", \"level\": \"Native\"}, {\"language\": \"Espanol\", \"level\": \"Native\"}]}"
        ],
        [
         "29",
         "CVANON0024",
         "{\n    \"professionality\": 6,\n    \"visual\": 5,\n    \"grammar\": 4,\n    \"ai_likelihood\": 3,\n    \"education\": [\n        {\"level\": \"Bachelor\", \"field\": \"Photography and Digital Creation\", \"related\": false, \"where\": \"Eft\"},\n        {\"level\": \"Bachelor\", \"field\": \"Fashion Design\", \"related\": false, \"where\": \"IED Madrid\"},\n        {\"level\": \"Bachelor\", \"field\": \"Fundamentals of Architecture\", \"related\": false, \"where\": \"Universidad Europea de Madrid\"}\n    ],\n    \"experience\": [\n        {\n            \"position\": \"Azafata auxiliar\",\n            \"responsibility_level\": \"Intermediate\",\n            \"company\": \"BBVA\",\n            \"start_date\": \"2019-08-01\",\n            \"end_date\": \"2020-01-01\",\n            \"duration\": 5,\n            \"related\": false\n        },\n        {\n            \"position\": \"Dependienta\",\n            \"responsibility_level\": \"Entry\",\n            \"company\": \"The Body Shop\",\n            \"start_date\": \"2019-04-01\",\n            \"end_date\": \"2019-08-01\",\n            \"duration\": 4,\n            \"related\": true\n        },\n        {\n            \"position\": \"Dependiente\",\n            \"responsibility_level\": \"Entry\",\n            \"company\": \"ROCHE BOBOIS\",\n            \"start_date\": \"2018-01-01\",\n            \"end_date\": \"2018-07-01\",\n            \"duration\": 6,\n            \"related\": true\n        },\n        {\n            \"position\": \"Dependiente encargado\",\n            \"responsibility_level\": \"Intermediate\",\n            \"company\": \"Life is Detail\",\n            \"start_date\": \"2016-06-01\",\n            \"end_date\": \"2016-09-01\",\n            \"duration\": 3,\n            \"related\": true\n        },\n        {\n            \"position\": \"Dependiente\",\n            \"responsibility_level\": \"Entry\",\n            \"company\": \"MYSTYLE-BEAUTY IFEMA\",\n            \"start_date\": \"2014-10-01\",\n            \"end_date\": \"2016-08-01\",\n            \"duration\": 22,\n            \"related\": false\n        },\n        {\n            \"position\": \"Dependiente cajero\",\n            \"responsibility_level\": \"Intermediate\",\n            \"company\": \"Zakka Shop\",\n            \"start_date\": \"2015-12-01\",\n            \"end_date\": \"2016-06-01\",\n            \"duration\": 6,\n            \"related\": true\n        },\n        {\n            \"position\": \"Dependiente cajero\",\n            \"responsibility_level\": \"Intermediate\",\n            \"company\": \"KILOSHOP WATERLOOPLEIN AMSTERDAM\",\n            \"start_date\": \"2015-02-01\",\n            \"end_date\": \"2015-10-01\",\n            \"duration\": 8,\n            \"related\": true\n        },\n        {\n            \"position\": \"Dependiente cajero\",\n            \"responsibility_level\": \"Entry\",\n            \"company\": \"Sostrene Grene Belgium\",\n            \"start_date\": \"2014-01-01\",\n            \"end_date\": \"2014-10-01\",\n            \"duration\": 9,\n            \"related\": true\n        }\n    ],\n    \"languages\": [\n        {\"language\": \"Russian\", \"level\": \"Advanced\"},\n        {\"language\": \"English\", \"level\": \"Native\"},\n        {\"language\": \"Spanish\", \"level\": \"Native\"}\n    ]\n}"
        ],
        [
         "30",
         "CVANON0038",
         "{\n  \"professionality\": 8,\n  \"visual\": 7,\n  \"grammar\": 7,\n  \"ai_likelihood\": 4,\n  \"education\": [\n    {\n      \"level\": \"Master\",\n      \"field\": \"Digital Marketing\",\n      \"related\": true,\n      \"where\": \"ThePowerMBA\"\n    },\n    {\n      \"level\": \"Master\",\n      \"field\": \"Fashion and Beauty Communication\",\n      \"related\": true,\n      \"where\": \"Universidad Carlos III de Madrid\"\n    },\n    {\n      \"level\": \"Bachelor\",\n      \"field\": \"Journalism\",\n      \"related\": true,\n      \"where\": \"Universidad Cardenal Herrera CEU\"\n    },\n    {\n      \"level\": \"Bachelor\",\n      \"field\": \"Advertising and Public Relations\",\n      \"related\": true,\n      \"where\": \"Universidad Cardenal Herrera CEU\"\n    },\n    {\n      \"level\": \"Non-regulated Course\",\n      \"field\": \"Fashion Styling\",\n      \"related\": true,\n      \"where\": \"London College of Fashion\"\n    }\n  ],\n  \"experience\": [\n    {\n      \"position\": \"Content Manager\",\n      \"responsibility_level\": \"Intermediate\",\n      \"company\": \"Poppyns Store\",\n      \"start_date\": \"2017-08-01\",\n      \"end_date\": \"2020-04-01\",\n      \"duration\": 32,\n      \"related\": true\n    },\n    {\n      \"position\": \"Fashion Editorial Contributor\",\n      \"responsibility_level\": \"Entry\",\n      \"company\": \"El Pais\",\n      \"start_date\": \"2016-06-01\",\n      \"end_date\": \"2017-10-01\",\n      \"duration\": 16,\n      \"related\": true\n    },\n    {\n      \"position\": \"Social Media Manager\",\n      \"responsibility_level\": \"Entry\",\n      \"company\": \"Alfatec Sistemas SL\",\n      \"start_date\": \"2017-05-01\",\n      \"end_date\": \"2017-08-01\",\n      \"duration\": 3,\n      \"related\": true\n    },\n    {\n      \"position\": \"Editor\",\n      \"responsibility_level\": \"Entry\",\n      \"company\": \"Grazia.es\",\n      \"start_date\": \"2016-07-01\",\n      \"end_date\": \"2017-04-01\",\n      \"duration\": 9,\n      \"related\": true\n    },\n    {\n      \"position\": \"Contributor\",\n      \"responsibility_level\": \"Entry\",\n      \"company\": \"Telva.com\",\n      \"start_date\": \"2016-05-01\",\n      \"end_date\": \"2016-06-01\",\n      \"duration\": 1,\n      \"related\": true\n    },\n    {\n      \"position\": \"Editorial Assistant\",\n      \"responsibility_level\": \"Internship\",\n      \"company\": \"Glamour España\",\n      \"start_date\": \"2015-05-01\",\n      \"end_date\": \"2015-10-01\",\n      \"duration\": 5,\n      \"related\": true\n    },\n    {\n      \"position\": \"Editorial Assistant\",\n      \"responsibility_level\": \"Internship\",\n      \"company\": \"GQ España\",\n      \"start_date\": \"2015-01-01\",\n      \"end_date\": \"2015-05-01\",\n      \"duration\": 4,\n      \"related\": true\n    },\n    {\n      \"position\": \"Communication Manager\",\n      \"responsibility_level\": \"Entry\",\n      \"company\": \"Glenda Lopez Jewelry Design\",\n      \"start_date\": \"2013-10-01\",\n      \"end_date\": \"2014-01-01\",\n      \"duration\": 3,\n      \"related\": true\n    },\n    {\n      \"position\": \"Commercial Assistant\",\n      \"responsibility_level\": \"Internship\",\n      \"company\": \"Spainmedia Magazines\",\n      \"start_date\": \"2013-07-01\",\n      \"end_date\": \"2013-09-01\",\n      \"duration\": 2,\n      \"related\": false\n    },\n    {\n      \"position\": \"Marketing Assistant\",\n      \"responsibility_level\": \"Internship\",\n      \"company\": \"FaceAngel, S.L.\",\n      \"start_date\": \"2012-12-01\",\n      \"end_date\": \"2013-03-01\",\n      \"duration\": 3,\n      \"related\": true\n    },\n    {\n      \"position\": \"Sponsorship Assistant\",\n      \"responsibility_level\": \"Internship\",\n      \"company\": \"Valencia Fashion Week\",\n      \"start_date\": \"2012-05-01\",\n      \"end_date\": \"2012-10-01\",\n      \"duration\": 5,\n      \"related\": true\n    }\n  ],\n  \"languages\": [\n    {\n      \"language\": \"Spanish\",\n      \"level\": \"Native\"\n    },\n    {\n      \"language\": \"Catalan\",\n      \"level\": \"Advanced\"\n    },\n    {\n      \"language\": \"English\",\n      \"level\": \"Native\"\n    }\n  ]\n}"
        ],
        [
         "31",
         "CVANON0040",
         "{\"professionality\": 7, \"visual\": 6, \"grammar\": 5, \"ai_likelihood\": 3, \"education\": [{\"level\": \"Secondary\", \"field\": \"General Studies\", \"related\": false, \"where\": \"INS El Pedro\"}], \"experience\": [{\"position\": \"Atencion al cliente\", \"responsibility_level\": \"Entry\", \"company\": \"Packlink.com\", \"start_date\": \"2021-10-01\", \"end_date\": \"2024-01-01\", \"duration\": 39, \"related\": true}, {\"position\": \"Comercial\", \"responsibility_level\": \"Entry\", \"company\": \"Livensa Living\", \"start_date\": \"2021-08-01\", \"end_date\": \"2021-10-01\", \"duration\": 2, \"related\": true}, {\"position\": \"Teleoperador/a\", \"responsibility_level\": \"Entry\", \"company\": \"Prosegur\", \"start_date\": \"2020-10-01\", \"end_date\": \"2021-02-01\", \"duration\": 4, \"related\": true}, {\"position\": \"Coordinadora\", \"responsibility_level\": \"Entry\", \"company\": \"CIDI Centro Internacional de Idiomas\", \"start_date\": \"2019-06-01\", \"end_date\": \"2020-03-01\", \"duration\": 9, \"related\": false}, {\"position\": \"Recepcionista\", \"responsibility_level\": \"Entry\", \"company\": \"Aqua eSolutions\", \"start_date\": \"2018-02-01\", \"end_date\": \"2019-06-01\", \"duration\": 16, \"related\": false}, {\"position\": \"Atencion al cliente\", \"responsibility_level\": \"Entry\", \"company\": \"Alcampo S.A.\", \"start_date\": \"2017-09-01\", \"end_date\": \"2018-02-01\", \"duration\": 5, \"related\": true}, {\"position\": \"Almacenista\", \"responsibility_level\": \"Entry\", \"company\": \"UPS\", \"start_date\": \"2017-02-01\", \"end_date\": \"2017-07-01\", \"duration\": 5, \"related\": false}, {\"position\": \"Encargado\", \"responsibility_level\": \"Manager\", \"company\": \"Midnight\", \"start_date\": \"2010-03-01\", \"end_date\": \"2016-06-01\", \"duration\": 75, \"related\": true}, {\"position\": \"Promotor\", \"responsibility_level\": \"Entry\", \"company\": \"Midnight\", \"start_date\": \"2010-02-01\", \"end_date\": \"2016-06-01\", \"duration\": 76, \"related\": true}, {\"position\": \"Barman\", \"responsibility_level\": \"Entry\", \"company\": \"Morf's Bar\", \"start_date\": \"2013-04-01\", \"end_date\": \"2015-01-01\", \"duration\": 21, \"related\": false}, {\"position\": \"Monitor de buceo\", \"responsibility_level\": \"Specialist\", \"company\": \"International Diving Center\", \"start_date\": \"2012-06-01\", \"end_date\": \"2013-09-01\", \"duration\": 15, \"related\": false}, {\"position\": \"Secretario\", \"responsibility_level\": \"Entry\", \"company\": \"Diving Center\", \"start_date\": \"2012-06-01\", \"end_date\": \"2013-09-01\", \"duration\": 15, \"related\": false}], \"languages\": [{\"language\": \"Espafiol\", \"level\": \"Advanced\"}, {\"language\": \"Inglés\", \"level\": \"Native\"}, {\"language\": \"Catalan\", \"level\": \"Advanced\"}]}"
        ],
        [
         "32",
         "CVANON0050",
         "{\"professionality\": 6, \"visual\": 5, \"grammar\": 6, \"ai_likelihood\": 3, \"education\": [], \"experience\": [{\"position\": \"Ecommerce Specialist\", \"responsibility_level\": \"Intermediate\", \"company\": \"Doofinder\", \"start_date\": \"2023-05-01\", \"end_date\": \"2024-01-01\", \"duration\": 20, \"related\": true}, {\"position\": \"AML Specialist\", \"responsibility_level\": \"Intermediate\", \"company\": \"Elavon Financial Services DAC\", \"start_date\": \"2022-09-15\", \"end_date\": \"2023-04-26\", \"duration\": 7, \"related\": false}, {\"position\": \"Content Officer\", \"responsibility_level\": \"Intermediate\", \"company\": \"Selectra\", \"start_date\": \"2021-09-28\", \"end_date\": \"2022-08-19\", \"duration\": 11, \"related\": true}, {\"position\": \"Compliance Officer\", \"responsibility_level\": \"Intermediate\", \"company\": \"Selectra\", \"start_date\": \"2019-07-01\", \"end_date\": \"2021-09-28\", \"duration\": 27, \"related\": false}, {\"position\": \"Sales Agent\", \"responsibility_level\": \"Entry\", \"company\": \"Selectra\", \"start_date\": \"2019-01-28\", \"end_date\": \"2019-07-01\", \"duration\": 5, \"related\": true}], \"languages\": [{\"language\": \"Spanish\", \"level\": \"Basic\"}, {\"language\": \"English\", \"level\": \"Native\"}]}"
        ],
        [
         "33",
         "CVANON0057",
         "{\n  \"professionality\": 7,\n  \"visual\": 6,\n  \"grammar\": 6,\n  \"ai_likelihood\": 5,\n  \"education\": [\n    {\n      \"level\": \"Master\",\n      \"field\": \"Legal Practice\",\n      \"related\": false,\n      \"where\": \"University of Law (UK)\"\n    },\n    {\n      \"level\": \"Postgraduate Diploma\",\n      \"field\": \"Law\",\n      \"related\": false,\n      \"where\": \"City, University of London\"\n    },\n    {\n      \"level\": \"Bachelor\",\n      \"field\": \"Business Administration\",\n      \"related\": false,\n      \"where\": \"Universidad de Navarra\"\n    },\n    {\n      \"level\": \"Bachelor\",\n      \"field\": \"Business Administration\",\n      \"related\": false,\n      \"where\": \"Wilfrid Laurier University\"\n    }\n  ],\n  \"experience\": [\n    {\n      \"position\": \"Private Tutor\",\n      \"responsibility_level\": \"Entry\",\n      \"company\": \"Indigo Tutoring & Consulting\",\n      \"start_date\": \"2019-11-01\",\n      \"end_date\": \"\",\n      \"duration\": 62,\n      \"related\": false\n    },\n    {\n      \"position\": \"Pro-bono Advice Caseworker\",\n      \"responsibility_level\": \"Entry\",\n      \"company\": \"City, University of London\",\n      \"start_date\": \"2018-02-01\",\n      \"end_date\": \"2018-06-01\",\n      \"duration\": 4,\n      \"related\": false\n    },\n    {\n      \"position\": \"Disability Support Worker\",\n      \"responsibility_level\": \"Entry\",\n      \"company\": \"Sunlife Financial\",\n      \"start_date\": \"2012-10-01\",\n      \"end_date\": \"2017-09-01\",\n      \"duration\": 59,\n      \"related\": false\n    },\n    {\n      \"position\": \"Student Ambassador\",\n      \"responsibility_level\": \"Entry\",\n      \"company\": \"Wilfrid Laurier University\",\n      \"start_date\": \"2014-09-01\",\n      \"end_date\": \"2016-08-01\",\n      \"duration\": 23,\n      \"related\": false\n    },\n    {\n      \"position\": \"Violin Tutor\",\n      \"responsibility_level\": \"Entry\",\n      \"company\": \"Self-Employed\",\n      \"start_date\": \"2012-01-01\",\n      \"end_date\": \"2012-12-01\",\n      \"duration\": 11,\n      \"related\": false\n    },\n    {\n      \"position\": \"Hostess\",\n      \"responsibility_level\": \"Entry\",\n      \"company\": \"Red Lobster Canada\",\n      \"start_date\": \"2012-03-01\",\n      \"end_date\": \"2012-09-01\",\n      \"duration\": 6,\n      \"related\": false\n    }\n  ],\n  \"languages\": [\n    {\n      \"language\": \"Spanish\",\n      \"level\": \"Intermediate\"\n    },\n    {\n      \"language\": \"English\",\n      \"level\": \"Native\"\n    }\n  ]\n}"
        ],
        [
         "34",
         "CVANON0067",
         "{\"professionality\": 6, \"visual\": 5, \"grammar\": 7, \"ai_likelihood\": 4, \"education\": [{\"level\": \"Secondary\", \"field\": \"General Studies\", \"related\": false, \"where\": \"IES Jaime Ferran\"}, {\"level\": \"Non-regulated Course\", \"field\": \"TCP\", \"related\": false, \"where\": \"ESATUR FORMACION\"}], \"experience\": [{\"position\": \"Dependiente/a de tienda\", \"responsibility_level\": \"Entry\", \"company\": \"PIOMBO\", \"start_date\": \"2023-11-01\", \"end_date\": \"\", \"duration\": 7, \"related\": true}, {\"position\": \"Dependiente/a de tienda\", \"responsibility_level\": \"Entry\", \"company\": \"Uniqlo\", \"start_date\": \"2022-07-01\", \"end_date\": \"2023-10-01\", \"duration\": 15, \"related\": true}, {\"position\": \"Dependiente/a de tienda\", \"responsibility_level\": \"Entry\", \"company\": \"Uniqlo\", \"start_date\": \"2021-09-01\", \"end_date\": \"2022-04-01\", \"duration\": 7, \"related\": true}, {\"position\": \"Coordinadora\", \"responsibility_level\": \"Entry\", \"company\": \"Tecnocasa\", \"start_date\": \"2021-02-01\", \"end_date\": \"2021-06-01\", \"duration\": 4, \"related\": false}, {\"position\": \"Dependiente/a de tienda\", \"responsibility_level\": \"Entry\", \"company\": \"Sfera\", \"start_date\": \"2019-10-01\", \"end_date\": \"2020-04-01\", \"duration\": 6, \"related\": true}], \"languages\": [{\"language\": \"Inglés\", \"level\": \"Native\"}]}"
        ],
        [
         "35",
         "CVANON0034",
         "{\"professionality\": 5, \"visual\": 4, \"grammar\": 4, \"ai_likelihood\": 3, \"education\": [{\"level\": \"Bachelor\", \"field\": \"Criminology and Security Sciences\", \"related\": false, \"where\": \"Not specified\"}], \"experience\": [], \"languages\": [{\"language\": \"Spanish\", \"level\": \"Native\"}, {\"language\": \"English\", \"level\": \"Native\"}, {\"language\": \"French\", \"level\": \"Intermediate\"}]}"
        ],
        [
         "36",
         "CVANON0061",
         "{\"professionality\": 7, \"visual\": 6, \"grammar\": 6, \"ai_likelihood\": 4, \"education\": [{\"level\": \"Master\", \"field\": \"Marketing Management\", \"related\": true, \"where\": \"ESIC\"}, {\"level\": \"Bachelor\", \"field\": \"Political Science\", \"related\": false, \"where\": \"Saint Louis University Madrid Campus\"}], \"experience\": [{\"position\": \"Marketing Specialist\", \"responsibility_level\": \"Intermediate\", \"company\": \"Saint Louis University-Madrid Campus\", \"start_date\": \"2020-01-01\", \"end_date\": \"2023-05-01\", \"duration\": 40, \"related\": true}], \"languages\": [{\"language\": \"French\", \"level\": \"Advanced\"}, {\"language\": \"English\", \"level\": \"Native\"}, {\"language\": \"Spanish\", \"level\": \"Advanced\"}, {\"language\": \"Portuguese\", \"level\": \"Basic\"}]}"
        ],
        [
         "37",
         "CVANON0046",
         "{\n  \"professionality\": 7,\n  \"visual\": 6,\n  \"grammar\": 7,\n  \"ai_likelihood\": 4,\n  \"education\": [\n    {\n      \"level\": \"Bachelor\",\n      \"field\": \"Relaciones Internacionales\",\n      \"related\": false,\n      \"where\": \"Universidad Complutense de Madrid\"\n    },\n    {\n      \"level\": \"Secondary\",\n      \"field\": \"Bachillerato\",\n      \"related\": false,\n      \"where\": \"Gredos San Diego El Escorial\"\n    },\n    {\n      \"level\": \"Other\",\n      \"field\": \"Curso - La Union Europea y el futuro de Espafia\",\n      \"related\": false,\n      \"where\": \"Universidad Complutense de Madrid\"\n    },\n    {\n      \"level\": \"Non-regulated Course\",\n      \"field\": \"Erasmus\",\n      \"related\": false,\n      \"where\": \"Universidad de Copenhague, Dinamarca\"\n    }\n  ],\n  \"experience\": [\n    {\n      \"position\": \"Profesor particular\",\n      \"responsibility_level\": \"Intermediate\",\n      \"company\": \"Autónomo\",\n      \"start_date\": \"2012-01-01\",\n      \"end_date\": null,\n      \"duration\": null,\n      \"related\": false\n    },\n    {\n      \"position\": \"Asistente de produccion\",\n      \"responsibility_level\": \"Entry\",\n      \"company\": \"LOLAFILMS\",\n      \"start_date\": \"2022-03-01\",\n      \"end_date\": \"2022-05-01\",\n      \"duration\": 2,\n      \"related\": false\n    },\n    {\n      \"position\": \"AUXILIAR DE MUSEO\",\n      \"responsibility_level\": \"Entry\",\n      \"company\": \"TRIANGLE SOLUTIONS, S.A.\",\n      \"start_date\": \"2021-04-01\",\n      \"end_date\": \"2021-10-01\",\n      \"duration\": 6,\n      \"related\": false\n    },\n    {\n      \"position\": \"Asistente de proyectos\",\n      \"responsibility_level\": \"Entry\",\n      \"company\": \"Union Europea\",\n      \"start_date\": \"2019-11-01\",\n      \"end_date\": \"2020-05-01\",\n      \"duration\": 6,\n      \"related\": false\n    },\n    {\n      \"position\": \"Coordinadora area Israel/Palestina\",\n      \"responsibility_level\": \"Intermediate\",\n      \"company\": \"Amnistia Internacional\",\n      \"start_date\": \"2019-02-01\",\n      \"end_date\": \"2019-10-01\",\n      \"duration\": 8,\n      \"related\": false\n    },\n    {\n      \"position\": \"Vendedor\",\n      \"responsibility_level\": \"Entry\",\n      \"company\": \"Rituals\",\n      \"start_date\": \"2018-02-01\",\n      \"end_date\": \"2018-05-01\",\n      \"duration\": 3,\n      \"related\": true\n    },\n    {\n      \"position\": \"Becaria - trabajo administrativo\",\n      \"responsibility_level\": \"Entry\",\n      \"company\": \"Comité Español de la UNRWA\",\n      \"start_date\": \"2016-02-01\",\n      \"end_date\": \"2016-06-01\",\n      \"duration\": 4,\n      \"related\": false\n    },\n    {\n      \"position\": \"Promotor de ventas\",\n      \"responsibility_level\": \"Entry\",\n      \"company\": \"Alain Afflelou optico\",\n      \"start_date\": \"2012-12-01\",\n      \"end_date\": \"2015-06-01\",\n      \"duration\": 30,\n      \"related\": true\n    },\n    {\n      \"position\": \"Camarera\",\n      \"responsibility_level\": \"Entry\",\n      \"company\": \"Kobenhavns Universitet\",\n      \"start_date\": \"2015-02-01\",\n      \"end_date\": \"2015-05-01\",\n      \"duration\": 3,\n      \"related\": false\n    },\n    {\n      \"position\": \"Azafato de congresos\",\n      \"responsibility_level\": \"Entry\",\n      \"company\": \"Instituto de Salud Carlos III\",\n      \"start_date\": \"2011-05-01\",\n      \"end_date\": \"2013-09-01\",\n      \"duration\": 28,\n      \"related\": false\n    }\n  ],\n  \"languages\": [\n    {\n      \"language\": \"Español\",\n      \"level\": \"Native\"\n    },\n    {\n      \"language\": \"Inglés\",\n      \"level\": \"Native\"\n    },\n    {\n      \"language\": \"Francés\",\n      \"level\": \"Advanced\"\n    },\n    {\n      \"language\": \"Ruso\",\n      \"level\": \"Basic\"\n    },\n    {\n      \"language\": \"Danés\",\n      \"level\": \"Basic\"\n    },\n    {\n      \"language\": \"Alemán\",\n      \"level\": \"Basic\"\n    }\n  ]\n}"
        ],
        [
         "38",
         "CVANON0043",
         "{\"professionality\": 6, \"visual\": 5, \"grammar\": 4, \"ai_likelihood\": 3, \"education\": [{\"level\": \"Vocational\", \"field\": \"Transport and Logistics\", \"related\": false, \"where\": \"Universidad Camilo José Cela\"}, {\"level\": \"Secondary\", \"field\": \"General Studies\", \"related\": false, \"where\": \"Not specified\"}], \"experience\": [{\"position\": \"Regulatory affairs specialist\", \"responsibility_level\": \"Entry\", \"company\": \"Ryanair\", \"start_date\": \"2022-08-01\", \"end_date\": \"2024-06-01\", \"duration\": 22, \"related\": false}, {\"position\": \"Técnico/a en transporte y logistica\", \"responsibility_level\": \"Entry\", \"company\": \"BROK-AIR\", \"start_date\": \"2021-12-01\", \"end_date\": \"2022-07-01\", \"duration\": 7, \"related\": false}, {\"position\": \"Asesor/a de seguros\", \"responsibility_level\": \"Entry\", \"company\": \"MAPFRE\", \"start_date\": \"2020-01-01\", \"end_date\": \"2021-06-01\", \"duration\": 17, \"related\": false}, {\"position\": \"Operador/a logistico/a\", \"responsibility_level\": \"Entry\", \"company\": \"Thermo King\", \"start_date\": \"2017-01-01\", \"end_date\": \"2019-12-01\", \"duration\": 35, \"related\": false}, {\"position\": \"Production team member\", \"responsibility_level\": \"Entry\", \"company\": \"M&M Qualtech Ltd\", \"start_date\": \"2014-10-01\", \"end_date\": \"2016-12-01\", \"duration\": 26, \"related\": false}], \"languages\": [{\"language\": \"Español\", \"level\": \"Intermediate\"}, {\"language\": \"Inglés\", \"level\": \"Native\"}, {\"language\": \"Irlandés\", \"level\": \"Native\"}]}"
        ],
        [
         "39",
         "CVANON0035",
         "{\n  \"professionality\": 8,\n  \"visual\": 7,\n  \"grammar\": 6,\n  \"ai_likelihood\": 5,\n  \"education\": [\n    {\n      \"level\": \"Master\",\n      \"field\": \"Marketing Digital\",\n      \"related\": true,\n      \"where\": \"Universidad Complutense de Madrid\"\n    },\n    {\n      \"level\": \"Bachelor\",\n      \"field\": \"Información y Documentación\",\n      \"related\": false,\n      \"where\": \"Universidad de Murcia\"\n    },\n    {\n      \"level\": \"Bachelor\",\n      \"field\": \"Periodismo\",\n      \"related\": true,\n      \"where\": \"Universidad de Murcia\"\n    },\n    {\n      \"level\": \"Non-regulated Course\",\n      \"field\": \"Joomla, páginas web dinámicas en 10 clicks\",\n      \"related\": true,\n      \"where\": \"Universidad de Murcia\"\n    },\n    {\n      \"level\": \"Non-regulated Course\",\n      \"field\": \"C1 Cambridge\",\n      \"related\": false,\n      \"where\": \"Total centro de idiomas\"\n    }\n  ],\n  \"experience\": [\n    {\n      \"position\": \"Especialista en Marketing Digital\",\n      \"responsibility_level\": \"Intermediate\",\n      \"company\": \"SEUR\",\n      \"start_date\": \"2024-01-01\",\n      \"end_date\": \"2024-05-30\",\n      \"duration\": 5,\n      \"related\": true\n    },\n    {\n      \"position\": \"Community Manager\",\n      \"responsibility_level\": \"Entry\",\n      \"company\": \"My English House\",\n      \"start_date\": \"2021-09-01\",\n      \"end_date\": \"2024-05-30\",\n      \"duration\": 33,\n      \"related\": true\n    },\n    {\n      \"position\": \"Global Social Media Content Intern\",\n      \"responsibility_level\": \"Entry\",\n      \"company\": \"Signify\",\n      \"start_date\": \"2023-03-01\",\n      \"end_date\": \"2023-12-31\",\n      \"duration\": 9,\n      \"related\": true\n    },\n    {\n      \"position\": \"Profesora Inglés\",\n      \"responsibility_level\": \"Entry\",\n      \"company\": \"My English House\",\n      \"start_date\": \"2021-09-01\",\n      \"end_date\": \"2022-07-31\",\n      \"duration\": 10,\n      \"related\": false\n    }\n  ],\n  \"languages\": [\n    {\n      \"language\": \"Español\",\n      \"level\": \"Native\"\n    },\n    {\n      \"language\": \"Inglés\",\n      \"level\": \"Native\"\n    }\n  ]\n}"
        ],
        [
         "40",
         "CVANON0026",
         "{\"professionality\": 7, \"visual\": 6, \"grammar\": 8, \"ai_likelihood\": 5, \"education\": [{\"level\": \"Bachelor\", \"field\": \"Spanish\", \"related\": false, \"where\": \"University of North Carolina at Wilmington\"}, {\"level\": \"Non-regulated Course\", \"field\": \"TEFL Certification\", \"related\": false, \"where\": \"Premier TEFL\"}], \"experience\": [{\"position\": \"Vigilante de los examenes de inglés de Cambridge\", \"responsibility_level\": \"Entry\", \"company\": \"Cambridge English Examination Centre ES-291\", \"start_date\": \"2021-05-01\", \"end_date\": \"2021-07-01\", \"duration\": 2, \"related\": false}, {\"position\": \"Assistant teacher\", \"responsibility_level\": \"Entry\", \"company\": \"Ciudad de Columbia\", \"start_date\": \"2019-10-01\", \"end_date\": \"2020-06-30\", \"duration\": 8, \"related\": true}, {\"position\": \"Disefio de produccidn de escena\", \"responsibility_level\": \"Entry\", \"company\": \"University of North Carolina at Wilmington\", \"start_date\": \"2017-08-01\", \"end_date\": \"2018-12-01\", \"duration\": 16, \"related\": false}], \"languages\": [{\"language\": \"English\", \"level\": \"Native\"}, {\"language\": \"Spanish\", \"level\": \"Advanced\"}, {\"language\": \"Polish\", \"level\": \"Native\"}]}"
        ],
        [
         "41",
         "CVANON0022",
         "{\n  \"professionality\": 7,\n  \"visual\": 6,\n  \"grammar\": 5,\n  \"ai_likelihood\": 5,\n  \"education\": [\n    {\n      \"level\": \"Master\",\n      \"field\": \"Physical Education\",\n      \"related\": false,\n      \"where\": \"Universitat Internacional Valenciana\"\n    },\n    {\n      \"level\": \"Master\",\n      \"field\": \"Big Data, Game Analysis, and Scouting in Football\",\n      \"related\": false,\n      \"where\": \"Universidad Europea de Madrid\"\n    },\n    {\n      \"level\": \"Bachelor\",\n      \"field\": \"Physical Activity and Sport Sciences\",\n      \"related\": false,\n      \"where\": \"Universidad Pontificia de Salamanca\"\n    }\n  ],\n  \"experience\": [\n    {\n      \"position\": \"Physical Education Teacher in Secondary\",\n      \"responsibility_level\": \"Entry\",\n      \"company\": \"Colegio Maria Inmaculada\",\n      \"start_date\": \"2023-02-01\",\n      \"end_date\": \"2023-05-01\",\n      \"duration\": 3,\n      \"related\": false\n    },\n    {\n      \"position\": \"Load Control Analyst Juvenile C and Juvenile B\",\n      \"responsibility_level\": \"Entry\",\n      \"company\": \"Real Madrid CF\",\n      \"start_date\": \"2022-04-01\",\n      \"end_date\": \"2022-07-01\",\n      \"duration\": 3,\n      \"related\": false\n    },\n    {\n      \"position\": \"Physical Trainer Prefente Football\",\n      \"responsibility_level\": \"Intermediate\",\n      \"company\": \"Bergara K.E\",\n      \"start_date\": \"2020-09-01\",\n      \"end_date\": \"2021-06-01\",\n      \"duration\": 9,\n      \"related\": false\n    },\n    {\n      \"position\": \"Personal Trainer\",\n      \"responsibility_level\": \"Entry\",\n      \"company\": \"Richard Huerta Personal Training Studio\",\n      \"start_date\": \"2020-02-01\",\n      \"end_date\": \"2020-05-01\",\n      \"duration\": 3,\n      \"related\": false\n    },\n    {\n      \"position\": \"Physical Trainer Cadete A and Juvenile B\",\n      \"responsibility_level\": \"Intermediate\",\n      \"company\": \"C.D Navega\",\n      \"start_date\": \"2018-09-01\",\n      \"end_date\": \"2020-05-01\",\n      \"duration\": 20,\n      \"related\": false\n    }\n  ],\n  \"languages\": [\n    {\n      \"language\": \"Euskera\",\n      \"level\": \"Native\"\n    },\n    {\n      \"language\": \"English\",\n      \"level\": \"Native\"\n    },\n    {\n      \"language\": \"Spanish\",\n      \"level\": \"Native\"\n    }\n  ]\n}"
        ],
        [
         "42",
         "CVANON0045",
         "{\"professionality\": 7, \"visual\": 6, \"grammar\": 5, \"ai_likelihood\": 6, \"education\": [{\"level\": \"Diploma\", \"field\": \"Ciencias Empresariales\", \"related\": false, \"where\": \"Limerick College of Further Education\"}, {\"level\": \"Bachelor\", \"field\": \"Publicidad y Relaciones Publicas\", \"related\": true, \"where\": \"Unnamed Institution\"}], \"experience\": [{\"position\": \"Administrativo Gestor/a de cobros\", \"responsibility_level\": \"Entry\", \"company\": \"Grupo El Corte Inglés\", \"start_date\": \"2023-06-01\", \"end_date\": \"2023-09-01\", \"duration\": 3, \"related\": false}, {\"position\": \"Administrativo Desarrollo de la Red Territorial\", \"responsibility_level\": \"Entry\", \"company\": \"Cruz Roja Española\", \"start_date\": \"2022-08-01\", \"end_date\": \"2023-02-01\", \"duration\": 6, \"related\": false}, {\"position\": \"Administrativo/a Gestion del Talento\", \"responsibility_level\": \"Entry\", \"company\": \"Securitas Seguridad Espana SA\", \"start_date\": \"2021-05-01\", \"end_date\": \"2022-02-01\", \"duration\": 9, \"related\": false}, {\"position\": \"Dependienta\", \"responsibility_level\": \"Entry\", \"company\": \"El Corte Inglés\", \"start_date\": \"2020-10-01\", \"end_date\": \"2020-12-01\", \"duration\": 2, \"related\": false}, {\"position\": \"Administrativo con ERP\", \"responsibility_level\": \"Entry\", \"company\": \"Prodisa S.A.\", \"start_date\": \"2020-04-01\", \"end_date\": \"2020-07-01\", \"duration\": 3, \"related\": false}, {\"position\": \"Administrativo contable\", \"responsibility_level\": \"Entry\", \"company\": \"Diaconia\", \"start_date\": \"2019-09-01\", \"end_date\": \"2019-12-01\", \"duration\": 3, \"related\": false}, {\"position\": \"Administrativa\", \"responsibility_level\": \"Entry\", \"company\": \"Fundacion Adecco\", \"start_date\": \"2017-12-01\", \"end_date\": \"2019-01-01\", \"duration\": 13, \"related\": false}, {\"position\": \"Auxiliar administrativo - Contable\", \"responsibility_level\": \"Entry\", \"company\": \"Microsegur\", \"start_date\": \"2017-09-01\", \"end_date\": \"2017-10-01\", \"duration\": 1, \"related\": false}, {\"position\": \"Recepcionista\", \"responsibility_level\": \"Entry\", \"company\": \"GRUNENTHAL PHARMA, S.A.\", \"start_date\": \"2017-07-01\", \"end_date\": \"2017-09-01\", \"duration\": 2, \"related\": false}, {\"position\": \"Recepcionista\", \"responsibility_level\": \"Entry\", \"company\": \"SAMSUNG ELECTRONICS IBERIA S.A.\", \"start_date\": \"2017-05-01\", \"end_date\": \"2017-06-01\", \"duration\": 1, \"related\": false}, {\"position\": \"Comercial\", \"responsibility_level\": \"Intern\", \"company\": \"Debenhams\", \"start_date\": \"2016-02-01\", \"end_date\": \"2016-05-01\", \"duration\": 3, \"related\": true}, {\"position\": \"Comercial\", \"responsibility_level\": \"Entry\", \"company\": \"Sue Ryder Foundation\", \"start_date\": \"2013-03-01\", \"end_date\": \"2014-01-01\", \"duration\": 10, \"related\": true}, {\"position\": \"Asesor/a comercial\", \"responsibility_level\": \"Entry\", \"company\": \"PORCELANOSA, S.A.\", \"start_date\": \"2006-02-01\", \"end_date\": \"2006-08-01\", \"duration\": 6, \"related\": true}, {\"position\": \"Teleoperadora\", \"responsibility_level\": \"Entry\", \"company\": \"Telecom\", \"start_date\": \"2005-05-01\", \"end_date\": \"2005-09-01\", \"duration\": 4, \"related\": true}, {\"position\": \"Administrativa Automoción\", \"responsibility_level\": \"Entry\", \"company\": \"Toyota\", \"start_date\": \"2003-03-01\", \"end_date\": \"2005-06-01\", \"duration\": 27, \"related\": false}, {\"position\": \"Organizador/a de eventos\", \"responsibility_level\": \"Entry\", \"company\": \"Promoideas CA.\", \"start_date\": \"1992-08-01\", \"end_date\": \"2004-09-01\", \"duration\": 145, \"related\": true}, {\"position\": \"Publicista\", \"responsibility_level\": \"Entry\", \"company\": \"Diario Hoy\", \"start_date\": \"1999-10-01\", \"end_date\": \"2002-03-01\", \"duration\": 29, \"related\": true}], \"languages\": [{\"language\": \"English\", \"level\": \"Intermediate\"}]}"
        ],
        [
         "43",
         "CVANON0075",
         "{\"professionality\": 7, \"visual\": 6, \"grammar\": 5, \"ai_likelihood\": 3, \"education\": [{\"level\": \"Bachelor\", \"field\": \"Arts and Design\", \"related\": false, \"where\": \"IES Alborada\"}, {\"level\": \"Vocational\", \"field\": \"Telecommunications Installations\", \"related\": false, \"where\": \"Salesianos Atocha\"}, {\"level\": \"Secondary\", \"field\": \"General\", \"related\": false, \"where\": \"IES Ignacio Ellacuria\"}, {\"level\": \"Non-regulated Course\", \"field\": \"Insurance Sales\", \"related\": true, \"where\": \"Unknown\"}, {\"level\": \"Non-regulated Course\", \"field\": \"Sales\", \"related\": true, \"where\": \"Facilisimo\"}, {\"level\": \"Non-regulated Course\", \"field\": \"Telephone Sales\", \"related\": true, \"where\": \"GSS Mapfre Vallecas\"}], \"experience\": [{\"position\": \"Gestor Ventas\", \"responsibility_level\": \"Intermediate\", \"company\": \"El Corte Inglés\", \"start_date\": \"2024-05-01\", \"end_date\": \"2024-08-01\", \"duration\": 3, \"related\": true}, {\"position\": \"Sales development representative\", \"responsibility_level\": \"Intermediate\", \"company\": \"Homming\", \"start_date\": \"2023-09-01\", \"end_date\": \"2024-03-01\", \"duration\": 6, \"related\": true}, {\"position\": \"Gestor/a comercial\", \"responsibility_level\": \"Entry\", \"company\": \"Pelayo\", \"start_date\": \"2022-11-01\", \"end_date\": \"2023-09-01\", \"duration\": 10, \"related\": true}, {\"position\": \"Teleoperador/a\", \"responsibility_level\": \"Intermediate\", \"company\": \"Grupo GSS_\", \"start_date\": \"2020-01-01\", \"end_date\": \"2023-03-01\", \"duration\": 38, \"related\": true}, {\"position\": \"Comercial\", \"responsibility_level\": \"Intermediate\", \"company\": \"Banco Sabadell\", \"start_date\": \"2019-12-01\", \"end_date\": \"2022-11-01\", \"duration\": 35, \"related\": true}, {\"position\": \"Ejecutivo de cuentas\", \"responsibility_level\": \"Entry\", \"company\": \"Swivel Secure\", \"start_date\": \"2019-05-01\", \"end_date\": \"2019-10-01\", \"duration\": 5, \"related\": true}, {\"position\": \"Team manager\", \"responsibility_level\": \"Entry\", \"company\": \"Temps Multiwork ETT\", \"start_date\": \"2019-05-01\", \"end_date\": \"2019-07-01\", \"duration\": 2, \"related\": true}, {\"position\": \"teleoperador/teleoperadora\", \"responsibility_level\": \"Entry\", \"company\": \"Legalitas\", \"start_date\": \"2019-02-01\", \"end_date\": \"2019-04-01\", \"duration\": 2, \"related\": true}, {\"position\": \"teleoperador/teleoperadora\", \"responsibility_level\": \"Entry\", \"company\": \"Unitono\", \"start_date\": \"2019-02-01\", \"end_date\": \"2019-04-01\", \"duration\": 2, \"related\": true}, {\"position\": \"teleoperador/teleoperadora\", \"responsibility_level\": \"Entry\", \"company\": \"SANTALUCIA\", \"start_date\": \"2018-05-01\", \"end_date\": \"2019-03-01\", \"duration\": 10, \"related\": true}, {\"position\": \"Teleoperador/a\", \"responsibility_level\": \"Entry\", \"company\": \"Servinform\", \"start_date\": \"2018-05-01\", \"end_date\": \"2019-02-01\", \"duration\": 9, \"related\": true}, {\"position\": \"Comercial\", \"responsibility_level\": \"Intern\", \"company\": \"Sur Madrid\", \"start_date\": \"2017-11-01\", \"end_date\": \"2018-03-01\", \"duration\": 4, \"related\": false}, {\"position\": \"Inventarista\", \"responsibility_level\": \"Entry\", \"company\": \"Ivalis Inventarios\", \"start_date\": \"2016-03-01\", \"end_date\": \"2016-09-01\", \"duration\": 6, \"related\": false}], \"languages\": [{\"language\": \"Español\", \"level\": \"Native\"}, {\"language\": \"Catalan\", \"level\": \"Basic\"}, {\"language\": \"Inglés\", \"level\": \"Native\"}]}"
        ],
        [
         "44",
         "CVANON0016",
         "{\"professionality\": 7, \"visual\": 6, \"grammar\": 5, \"ai_likelihood\": 4, \"education\": [{\"level\": \"Bachelor\", \"field\": \"Sociology\", \"related\": false, \"where\": \"Universidad de California Santa Barbara\"}, {\"level\": \"Bachelor\", \"field\": \"Spanish: Language and Literature\", \"related\": false, \"where\": \"Universidad de California Santa Barbara\"}], \"experience\": [{\"position\": \"Editor\", \"responsibility_level\": \"Specialist\", \"company\": \"Freelance\", \"start_date\": \"2021-01-01\", \"end_date\": \"2024-01-11\", \"duration\": 36, \"related\": false}, {\"position\": \"Fresh Products Seller\", \"responsibility_level\": \"Entry\", \"company\": \"Rodriguez Brothers Ranch\", \"start_date\": \"2020-07-01\", \"end_date\": \"2023-09-30\", \"duration\": 38, \"related\": true}, {\"position\": \"Language Assistant\", \"responsibility_level\": \"Intern\", \"company\": \"Ministerio de Educación\", \"start_date\": \"2020-10-01\", \"end_date\": \"2022-06-30\", \"duration\": 20, \"related\": false}, {\"position\": \"Stock Clerk\", \"responsibility_level\": \"Entry\", \"company\": \"Sprouts Farmers' Market\", \"start_date\": \"2020-03-01\", \"end_date\": \"2020-06-30\", \"duration\": 3, \"related\": false}, {\"position\": \"Night Supervisor\", \"responsibility_level\": \"Entry\", \"company\": \"UCSB Rec Sports\", \"start_date\": \"2019-10-01\", \"end_date\": \"2020-06-30\", \"duration\": 8, \"related\": false}, {\"position\": \"Operations Assistant\", \"responsibility_level\": \"Entry\", \"company\": \"UCSB Rec Sports\", \"start_date\": \"2017-04-01\", \"end_date\": \"2018-06-30\", \"duration\": 14, \"related\": false}, {\"position\": \"Cleaner\", \"responsibility_level\": \"Specialist\", \"company\": \"Freelance\", \"start_date\": \"2012-01-01\", \"end_date\": \"2016-06-30\", \"duration\": 52, \"related\": false}], \"languages\": [{\"language\": \"Spanish\", \"level\": \"Advanced\"}, {\"language\": \"English\", \"level\": \"Native\"}]}"
        ],
        [
         "45",
         "CVANON0069",
         "{  \n   \"professionality\": 8,\n   \"visual\": 6,\n   \"grammar\": 8,\n   \"ai_likelihood\": 2,\n   \"education\":[  \n      {  \n         \"level\":\"Bachelor\",\n         \"field\":\"International Tourism and Leisure Business Management\",\n         \"related\":false,\n         \"where\":\"Vatel Madrid\"\n      }\n   ],\n   \"experience\":[  \n      {  \n         \"position\":\"Account Manager\",\n         \"responsibility_level\":\"Intermediate\",\n         \"company\":\"Mail Boxes Etc.\",\n         \"start_date\":\"2023-09-01\",\n         \"end_date\":\"2025-01-01\",\n         \"duration\":16,\n         \"related\":true\n      },\n      {  \n         \"position\":\"Sales and Marketing Intern\",\n         \"responsibility_level\":\"Entry\",\n         \"company\":\"The Madrid EDITION\",\n         \"start_date\":\"2023-05-01\",\n         \"end_date\":\"2023-09-01\",\n         \"duration\":4,\n         \"related\":true\n      },\n      {  \n         \"position\":\"Front Office, Back Office and Guest Relations Intern\",\n         \"responsibility_level\":\"Entry\",\n         \"company\":\"W Hotels\",\n         \"start_date\":\"2022-09-01\",\n         \"end_date\":\"2022-09-30\",\n         \"duration\":1,\n         \"related\":true\n      },\n      {  \n         \"position\":\"Commercial\",\n         \"responsibility_level\":\"Entry\",\n         \"company\":\"Telefonica\",\n         \"start_date\":\"2019-10-01\",\n         \"end_date\":\"2019-12-31\",\n         \"duration\":2,\n         \"related\":false\n      }\n   ],\n   \"languages\":[  \n      {  \n         \"language\":\"French\",\n         \"level\":\"Advanced\"\n      },\n      {  \n         \"language\":\"English\",\n         \"level\":\"Native\"\n      }\n   ]\n}"
        ],
        [
         "46",
         "CVANON0021",
         "{\n    \"professionality\": 7,\n    \"visual\": 6,\n    \"grammar\": 7,\n    \"ai_likelihood\": 5,\n    \"education\": [\n        {\n            \"level\": \"Master\",\n            \"field\": \"Formacion de Profesorado de ESO y Bachillerato\",\n            \"related\": false,\n            \"where\": \"Universidad Autonoma de Madrid\"\n        },\n        {\n            \"level\": \"Master\",\n            \"field\": \"Linguistica Inglesa\",\n            \"related\": true,\n            \"where\": \"Universidad Complutense de Madrid\"\n        },\n        {\n            \"level\": \"Bachelor\",\n            \"field\": \"Estudios Ingleses. Lengua, Literatura y Cultura\",\n            \"related\": true,\n            \"where\": \"Lewis & Clark College (EE.UU.)\"\n        },\n        {\n            \"level\": \"Non-regulated Course\",\n            \"field\": \"TESOL Advanced\",\n            \"related\": true,\n            \"where\": \"TESOL Academy\"\n        },\n        {\n            \"level\": \"Non-regulated Course\",\n            \"field\": \"TESOL Foundational\",\n            \"related\": true,\n            \"where\": \"TESOL Academy\"\n        },\n        {\n            \"level\": \"Non-regulated Course\",\n            \"field\": \"TEFL\",\n            \"related\": true,\n            \"where\": \"TtMadrid\"\n        }\n    ],\n    \"experience\": [\n        {\n            \"position\": \"Profesora de inglés\",\n            \"responsibility_level\": \"Intermediate\",\n            \"company\": \"Jump Into English\",\n            \"start_date\": \"2020-09-01\",\n            \"end_date\": \"2021-06-01\",\n            \"duration\": 9,\n            \"related\": false\n        },\n        {\n            \"position\": \"Profesora de inglés de practicas\",\n            \"responsibility_level\": \"Entry\",\n            \"company\": \"Colegio Hispano-Aleman\",\n            \"start_date\": \"2020-11-01\",\n            \"end_date\": \"2021-04-01\",\n            \"duration\": 5,\n            \"related\": false\n        },\n        {\n            \"position\": \"Profesora de inglés\",\n            \"responsibility_level\": \"Specialist\",\n            \"company\": \"Autonoma\",\n            \"start_date\": \"2018-03-01\",\n            \"end_date\": \"2021-04-01\",\n            \"duration\": 37,\n            \"related\": false\n        },\n        {\n            \"position\": \"Profesora de inglés\",\n            \"responsibility_level\": \"Intermediate\",\n            \"company\": \"Colegio Alarcén\",\n            \"start_date\": \"2019-09-01\",\n            \"end_date\": \"2020-06-01\",\n            \"duration\": 9,\n            \"related\": false\n        },\n        {\n            \"position\": \"Profesora de inglés\",\n            \"responsibility_level\": \"Intermediate\",\n            \"company\": \"Brown & White Idiomas\",\n            \"start_date\": \"2018-03-01\",\n            \"end_date\": \"2019-08-01\",\n            \"duration\": 17,\n            \"related\": true\n        },\n        {\n            \"position\": \"Profesora de inglés\",\n            \"responsibility_level\": \"Intermediate\",\n            \"company\": \"EasyBit School of English\",\n            \"start_date\": \"2018-06-01\",\n            \"end_date\": \"2018-08-01\",\n            \"duration\": 2,\n            \"related\": false\n        },\n        {\n            \"position\": \"Profesora de inglés\",\n            \"responsibility_level\": \"Intermediate\",\n            \"company\": \"Playgroup Literacy Programme\",\n            \"start_date\": \"2016-09-01\",\n            \"end_date\": \"2017-06-01\",\n            \"duration\": 9,\n            \"related\": false\n        }\n    ],\n    \"languages\": [\n        {\n            \"language\": \"French\",\n            \"level\": \"Basic\"\n        },\n        {\n            \"language\": \"Spanish\",\n            \"level\": \"Advanced\"\n        },\n        {\n            \"language\": \"English\",\n            \"level\": \"Native\"\n        }\n    ]\n}"
        ],
        [
         "47",
         "CVANON0062",
         "{\"professionality\": 5, \"visual\": 4, \"grammar\": 6, \"ai_likelihood\": 3, \"education\": [{\"level\": \"Bachelor\", \"field\": \"Political Science\", \"related\": false, \"where\": \"University of Michigan\"}, {\"level\": \"Preparatory\", \"field\": \"General Education\", \"related\": false, \"where\": \"Kings College, The British School of Madrid\"}], \"experience\": [{\"position\": \"Student Fundraiser Caller\", \"responsibility_level\": \"Entry\", \"company\": \"University of Michigan Telefund\", \"start_date\": \"2024-01-01\", \"end_date\": \"2024-04-01\", \"duration\": 3, \"related\": true}], \"languages\": [{\"language\": \"English\", \"level\": \"Native\"}, {\"language\": \"Spanish\", \"level\": \"Native\"}]}"
        ],
        [
         "48",
         "CVANON0066",
         "{\"professionality\": 7, \"visual\": 6, \"grammar\": 5, \"ai_likelihood\": 4, \"education\": [{\"level\": \"Vocational\", \"field\": \"Administration and Finance\", \"related\": false, \"where\": \"FP\"}, {\"level\": \"Bachelor\", \"field\": \"Accounting and Finance\", \"related\": false, \"where\": \"Universidad Católica Andres Bello\"}, {\"level\": \"Non-regulated Course\", \"field\": \"General Language Skills\", \"related\": false, \"where\": \"Exams Madrid\"}, {\"level\": \"Non-regulated Course\", \"field\": \"Microsoft Excel\", \"related\": false, \"where\": \"Microsoft Office Specialist Certification\"}], \"experience\": [{\"position\": \"Phone Surveyor\", \"responsibility_level\": \"Entry\", \"company\": \"ReconMR\", \"start_date\": \"2022-07-01\", \"end_date\": \"2022-09-01\", \"duration\": 2, \"related\": true}, {\"position\": \"Bookkeeper\", \"responsibility_level\": \"Entry\", \"company\": \"Code Consulting\", \"start_date\": \"2018-07-01\", \"end_date\": \"2020-09-01\", \"duration\": 26, \"related\": false}], \"languages\": [{\"language\": \"English\", \"level\": \"Native\"}, {\"language\": \"Spanish\", \"level\": \"Native\"}]}"
        ],
        [
         "49",
         "CVANON0044",
         "{\"professionality\": 7, \"visual\": 5, \"grammar\": 6, \"ai_likelihood\": 4, \"education\": [{\"level\": \"Master\", \"field\": \"Salud Global y Epidemiologia\", \"related\": false, \"where\": \"Maastricht University\"}, {\"level\": \"Bachelor\", \"field\": \"Ciencias y Técnicas Estadisticas\", \"related\": false, \"where\": \"Maastricht University\"}], \"experience\": [{\"position\": \"Tutor/a\", \"responsibility_level\": \"Intermediate\", \"company\": \"InterUM, Maastricht University employment agency\", \"start_date\": \"2019-10-01\", \"end_date\": \"2023-12-01\", \"duration\": 63, \"related\": false}, {\"position\": \"Auxiliar de investigacion\", \"responsibility_level\": \"Entry\", \"company\": \"Arba Minch University\", \"start_date\": \"2021-04-01\", \"end_date\": \"2021-09-01\", \"duration\": 5, \"related\": false}, {\"position\": \"Auxiliar de investigacion\", \"responsibility_level\": \"Entry\", \"company\": \"Hospital Clinic de Barcelona\", \"start_date\": \"2020-02-01\", \"end_date\": \"2020-07-01\", \"duration\": 5, \"related\": false}], \"languages\": [{\"language\": \"Portugués\", \"level\": \"Intermediate\"}, {\"language\": \"Francés\", \"level\": \"Intermediate\"}, {\"language\": \"Inglés\", \"level\": \"Native\"}, {\"language\": \"Espafiol\", \"level\": \"Native\"}]}"
        ]
       ],
       "shape": {
        "columns": 2,
        "rows": 81
       }
      },
      "text/html": [
       "<div>\n",
       "<style scoped>\n",
       "    .dataframe tbody tr th:only-of-type {\n",
       "        vertical-align: middle;\n",
       "    }\n",
       "\n",
       "    .dataframe tbody tr th {\n",
       "        vertical-align: top;\n",
       "    }\n",
       "\n",
       "    .dataframe thead th {\n",
       "        text-align: right;\n",
       "    }\n",
       "</style>\n",
       "<table border=\"1\" class=\"dataframe\">\n",
       "  <thead>\n",
       "    <tr style=\"text-align: right;\">\n",
       "      <th></th>\n",
       "      <th>id</th>\n",
       "      <th>analysis</th>\n",
       "    </tr>\n",
       "  </thead>\n",
       "  <tbody>\n",
       "    <tr>\n",
       "      <th>0</th>\n",
       "      <td>CVANON0002</td>\n",
       "      <td>{\"professionality\": 3, \"visual\": 4, \"grammar\":...</td>\n",
       "    </tr>\n",
       "    <tr>\n",
       "      <th>1</th>\n",
       "      <td>CVANON0009</td>\n",
       "      <td>{\"professionality\": 3, \"visual\": 4, \"grammar\":...</td>\n",
       "    </tr>\n",
       "    <tr>\n",
       "      <th>2</th>\n",
       "      <td>CVANON0033</td>\n",
       "      <td>{\"professionality\": 6, \"visual\": 5, \"grammar\":...</td>\n",
       "    </tr>\n",
       "    <tr>\n",
       "      <th>3</th>\n",
       "      <td>CVANON0010</td>\n",
       "      <td>{\"professionality\": 6, \"visual\": 5, \"grammar\":...</td>\n",
       "    </tr>\n",
       "    <tr>\n",
       "      <th>4</th>\n",
       "      <td>CVANON0015</td>\n",
       "      <td>{\\n  \"professionality\": 3,\\n  \"visual\": 4,\\n  ...</td>\n",
       "    </tr>\n",
       "    <tr>\n",
       "      <th>...</th>\n",
       "      <td>...</td>\n",
       "      <td>...</td>\n",
       "    </tr>\n",
       "    <tr>\n",
       "      <th>76</th>\n",
       "      <td>CVANON0018</td>\n",
       "      <td>{\\n  \"professionality\": 8,\\n  \"visual\": 6,\\n  ...</td>\n",
       "    </tr>\n",
       "    <tr>\n",
       "      <th>77</th>\n",
       "      <td>CVANON0019</td>\n",
       "      <td>{\"professionality\": 6, \"visual\": 5, \"grammar\":...</td>\n",
       "    </tr>\n",
       "    <tr>\n",
       "      <th>78</th>\n",
       "      <td>CVANON0070</td>\n",
       "      <td>{\\n  \"professionality\": 6,\\n  \"visual\": 5,\\n  ...</td>\n",
       "    </tr>\n",
       "    <tr>\n",
       "      <th>79</th>\n",
       "      <td>CVANON0017</td>\n",
       "      <td>{\"professionality\": 7, \"visual\": 5, \"grammar\":...</td>\n",
       "    </tr>\n",
       "    <tr>\n",
       "      <th>80</th>\n",
       "      <td>CVANON0059</td>\n",
       "      <td>{\"professionality\": 7, \"visual\": 5, \"grammar\":...</td>\n",
       "    </tr>\n",
       "  </tbody>\n",
       "</table>\n",
       "<p>81 rows × 2 columns</p>\n",
       "</div>"
      ],
      "text/plain": [
       "            id                                           analysis\n",
       "0   CVANON0002  {\"professionality\": 3, \"visual\": 4, \"grammar\":...\n",
       "1   CVANON0009  {\"professionality\": 3, \"visual\": 4, \"grammar\":...\n",
       "2   CVANON0033  {\"professionality\": 6, \"visual\": 5, \"grammar\":...\n",
       "3   CVANON0010  {\"professionality\": 6, \"visual\": 5, \"grammar\":...\n",
       "4   CVANON0015  {\\n  \"professionality\": 3,\\n  \"visual\": 4,\\n  ...\n",
       "..         ...                                                ...\n",
       "76  CVANON0018  {\\n  \"professionality\": 8,\\n  \"visual\": 6,\\n  ...\n",
       "77  CVANON0019  {\"professionality\": 6, \"visual\": 5, \"grammar\":...\n",
       "78  CVANON0070  {\\n  \"professionality\": 6,\\n  \"visual\": 5,\\n  ...\n",
       "79  CVANON0017  {\"professionality\": 7, \"visual\": 5, \"grammar\":...\n",
       "80  CVANON0059  {\"professionality\": 7, \"visual\": 5, \"grammar\":...\n",
       "\n",
       "[81 rows x 2 columns]"
      ]
     },
     "execution_count": 16,
     "metadata": {},
     "output_type": "execute_result"
    }
   ],
   "source": [
    "cvs_predict = pd.read_parquet(\"data/cvs_predict_processed.parquet\")\n",
    "cvs_predict"
   ]
  },
  {
   "cell_type": "code",
   "execution_count": 17,
   "id": "ab696723",
   "metadata": {},
   "outputs": [
    {
     "data": {
      "application/vnd.microsoft.datawrangler.viewer.v0+json": {
       "columns": [
        {
         "name": "index",
         "rawType": "int64",
         "type": "integer"
        },
        {
         "name": "id",
         "rawType": "object",
         "type": "string"
        },
        {
         "name": "points_9m",
         "rawType": "float64",
         "type": "float"
        }
       ],
       "conversionMethod": "pd.DataFrame",
       "ref": "b1906ddf-c9cb-4d73-ace9-8529a8d03749",
       "rows": [
        [
         "0",
         "CVANON0001",
         null
        ],
        [
         "1",
         "CVANON0002",
         "3617.797999999999"
        ],
        [
         "2",
         "CVANON0003",
         null
        ],
        [
         "3",
         "CVANON0004",
         "749.2650000000001"
        ],
        [
         "4",
         "CVANON0005",
         "1373.1600000000003"
        ],
        [
         "5",
         "CVANON0006",
         "2950.3799999999997"
        ],
        [
         "6",
         "CVANON0007",
         "2427.1040000000003"
        ],
        [
         "7",
         "CVANON0008",
         "1747.4413999999974"
        ],
        [
         "8",
         "CVANON0009",
         "2569.874"
        ],
        [
         "9",
         "CVANON0011",
         "830.5909999999998"
        ],
        [
         "10",
         "CVANON0012",
         "1217.0"
        ],
        [
         "11",
         "CVANON0013",
         "95.96199999999999"
        ],
        [
         "12",
         "CVANON0014",
         "585.0"
        ],
        [
         "13",
         "CVANON0015",
         "1194.063"
        ],
        [
         "14",
         "CVANON0016",
         "1311.521"
        ],
        [
         "15",
         "CVANON0017",
         "983.8680019999999"
        ],
        [
         "16",
         "CVANON0018",
         "985.2520000000002"
        ],
        [
         "17",
         "CVANON0019",
         "624.2210000000001"
        ],
        [
         "18",
         "CVANON0020",
         "115.0"
        ],
        [
         "19",
         "CVANON0021",
         null
        ],
        [
         "20",
         "CVANON0022",
         null
        ],
        [
         "21",
         "CVANON0023",
         "40.0"
        ],
        [
         "22",
         "CVANON0024",
         "670.265"
        ],
        [
         "23",
         "CVANON0025",
         "372.7"
        ],
        [
         "24",
         "CVANON0026",
         "632.0"
        ],
        [
         "25",
         "CVANON0027",
         "374.587"
        ],
        [
         "26",
         "CVANON0028",
         "1266.8453999999997"
        ],
        [
         "27",
         "CVANON0029",
         "1.0"
        ],
        [
         "28",
         "CVANON0030",
         "935.9970000000001"
        ],
        [
         "29",
         "CVANON0031",
         "603.315"
        ],
        [
         "30",
         "CVANON0036",
         null
        ],
        [
         "31",
         "CVANON0037",
         "3.9"
        ],
        [
         "32",
         "CVANON0038",
         "1400.599999999995"
        ],
        [
         "33",
         "CVANON0039",
         "2927.4440000000045"
        ],
        [
         "34",
         "CVANON0040",
         "1460.3720000999997"
        ],
        [
         "35",
         "CVANON0041",
         null
        ],
        [
         "36",
         "CVANON0042",
         "1761.7460000000003"
        ],
        [
         "37",
         "CVANON0043",
         "482.5439999999998"
        ],
        [
         "38",
         "CVANON0046",
         null
        ],
        [
         "39",
         "CVANON0047",
         "2708.526999999997"
        ],
        [
         "40",
         "CVANON0048",
         "3886.0615999999986"
        ],
        [
         "41",
         "CVANON0049",
         "282.79999999999995"
        ],
        [
         "42",
         "CVANON0050",
         "919.0"
        ],
        [
         "43",
         "CVANON0051",
         "17.726"
        ],
        [
         "44",
         "CVANON0052",
         "3112.599999999998"
        ],
        [
         "45",
         "CVANON0053",
         "1051.6300001"
        ],
        [
         "46",
         "CVANON0054",
         "1194.258"
        ],
        [
         "47",
         "CVANON0055",
         "7.5"
        ],
        [
         "48",
         "CVANON0056",
         null
        ],
        [
         "49",
         "CVANON0057",
         "1.0"
        ]
       ],
       "shape": {
        "columns": 2,
        "rows": 309
       }
      },
      "text/html": [
       "<div>\n",
       "<style scoped>\n",
       "    .dataframe tbody tr th:only-of-type {\n",
       "        vertical-align: middle;\n",
       "    }\n",
       "\n",
       "    .dataframe tbody tr th {\n",
       "        vertical-align: top;\n",
       "    }\n",
       "\n",
       "    .dataframe thead th {\n",
       "        text-align: right;\n",
       "    }\n",
       "</style>\n",
       "<table border=\"1\" class=\"dataframe\">\n",
       "  <thead>\n",
       "    <tr style=\"text-align: right;\">\n",
       "      <th></th>\n",
       "      <th>id</th>\n",
       "      <th>points_9m</th>\n",
       "    </tr>\n",
       "  </thead>\n",
       "  <tbody>\n",
       "    <tr>\n",
       "      <th>0</th>\n",
       "      <td>CVANON0001</td>\n",
       "      <td>NaN</td>\n",
       "    </tr>\n",
       "    <tr>\n",
       "      <th>1</th>\n",
       "      <td>CVANON0002</td>\n",
       "      <td>3617.79800</td>\n",
       "    </tr>\n",
       "    <tr>\n",
       "      <th>2</th>\n",
       "      <td>CVANON0003</td>\n",
       "      <td>NaN</td>\n",
       "    </tr>\n",
       "    <tr>\n",
       "      <th>3</th>\n",
       "      <td>CVANON0004</td>\n",
       "      <td>749.26500</td>\n",
       "    </tr>\n",
       "    <tr>\n",
       "      <th>4</th>\n",
       "      <td>CVANON0005</td>\n",
       "      <td>1373.16000</td>\n",
       "    </tr>\n",
       "    <tr>\n",
       "      <th>...</th>\n",
       "      <td>...</td>\n",
       "      <td>...</td>\n",
       "    </tr>\n",
       "    <tr>\n",
       "      <th>304</th>\n",
       "      <td>CVANON0333</td>\n",
       "      <td>1876.70008</td>\n",
       "    </tr>\n",
       "    <tr>\n",
       "      <th>305</th>\n",
       "      <td>CVANON0334</td>\n",
       "      <td>1092.65000</td>\n",
       "    </tr>\n",
       "    <tr>\n",
       "      <th>306</th>\n",
       "      <td>CVANON0335</td>\n",
       "      <td>1784.50000</td>\n",
       "    </tr>\n",
       "    <tr>\n",
       "      <th>307</th>\n",
       "      <td>CVANON0336</td>\n",
       "      <td>NaN</td>\n",
       "    </tr>\n",
       "    <tr>\n",
       "      <th>308</th>\n",
       "      <td>CVANON0337</td>\n",
       "      <td>5281.20000</td>\n",
       "    </tr>\n",
       "  </tbody>\n",
       "</table>\n",
       "<p>309 rows × 2 columns</p>\n",
       "</div>"
      ],
      "text/plain": [
       "             id   points_9m\n",
       "0    CVANON0001         NaN\n",
       "1    CVANON0002  3617.79800\n",
       "2    CVANON0003         NaN\n",
       "3    CVANON0004   749.26500\n",
       "4    CVANON0005  1373.16000\n",
       "..          ...         ...\n",
       "304  CVANON0333  1876.70008\n",
       "305  CVANON0334  1092.65000\n",
       "306  CVANON0335  1784.50000\n",
       "307  CVANON0336         NaN\n",
       "308  CVANON0337  5281.20000\n",
       "\n",
       "[309 rows x 2 columns]"
      ]
     },
     "execution_count": 17,
     "metadata": {},
     "output_type": "execute_result"
    }
   ],
   "source": [
    "scores = pd.read_excel(\"data/scores.xlsx\", sheet_name=\"Data\")\n",
    "scores.rename(columns={\"ID\": \"id\", \"Total Points (up to) first 9 months\": \"points_9m\"}, inplace=True)\n",
    "scores = scores[[\"id\", \"points_9m\"]]\n",
    "scores"
   ]
  },
  {
   "cell_type": "markdown",
   "id": "0eb34e05",
   "metadata": {},
   "source": [
    "# Define functions"
   ]
  },
  {
   "cell_type": "code",
   "execution_count": 18,
   "id": "da0d1bc0",
   "metadata": {},
   "outputs": [],
   "source": [
    "def process_cvs_df(df: pd.DataFrame, mapping: dict, formulas: dict) -> pd.DataFrame:\n",
    "\n",
    "\tdef exploded_table(series: pd.Series) -> pd.DataFrame:\n",
    "\t\texploded_table = series.explode()\n",
    "\t\texploded_table_index = exploded_table.index\n",
    "\t\texploded_table = pd.json_normalize(exploded_table)\n",
    "\t\texploded_table.index = exploded_table_index\n",
    "\t\treturn exploded_table\n",
    "\t\n",
    "\tdef score_education(exploded_table: pd.DataFrame, mapping: dict, formula: str) -> pd.Series:\n",
    "\t\texploded_table[\"level_score\"] = exploded_table[\"level\"].apply(lambda x: mapping[\"education\"][f\"level\"].get(x, 0))\n",
    "\t\texploded_table[\"related_score\"] = exploded_table[\"related\"].apply(lambda x: mapping[\"education\"][\"related_multiplier\"].get(x, 0))\n",
    "\t\texploded_table[\"score\"] = exploded_table.eval(formula)\n",
    "\t\treturn exploded_table.groupby(level=0)[\"score\"].sum()\n",
    "\t\n",
    "\tdef score_experience(exploded_table: pd.DataFrame, mapping: dict, formula: str):\n",
    "\t\texploded_table[\"responsibility_level_score\"] = exploded_table[\"responsibility_level\"].apply(lambda x: mapping[\"experience\"][f\"responsibility_level\"].get(x, 0))\n",
    "\t\texploded_table[\"duration\"] = pd.to_numeric(exploded_table[\"duration\"], errors=\"coerce\").fillna(0)\n",
    "\t\texploded_table[\"duration_score\"] = exploded_table[\"duration\"] / 12\n",
    "\t\texploded_table[\"duration_score\"] = exploded_table[\"duration_score\"].fillna(0)\n",
    "\t\texploded_table[\"related_score\"] = exploded_table[\"related\"].apply(lambda x: mapping[\"experience\"][\"related_multiplier\"].get(x, 0))\n",
    "\t\texploded_table[\"score\"] = exploded_table.eval(formula)\n",
    "\t\treturn exploded_table.groupby(level=0)[\"score\"].sum()\n",
    "\t\n",
    "\tdef score_languages(exploded_table: pd.DataFrame, mapping:dict, formula:str):\n",
    "\t\texploded_table[\"languages_score\"] = exploded_table[\"level\"].apply(lambda x: mapping[\"languages\"][f\"level\"].get(x, 0))\n",
    "\t\texploded_table[\"score\"] = exploded_table.eval(formula)\n",
    "\t\treturn exploded_table.groupby(level=0)[\"score\"].sum()\n",
    "\t\n",
    "\tscore_functions = {\n",
    "\t\t\"education\": score_education,\n",
    "\t\t\"experience\": score_experience,\n",
    "\t\t\"languages\": score_languages,\n",
    "\t}\n",
    "\n",
    "\t# Convert the \"analysys\" column from a string formatted as JSON into a JSON object\n",
    "\tdf[\"analysis\"] = df[\"analysis\"].apply(lambda x: json.loads(x))\n",
    "\t\n",
    "\t# Extract the columns from the \"analysis\" column\n",
    "\textracted_columns = pd.json_normalize(df[\"analysis\"])\n",
    "\n",
    "\t# Join the extracted columns with the original DataFrame\n",
    "\tdf = pd.concat([df, extracted_columns], axis=1)\n",
    "\n",
    "\t# Score these fields using the corresponding scoring function\n",
    "\tfields = [\"education\", \"experience\", \"languages\"]\n",
    "\tfor field in fields:\n",
    "\t\tdf[field] = score_functions[field](exploded_table(df[field]), mapping, formulas[field])\n",
    "\n",
    "\t# Drop the original \"analysis\" column\n",
    "\tdf = df.drop(columns=[\"analysis\"])\n",
    "\n",
    "\t# Convert the columns into float to unify the data types\n",
    "\tfor col in df.columns.drop(\"id\"):\n",
    "\t\tdf[col] = df[col].astype(\"float\")\n",
    "\n",
    "\treturn df"
   ]
  },
  {
   "cell_type": "markdown",
   "id": "0711fd0d",
   "metadata": {},
   "source": [
    "# Score maps and formulas"
   ]
  },
  {
   "cell_type": "code",
   "execution_count": 19,
   "id": "9b70297d",
   "metadata": {},
   "outputs": [],
   "source": [
    "mapping = {\n",
    "\t\"education\": {\n",
    "\t\t\"level\": {\n",
    "\t\t\t\"Primary\": 1,\n",
    "\t\t\t\"Secondary\": 2,\n",
    "\t\t\t\"Preparatory\": 3,\n",
    "\t\t\t\"Vocational\": 3,\n",
    "\t\t\t\"Diploma\": 3,\n",
    "\t\t\t\"Associate\": 4,\n",
    "\t\t\t\"Bachelor\": 5,\n",
    "\t\t\t\"Postgraduate Diploma\": 6,\n",
    "\t\t\t\"Master\": 7,\n",
    "\t\t\t\"Doctorate\": 8,\n",
    "\t\t\t\"Non-regulated Course\": 1,\n",
    "\t\t\t\"Other\": 0\n",
    "\t\t},\n",
    "\t\t\"related_multiplier\": {\n",
    "\t\t\tTrue: 2,\n",
    "\t\t\tFalse: 1,\n",
    "\t\t},\n",
    "\t},\n",
    "\t\"experience\": {\n",
    "\t\t\"responsibility_level\": {\n",
    "\t\t\t\"Entry\": 1,\n",
    "\t\t\t\"Intermediate\": 2,\n",
    "\t\t\t\"Senior\": 3,\n",
    "\t\t\t\"Manager\": 4,\n",
    "\t\t\t\"Director\": 5,\n",
    "\t\t\t\"Executive\": 6,\n",
    "\t\t\t\"Other\": 0,\n",
    "\t\t},\n",
    "\t\t\"related_multiplier\": {\n",
    "\t\t\tTrue: 2,\n",
    "\t\t\tFalse: 1,\n",
    "\t\t},\n",
    "\t},\n",
    "\t\"languages\": {\n",
    "\t\t\"level\": {\n",
    "\t\t\t\"Basic\": 1,\n",
    "\t\t\t\"Intermediate\": 2,\n",
    "\t\t\t\"Advanced\": 3,\n",
    "\t\t\t\"Fluent\": 4,\n",
    "\t\t\t\"Native\": 5,\n",
    "\t\t\t\"Other\": 0,\n",
    "\t\t}\n",
    "\t}\n",
    "}"
   ]
  },
  {
   "cell_type": "code",
   "execution_count": 20,
   "id": "54cc749d",
   "metadata": {},
   "outputs": [],
   "source": [
    "formulas = {\n",
    "    \"education\": \"level_score * related_score\",\n",
    "    \"experience\": \"responsibility_level_score * duration_score * related_score\",\n",
    "    \"languages\": \"languages_score\",\n",
    "}"
   ]
  },
  {
   "cell_type": "markdown",
   "id": "688a4345",
   "metadata": {},
   "source": [
    "# Processing"
   ]
  },
  {
   "cell_type": "code",
   "execution_count": 21,
   "id": "7d0fba7b",
   "metadata": {},
   "outputs": [
    {
     "data": {
      "application/vnd.microsoft.datawrangler.viewer.v0+json": {
       "columns": [
        {
         "name": "index",
         "rawType": "int64",
         "type": "integer"
        },
        {
         "name": "id",
         "rawType": "object",
         "type": "string"
        },
        {
         "name": "professionality",
         "rawType": "float64",
         "type": "float"
        },
        {
         "name": "visual",
         "rawType": "float64",
         "type": "float"
        },
        {
         "name": "grammar",
         "rawType": "float64",
         "type": "float"
        },
        {
         "name": "ai_likelihood",
         "rawType": "float64",
         "type": "float"
        },
        {
         "name": "education",
         "rawType": "float64",
         "type": "float"
        },
        {
         "name": "experience",
         "rawType": "float64",
         "type": "float"
        },
        {
         "name": "languages",
         "rawType": "float64",
         "type": "float"
        }
       ],
       "conversionMethod": "pd.DataFrame",
       "ref": "bd486de0-09cc-4b6c-a14b-294d45377cd8",
       "rows": [
        [
         "0",
         "CVANON0002",
         "4.0",
         "3.0",
         "5.0",
         "3.0",
         "4.0",
         "9.833333333333334",
         "8.0"
        ],
        [
         "1",
         "CVANON0247",
         "7.0",
         "6.0",
         "8.0",
         "4.0",
         "12.0",
         "3.083333333333333",
         "10.0"
        ],
        [
         "2",
         "CVANON0105",
         "7.0",
         "5.0",
         "4.0",
         "5.0",
         "23.0",
         "87.66666666666667",
         "2.0"
        ],
        [
         "3",
         "CVANON0009",
         "7.0",
         "6.0",
         "6.0",
         "5.0",
         "15.0",
         "4.166666666666666",
         "11.0"
        ],
        [
         "4",
         "CVANON0033",
         "7.0",
         "6.0",
         "8.0",
         "4.0",
         "9.0",
         "5.166666666666667",
         "5.0"
        ],
        [
         "5",
         "CVANON0010",
         "7.0",
         "5.0",
         "6.0",
         "3.0",
         "16.0",
         "13.0",
         "10.0"
        ],
        [
         "6",
         "CVANON0238",
         "7.0",
         "6.0",
         "5.0",
         "4.0",
         "24.0",
         "10.5",
         "0.0"
        ],
        [
         "7",
         "CVANON0269",
         "7.0",
         "6.0",
         "8.0",
         "3.0",
         "12.0",
         "8.0",
         "13.0"
        ],
        [
         "8",
         "CVANON0197",
         "6.0",
         "5.0",
         "7.0",
         "3.0",
         "3.0",
         "0.16666666666666666",
         "11.0"
        ],
        [
         "9",
         "CVANON0015",
         "7.0",
         "6.0",
         "5.0",
         "3.0",
         "14.0",
         "24.333333333333332",
         "10.0"
        ],
        [
         "10",
         "CVANON0172",
         "6.0",
         "5.0",
         "6.0",
         "3.0",
         "26.0",
         "9.666666666666666",
         "9.0"
        ],
        [
         "11",
         "CVANON0007",
         "7.0",
         "5.0",
         "6.0",
         "4.0",
         "7.0",
         "1.8333333333333333",
         "9.0"
        ],
        [
         "12",
         "CVANON0055",
         "7.0",
         "6.0",
         "5.0",
         "4.0",
         "3.0",
         "52.25",
         "6.0"
        ],
        [
         "13",
         "CVANON0261",
         "6.0",
         "5.0",
         "7.0",
         "5.0",
         "10.0",
         "16.0",
         "9.0"
        ],
        [
         "14",
         "CVANON0011",
         "7.0",
         "6.0",
         "7.0",
         "5.0",
         "5.0",
         "0.0",
         "12.0"
        ],
        [
         "15",
         "CVANON0255",
         "6.0",
         "4.0",
         "7.0",
         "3.0",
         "2.0",
         "15.25",
         "13.0"
        ],
        [
         "16",
         "CVANON0083",
         "7.0",
         "6.0",
         "7.0",
         "6.0",
         "5.0",
         "1.3333333333333335",
         "6.0"
        ],
        [
         "17",
         "CVANON0183",
         "8.0",
         "7.0",
         "9.0",
         "5.0",
         "24.0",
         "33.0",
         "10.0"
        ],
        [
         "18",
         "CVANON0243",
         "3.0",
         "2.0",
         "4.0",
         "5.0",
         "2.0",
         "0.0",
         "3.0"
        ],
        [
         "19",
         "CVANON0313",
         "6.0",
         "5.0",
         "5.0",
         "4.0",
         "10.0",
         "19.833333333333336",
         "7.0"
        ],
        [
         "20",
         "CVANON0299",
         "4.0",
         "3.0",
         "4.0",
         "2.0",
         "4.0",
         "8.5",
         "11.0"
        ],
        [
         "21",
         "CVANON0204",
         "8.0",
         "6.0",
         "8.0",
         "5.0",
         "11.0",
         "17.333333333333332",
         "10.0"
        ],
        [
         "22",
         "CVANON0319",
         "7.0",
         "6.0",
         "8.0",
         "5.0",
         "10.0",
         "0.0",
         "11.0"
        ],
        [
         "23",
         "CVANON0306",
         "7.0",
         "5.0",
         "6.0",
         "3.0",
         "0.0",
         "20.0",
         "7.0"
        ],
        [
         "24",
         "CVANON0120",
         "8.0",
         "7.0",
         "9.0",
         "5.0",
         "22.0",
         "2.3333333333333335",
         "17.0"
        ],
        [
         "25",
         "CVANON0245",
         "7.0",
         "6.0",
         "5.0",
         "3.0",
         "22.0",
         "2.5833333333333335",
         "11.0"
        ],
        [
         "26",
         "CVANON0305",
         "8.0",
         "7.0",
         "8.0",
         "5.0",
         "5.0",
         "38.166666666666664",
         "14.0"
        ],
        [
         "27",
         "CVANON0128",
         "6.0",
         "5.0",
         "7.0",
         "5.0",
         "0.0",
         "7.666666666666667",
         "5.0"
        ],
        [
         "28",
         "CVANON0225",
         "7.0",
         "5.0",
         "6.0",
         "5.0",
         "0.0",
         "43.0",
         "0.0"
        ],
        [
         "29",
         "CVANON0265",
         "6.0",
         "5.0",
         "7.0",
         "5.0",
         "5.0",
         "36.0",
         "19.0"
        ],
        [
         "30",
         "CVANON0023",
         "6.0",
         "5.0",
         "5.0",
         "4.0",
         "0.0",
         "5.916666666666666",
         "12.0"
        ],
        [
         "31",
         "CVANON0326",
         "7.0",
         "5.0",
         "6.0",
         "2.0",
         "6.0",
         "23.416666666666668",
         "9.0"
        ],
        [
         "32",
         "CVANON0203",
         "3.0",
         "2.0",
         "2.0",
         "1.0",
         "8.0",
         "0.0",
         "0.0"
        ],
        [
         "33",
         "CVANON0295",
         "7.0",
         "6.0",
         "8.0",
         "5.0",
         "8.0",
         "5.166666666666667",
         "11.0"
        ],
        [
         "34",
         "CVANON0212",
         "7.0",
         "6.0",
         "7.0",
         "5.0",
         "24.0",
         "6.666666666666667",
         "15.0"
        ],
        [
         "35",
         "CVANON0133",
         "6.0",
         "5.0",
         "4.0",
         "3.0",
         "6.0",
         "82.16666666666667",
         "12.0"
        ],
        [
         "36",
         "CVANON0286",
         "7.0",
         "6.0",
         "5.0",
         "4.0",
         "8.0",
         "1.0833333333333333",
         "4.0"
        ],
        [
         "37",
         "CVANON0074",
         "6.0",
         "5.0",
         "6.0",
         "3.0",
         "11.0",
         "23.0",
         "10.0"
        ],
        [
         "38",
         "CVANON0137",
         "1.0",
         "1.0",
         "1.0",
         "1.0",
         "0.0",
         "0.0",
         "0.0"
        ],
        [
         "39",
         "CVANON0090",
         "7.0",
         "6.0",
         "7.0",
         "3.0",
         "24.0",
         "1.6666666666666667",
         "7.0"
        ],
        [
         "40",
         "CVANON0208",
         "7.0",
         "5.0",
         "6.0",
         "2.0",
         "12.0",
         "7.25",
         "12.0"
        ],
        [
         "41",
         "CVANON0291",
         "6.0",
         "5.0",
         "7.0",
         "3.0",
         "5.0",
         "31.666666666666668",
         "5.0"
        ],
        [
         "42",
         "CVANON0037",
         "6.0",
         "5.0",
         "7.0",
         "3.0",
         "3.0",
         "0.0",
         "16.0"
        ],
        [
         "43",
         "CVANON0029",
         "6.0",
         "5.0",
         "4.0",
         "2.0",
         "7.0",
         "57.0",
         "12.0"
        ],
        [
         "44",
         "CVANON0324",
         "8.0",
         "6.0",
         "7.0",
         "5.0",
         "36.0",
         "53.66666666666667",
         "11.0"
        ],
        [
         "45",
         "CVANON0114",
         "7.0",
         "5.0",
         "6.0",
         "3.0",
         "21.0",
         "8.416666666666666",
         "8.0"
        ],
        [
         "46",
         "CVANON0079",
         "7.0",
         "6.0",
         "8.0",
         "3.0",
         "16.0",
         "19.0",
         "12.0"
        ],
        [
         "47",
         "CVANON0116",
         "7.0",
         "6.0",
         "6.0",
         "3.0",
         "5.0",
         "25.0",
         "3.0"
        ],
        [
         "48",
         "CVANON0094",
         "7.0",
         "5.0",
         "6.0",
         "4.0",
         "21.0",
         "4.916666666666666",
         "12.0"
        ],
        [
         "49",
         "CVANON0012",
         "7.0",
         "6.0",
         "7.0",
         "5.0",
         "9.0",
         "9.666666666666668",
         "9.0"
        ]
       ],
       "shape": {
        "columns": 8,
        "rows": 327
       }
      },
      "text/html": [
       "<div>\n",
       "<style scoped>\n",
       "    .dataframe tbody tr th:only-of-type {\n",
       "        vertical-align: middle;\n",
       "    }\n",
       "\n",
       "    .dataframe tbody tr th {\n",
       "        vertical-align: top;\n",
       "    }\n",
       "\n",
       "    .dataframe thead th {\n",
       "        text-align: right;\n",
       "    }\n",
       "</style>\n",
       "<table border=\"1\" class=\"dataframe\">\n",
       "  <thead>\n",
       "    <tr style=\"text-align: right;\">\n",
       "      <th></th>\n",
       "      <th>id</th>\n",
       "      <th>professionality</th>\n",
       "      <th>visual</th>\n",
       "      <th>grammar</th>\n",
       "      <th>ai_likelihood</th>\n",
       "      <th>education</th>\n",
       "      <th>experience</th>\n",
       "      <th>languages</th>\n",
       "    </tr>\n",
       "  </thead>\n",
       "  <tbody>\n",
       "    <tr>\n",
       "      <th>0</th>\n",
       "      <td>CVANON0002</td>\n",
       "      <td>4.0</td>\n",
       "      <td>3.0</td>\n",
       "      <td>5.0</td>\n",
       "      <td>3.0</td>\n",
       "      <td>4.0</td>\n",
       "      <td>9.833333</td>\n",
       "      <td>8.0</td>\n",
       "    </tr>\n",
       "    <tr>\n",
       "      <th>1</th>\n",
       "      <td>CVANON0247</td>\n",
       "      <td>7.0</td>\n",
       "      <td>6.0</td>\n",
       "      <td>8.0</td>\n",
       "      <td>4.0</td>\n",
       "      <td>12.0</td>\n",
       "      <td>3.083333</td>\n",
       "      <td>10.0</td>\n",
       "    </tr>\n",
       "    <tr>\n",
       "      <th>2</th>\n",
       "      <td>CVANON0105</td>\n",
       "      <td>7.0</td>\n",
       "      <td>5.0</td>\n",
       "      <td>4.0</td>\n",
       "      <td>5.0</td>\n",
       "      <td>23.0</td>\n",
       "      <td>87.666667</td>\n",
       "      <td>2.0</td>\n",
       "    </tr>\n",
       "    <tr>\n",
       "      <th>3</th>\n",
       "      <td>CVANON0009</td>\n",
       "      <td>7.0</td>\n",
       "      <td>6.0</td>\n",
       "      <td>6.0</td>\n",
       "      <td>5.0</td>\n",
       "      <td>15.0</td>\n",
       "      <td>4.166667</td>\n",
       "      <td>11.0</td>\n",
       "    </tr>\n",
       "    <tr>\n",
       "      <th>4</th>\n",
       "      <td>CVANON0033</td>\n",
       "      <td>7.0</td>\n",
       "      <td>6.0</td>\n",
       "      <td>8.0</td>\n",
       "      <td>4.0</td>\n",
       "      <td>9.0</td>\n",
       "      <td>5.166667</td>\n",
       "      <td>5.0</td>\n",
       "    </tr>\n",
       "    <tr>\n",
       "      <th>...</th>\n",
       "      <td>...</td>\n",
       "      <td>...</td>\n",
       "      <td>...</td>\n",
       "      <td>...</td>\n",
       "      <td>...</td>\n",
       "      <td>...</td>\n",
       "      <td>...</td>\n",
       "      <td>...</td>\n",
       "    </tr>\n",
       "    <tr>\n",
       "      <th>322</th>\n",
       "      <td>CVANON0206</td>\n",
       "      <td>7.0</td>\n",
       "      <td>6.0</td>\n",
       "      <td>8.0</td>\n",
       "      <td>3.0</td>\n",
       "      <td>13.0</td>\n",
       "      <td>25.583333</td>\n",
       "      <td>17.0</td>\n",
       "    </tr>\n",
       "    <tr>\n",
       "      <th>323</th>\n",
       "      <td>CVANON0185</td>\n",
       "      <td>7.0</td>\n",
       "      <td>6.0</td>\n",
       "      <td>6.0</td>\n",
       "      <td>5.0</td>\n",
       "      <td>10.0</td>\n",
       "      <td>11.666667</td>\n",
       "      <td>3.0</td>\n",
       "    </tr>\n",
       "    <tr>\n",
       "      <th>324</th>\n",
       "      <td>CVANON0119</td>\n",
       "      <td>6.0</td>\n",
       "      <td>5.0</td>\n",
       "      <td>8.0</td>\n",
       "      <td>4.0</td>\n",
       "      <td>22.0</td>\n",
       "      <td>74.500000</td>\n",
       "      <td>16.0</td>\n",
       "    </tr>\n",
       "    <tr>\n",
       "      <th>325</th>\n",
       "      <td>CVANON0059</td>\n",
       "      <td>7.0</td>\n",
       "      <td>6.0</td>\n",
       "      <td>8.0</td>\n",
       "      <td>5.0</td>\n",
       "      <td>20.0</td>\n",
       "      <td>11.000000</td>\n",
       "      <td>11.0</td>\n",
       "    </tr>\n",
       "    <tr>\n",
       "      <th>326</th>\n",
       "      <td>CVANON0097</td>\n",
       "      <td>6.0</td>\n",
       "      <td>5.0</td>\n",
       "      <td>7.0</td>\n",
       "      <td>5.0</td>\n",
       "      <td>8.0</td>\n",
       "      <td>10.500000</td>\n",
       "      <td>6.0</td>\n",
       "    </tr>\n",
       "  </tbody>\n",
       "</table>\n",
       "<p>327 rows × 8 columns</p>\n",
       "</div>"
      ],
      "text/plain": [
       "             id  professionality  visual  grammar  ai_likelihood  education  \\\n",
       "0    CVANON0002              4.0     3.0      5.0            3.0        4.0   \n",
       "1    CVANON0247              7.0     6.0      8.0            4.0       12.0   \n",
       "2    CVANON0105              7.0     5.0      4.0            5.0       23.0   \n",
       "3    CVANON0009              7.0     6.0      6.0            5.0       15.0   \n",
       "4    CVANON0033              7.0     6.0      8.0            4.0        9.0   \n",
       "..          ...              ...     ...      ...            ...        ...   \n",
       "322  CVANON0206              7.0     6.0      8.0            3.0       13.0   \n",
       "323  CVANON0185              7.0     6.0      6.0            5.0       10.0   \n",
       "324  CVANON0119              6.0     5.0      8.0            4.0       22.0   \n",
       "325  CVANON0059              7.0     6.0      8.0            5.0       20.0   \n",
       "326  CVANON0097              6.0     5.0      7.0            5.0        8.0   \n",
       "\n",
       "     experience  languages  \n",
       "0      9.833333        8.0  \n",
       "1      3.083333       10.0  \n",
       "2     87.666667        2.0  \n",
       "3      4.166667       11.0  \n",
       "4      5.166667        5.0  \n",
       "..          ...        ...  \n",
       "322   25.583333       17.0  \n",
       "323   11.666667        3.0  \n",
       "324   74.500000       16.0  \n",
       "325   11.000000       11.0  \n",
       "326   10.500000        6.0  \n",
       "\n",
       "[327 rows x 8 columns]"
      ]
     },
     "execution_count": 21,
     "metadata": {},
     "output_type": "execute_result"
    }
   ],
   "source": [
    "cvs_train = process_cvs_df(df=cvs_train, mapping=mapping, formulas=formulas)\n",
    "cvs_train"
   ]
  },
  {
   "cell_type": "code",
   "execution_count": 22,
   "id": "1285c696",
   "metadata": {},
   "outputs": [
    {
     "data": {
      "application/vnd.microsoft.datawrangler.viewer.v0+json": {
       "columns": [
        {
         "name": "index",
         "rawType": "int64",
         "type": "integer"
        },
        {
         "name": "id",
         "rawType": "object",
         "type": "string"
        },
        {
         "name": "professionality",
         "rawType": "float64",
         "type": "float"
        },
        {
         "name": "visual",
         "rawType": "float64",
         "type": "float"
        },
        {
         "name": "grammar",
         "rawType": "float64",
         "type": "float"
        },
        {
         "name": "ai_likelihood",
         "rawType": "float64",
         "type": "float"
        },
        {
         "name": "education",
         "rawType": "float64",
         "type": "float"
        },
        {
         "name": "experience",
         "rawType": "float64",
         "type": "float"
        },
        {
         "name": "languages",
         "rawType": "float64",
         "type": "float"
        },
        {
         "name": "points_9m",
         "rawType": "float64",
         "type": "float"
        }
       ],
       "conversionMethod": "pd.DataFrame",
       "ref": "22381dc0-cdad-4186-bbab-b058b3ab2c96",
       "rows": [
        [
         "0",
         "CVANON0002",
         "4.0",
         "3.0",
         "5.0",
         "3.0",
         "4.0",
         "9.833333333333334",
         "8.0",
         "3617.797999999999"
        ],
        [
         "1",
         "CVANON0247",
         "7.0",
         "6.0",
         "8.0",
         "4.0",
         "12.0",
         "3.083333333333333",
         "10.0",
         "1271.65"
        ],
        [
         "2",
         "CVANON0009",
         "7.0",
         "6.0",
         "6.0",
         "5.0",
         "15.0",
         "4.166666666666666",
         "11.0",
         "2569.874"
        ],
        [
         "3",
         "CVANON0238",
         "7.0",
         "6.0",
         "5.0",
         "4.0",
         "24.0",
         "10.5",
         "0.0",
         "685.1999999999999"
        ],
        [
         "4",
         "CVANON0269",
         "7.0",
         "6.0",
         "8.0",
         "3.0",
         "12.0",
         "8.0",
         "13.0",
         "652.8"
        ],
        [
         "5",
         "CVANON0197",
         "6.0",
         "5.0",
         "7.0",
         "3.0",
         "3.0",
         "0.16666666666666666",
         "11.0",
         "1605.3679999999995"
        ],
        [
         "6",
         "CVANON0015",
         "7.0",
         "6.0",
         "5.0",
         "3.0",
         "14.0",
         "24.333333333333332",
         "10.0",
         "1194.063"
        ],
        [
         "7",
         "CVANON0172",
         "6.0",
         "5.0",
         "6.0",
         "3.0",
         "26.0",
         "9.666666666666666",
         "9.0",
         "3146.0"
        ],
        [
         "8",
         "CVANON0007",
         "7.0",
         "5.0",
         "6.0",
         "4.0",
         "7.0",
         "1.8333333333333333",
         "9.0",
         "2427.1040000000003"
        ],
        [
         "9",
         "CVANON0055",
         "7.0",
         "6.0",
         "5.0",
         "4.0",
         "3.0",
         "52.25",
         "6.0",
         "7.5"
        ],
        [
         "10",
         "CVANON0261",
         "6.0",
         "5.0",
         "7.0",
         "5.0",
         "10.0",
         "16.0",
         "9.0",
         null
        ],
        [
         "11",
         "CVANON0011",
         "7.0",
         "6.0",
         "7.0",
         "5.0",
         "5.0",
         "0.0",
         "12.0",
         "830.5909999999998"
        ],
        [
         "12",
         "CVANON0255",
         "6.0",
         "4.0",
         "7.0",
         "3.0",
         "2.0",
         "15.25",
         "13.0",
         "1204.226"
        ],
        [
         "13",
         "CVANON0083",
         "7.0",
         "6.0",
         "7.0",
         "6.0",
         "5.0",
         "1.3333333333333335",
         "6.0",
         "55.0"
        ],
        [
         "14",
         "CVANON0243",
         "3.0",
         "2.0",
         "4.0",
         "5.0",
         "2.0",
         "0.0",
         "3.0",
         null
        ],
        [
         "15",
         "CVANON0313",
         "6.0",
         "5.0",
         "5.0",
         "4.0",
         "10.0",
         "19.833333333333336",
         "7.0",
         "257.69491525399997"
        ],
        [
         "16",
         "CVANON0299",
         "4.0",
         "3.0",
         "4.0",
         "2.0",
         "4.0",
         "8.5",
         "11.0",
         "307.5"
        ],
        [
         "17",
         "CVANON0319",
         "7.0",
         "6.0",
         "8.0",
         "5.0",
         "10.0",
         "0.0",
         "11.0",
         "76.38983050799999"
        ],
        [
         "18",
         "CVANON0306",
         "7.0",
         "5.0",
         "6.0",
         "3.0",
         "0.0",
         "20.0",
         "7.0",
         "978.5"
        ],
        [
         "19",
         "CVANON0120",
         "8.0",
         "7.0",
         "9.0",
         "5.0",
         "22.0",
         "2.3333333333333335",
         "17.0",
         "1454.4879999999998"
        ],
        [
         "20",
         "CVANON0245",
         "7.0",
         "6.0",
         "5.0",
         "3.0",
         "22.0",
         "2.5833333333333335",
         "11.0",
         "1437.7999999999997"
        ],
        [
         "21",
         "CVANON0305",
         "8.0",
         "7.0",
         "8.0",
         "5.0",
         "5.0",
         "38.166666666666664",
         "14.0",
         "23.0"
        ],
        [
         "22",
         "CVANON0128",
         "6.0",
         "5.0",
         "7.0",
         "5.0",
         "0.0",
         "7.666666666666667",
         "5.0",
         "1349.9599999999994"
        ],
        [
         "23",
         "CVANON0225",
         "7.0",
         "5.0",
         "6.0",
         "5.0",
         "0.0",
         "43.0",
         "0.0",
         "2331.9419999999996"
        ],
        [
         "24",
         "CVANON0265",
         "6.0",
         "5.0",
         "7.0",
         "5.0",
         "5.0",
         "36.0",
         "19.0",
         "75.29999999999993"
        ],
        [
         "25",
         "CVANON0023",
         "6.0",
         "5.0",
         "5.0",
         "4.0",
         "0.0",
         "5.916666666666666",
         "12.0",
         "40.0"
        ],
        [
         "26",
         "CVANON0326",
         "7.0",
         "5.0",
         "6.0",
         "2.0",
         "6.0",
         "23.416666666666668",
         "9.0",
         null
        ],
        [
         "27",
         "CVANON0203",
         "3.0",
         "2.0",
         "2.0",
         "1.0",
         "8.0",
         "0.0",
         "0.0",
         "489.4"
        ],
        [
         "28",
         "CVANON0295",
         "7.0",
         "6.0",
         "8.0",
         "5.0",
         "8.0",
         "5.166666666666667",
         "11.0",
         "239.0"
        ],
        [
         "29",
         "CVANON0212",
         "7.0",
         "6.0",
         "7.0",
         "5.0",
         "24.0",
         "6.666666666666667",
         "15.0",
         "3427.800000000002"
        ],
        [
         "30",
         "CVANON0133",
         "6.0",
         "5.0",
         "4.0",
         "3.0",
         "6.0",
         "82.16666666666667",
         "12.0",
         null
        ],
        [
         "31",
         "CVANON0286",
         "7.0",
         "6.0",
         "5.0",
         "4.0",
         "8.0",
         "1.0833333333333333",
         "4.0",
         "307.0"
        ],
        [
         "32",
         "CVANON0074",
         "6.0",
         "5.0",
         "6.0",
         "3.0",
         "11.0",
         "23.0",
         "10.0",
         "1172.0279999999998"
        ],
        [
         "33",
         "CVANON0137",
         "1.0",
         "1.0",
         "1.0",
         "1.0",
         "0.0",
         "0.0",
         "0.0",
         "1913.3149999999991"
        ],
        [
         "34",
         "CVANON0208",
         "7.0",
         "5.0",
         "6.0",
         "2.0",
         "12.0",
         "7.25",
         "12.0",
         "3983.699999999999"
        ],
        [
         "35",
         "CVANON0291",
         "6.0",
         "5.0",
         "7.0",
         "3.0",
         "5.0",
         "31.666666666666668",
         "5.0",
         null
        ],
        [
         "36",
         "CVANON0037",
         "6.0",
         "5.0",
         "7.0",
         "3.0",
         "3.0",
         "0.0",
         "16.0",
         "3.9"
        ],
        [
         "37",
         "CVANON0029",
         "6.0",
         "5.0",
         "4.0",
         "2.0",
         "7.0",
         "57.0",
         "12.0",
         "1.0"
        ],
        [
         "38",
         "CVANON0324",
         "8.0",
         "6.0",
         "7.0",
         "5.0",
         "36.0",
         "53.66666666666667",
         "11.0",
         "95.38983050799999"
        ],
        [
         "39",
         "CVANON0114",
         "7.0",
         "5.0",
         "6.0",
         "3.0",
         "21.0",
         "8.416666666666666",
         "8.0",
         null
        ],
        [
         "40",
         "CVANON0079",
         "7.0",
         "6.0",
         "8.0",
         "3.0",
         "16.0",
         "19.0",
         "12.0",
         null
        ],
        [
         "41",
         "CVANON0116",
         "7.0",
         "6.0",
         "6.0",
         "3.0",
         "5.0",
         "25.0",
         "3.0",
         "1327.5"
        ],
        [
         "42",
         "CVANON0012",
         "7.0",
         "6.0",
         "7.0",
         "5.0",
         "9.0",
         "9.666666666666668",
         "9.0",
         "1217.0"
        ],
        [
         "43",
         "CVANON0041",
         "5.0",
         "4.0",
         "6.0",
         "3.0",
         "1.0",
         "1.0",
         "0.0",
         null
        ],
        [
         "44",
         "CVANON0003",
         "5.0",
         "4.0",
         "4.0",
         "3.0",
         "14.0",
         "118.08333333333333",
         "7.0",
         null
        ],
        [
         "45",
         "CVANON0039",
         "7.0",
         "6.0",
         "7.0",
         "4.0",
         "2.0",
         "45.33333333333333",
         "10.0",
         "2927.4440000000045"
        ],
        [
         "46",
         "CVANON0005",
         "7.0",
         "5.0",
         "6.0",
         "5.0",
         "25.0",
         "26.583333333333332",
         "8.0",
         "1373.1600000000003"
        ],
        [
         "47",
         "CVANON0309",
         "3.0",
         "5.0",
         "4.0",
         "4.0",
         "2.0",
         "0.0",
         "10.0",
         "128.0"
        ],
        [
         "48",
         "CVANON0081",
         "6.0",
         "5.0",
         "6.0",
         "3.0",
         "8.0",
         "8.583333333333334",
         "20.0",
         "2608.749999999998"
        ],
        [
         "49",
         "CVANON0284",
         "8.0",
         "7.0",
         "8.0",
         "5.0",
         "5.0",
         "50.666666666666664",
         "8.0",
         null
        ]
       ],
       "shape": {
        "columns": 9,
        "rows": 289
       }
      },
      "text/html": [
       "<div>\n",
       "<style scoped>\n",
       "    .dataframe tbody tr th:only-of-type {\n",
       "        vertical-align: middle;\n",
       "    }\n",
       "\n",
       "    .dataframe tbody tr th {\n",
       "        vertical-align: top;\n",
       "    }\n",
       "\n",
       "    .dataframe thead th {\n",
       "        text-align: right;\n",
       "    }\n",
       "</style>\n",
       "<table border=\"1\" class=\"dataframe\">\n",
       "  <thead>\n",
       "    <tr style=\"text-align: right;\">\n",
       "      <th></th>\n",
       "      <th>id</th>\n",
       "      <th>professionality</th>\n",
       "      <th>visual</th>\n",
       "      <th>grammar</th>\n",
       "      <th>ai_likelihood</th>\n",
       "      <th>education</th>\n",
       "      <th>experience</th>\n",
       "      <th>languages</th>\n",
       "      <th>points_9m</th>\n",
       "    </tr>\n",
       "  </thead>\n",
       "  <tbody>\n",
       "    <tr>\n",
       "      <th>0</th>\n",
       "      <td>CVANON0002</td>\n",
       "      <td>4.0</td>\n",
       "      <td>3.0</td>\n",
       "      <td>5.0</td>\n",
       "      <td>3.0</td>\n",
       "      <td>4.0</td>\n",
       "      <td>9.833333</td>\n",
       "      <td>8.0</td>\n",
       "      <td>3617.798</td>\n",
       "    </tr>\n",
       "    <tr>\n",
       "      <th>1</th>\n",
       "      <td>CVANON0247</td>\n",
       "      <td>7.0</td>\n",
       "      <td>6.0</td>\n",
       "      <td>8.0</td>\n",
       "      <td>4.0</td>\n",
       "      <td>12.0</td>\n",
       "      <td>3.083333</td>\n",
       "      <td>10.0</td>\n",
       "      <td>1271.650</td>\n",
       "    </tr>\n",
       "    <tr>\n",
       "      <th>2</th>\n",
       "      <td>CVANON0009</td>\n",
       "      <td>7.0</td>\n",
       "      <td>6.0</td>\n",
       "      <td>6.0</td>\n",
       "      <td>5.0</td>\n",
       "      <td>15.0</td>\n",
       "      <td>4.166667</td>\n",
       "      <td>11.0</td>\n",
       "      <td>2569.874</td>\n",
       "    </tr>\n",
       "    <tr>\n",
       "      <th>3</th>\n",
       "      <td>CVANON0238</td>\n",
       "      <td>7.0</td>\n",
       "      <td>6.0</td>\n",
       "      <td>5.0</td>\n",
       "      <td>4.0</td>\n",
       "      <td>24.0</td>\n",
       "      <td>10.500000</td>\n",
       "      <td>0.0</td>\n",
       "      <td>685.200</td>\n",
       "    </tr>\n",
       "    <tr>\n",
       "      <th>4</th>\n",
       "      <td>CVANON0269</td>\n",
       "      <td>7.0</td>\n",
       "      <td>6.0</td>\n",
       "      <td>8.0</td>\n",
       "      <td>3.0</td>\n",
       "      <td>12.0</td>\n",
       "      <td>8.000000</td>\n",
       "      <td>13.0</td>\n",
       "      <td>652.800</td>\n",
       "    </tr>\n",
       "    <tr>\n",
       "      <th>...</th>\n",
       "      <td>...</td>\n",
       "      <td>...</td>\n",
       "      <td>...</td>\n",
       "      <td>...</td>\n",
       "      <td>...</td>\n",
       "      <td>...</td>\n",
       "      <td>...</td>\n",
       "      <td>...</td>\n",
       "      <td>...</td>\n",
       "    </tr>\n",
       "    <tr>\n",
       "      <th>284</th>\n",
       "      <td>CVANON0318</td>\n",
       "      <td>5.0</td>\n",
       "      <td>4.0</td>\n",
       "      <td>3.0</td>\n",
       "      <td>6.0</td>\n",
       "      <td>6.0</td>\n",
       "      <td>13.916667</td>\n",
       "      <td>8.0</td>\n",
       "      <td>164.000</td>\n",
       "    </tr>\n",
       "    <tr>\n",
       "      <th>285</th>\n",
       "      <td>CVANON0210</td>\n",
       "      <td>8.0</td>\n",
       "      <td>7.0</td>\n",
       "      <td>6.0</td>\n",
       "      <td>5.0</td>\n",
       "      <td>7.0</td>\n",
       "      <td>284.000000</td>\n",
       "      <td>18.0</td>\n",
       "      <td>2292.700</td>\n",
       "    </tr>\n",
       "    <tr>\n",
       "      <th>286</th>\n",
       "      <td>CVANON0206</td>\n",
       "      <td>7.0</td>\n",
       "      <td>6.0</td>\n",
       "      <td>8.0</td>\n",
       "      <td>3.0</td>\n",
       "      <td>13.0</td>\n",
       "      <td>25.583333</td>\n",
       "      <td>17.0</td>\n",
       "      <td>82.500</td>\n",
       "    </tr>\n",
       "    <tr>\n",
       "      <th>287</th>\n",
       "      <td>CVANON0185</td>\n",
       "      <td>7.0</td>\n",
       "      <td>6.0</td>\n",
       "      <td>6.0</td>\n",
       "      <td>5.0</td>\n",
       "      <td>10.0</td>\n",
       "      <td>11.666667</td>\n",
       "      <td>3.0</td>\n",
       "      <td>130.500</td>\n",
       "    </tr>\n",
       "    <tr>\n",
       "      <th>288</th>\n",
       "      <td>CVANON0119</td>\n",
       "      <td>6.0</td>\n",
       "      <td>5.0</td>\n",
       "      <td>8.0</td>\n",
       "      <td>4.0</td>\n",
       "      <td>22.0</td>\n",
       "      <td>74.500000</td>\n",
       "      <td>16.0</td>\n",
       "      <td>NaN</td>\n",
       "    </tr>\n",
       "  </tbody>\n",
       "</table>\n",
       "<p>289 rows × 9 columns</p>\n",
       "</div>"
      ],
      "text/plain": [
       "             id  professionality  visual  grammar  ai_likelihood  education  \\\n",
       "0    CVANON0002              4.0     3.0      5.0            3.0        4.0   \n",
       "1    CVANON0247              7.0     6.0      8.0            4.0       12.0   \n",
       "2    CVANON0009              7.0     6.0      6.0            5.0       15.0   \n",
       "3    CVANON0238              7.0     6.0      5.0            4.0       24.0   \n",
       "4    CVANON0269              7.0     6.0      8.0            3.0       12.0   \n",
       "..          ...              ...     ...      ...            ...        ...   \n",
       "284  CVANON0318              5.0     4.0      3.0            6.0        6.0   \n",
       "285  CVANON0210              8.0     7.0      6.0            5.0        7.0   \n",
       "286  CVANON0206              7.0     6.0      8.0            3.0       13.0   \n",
       "287  CVANON0185              7.0     6.0      6.0            5.0       10.0   \n",
       "288  CVANON0119              6.0     5.0      8.0            4.0       22.0   \n",
       "\n",
       "     experience  languages  points_9m  \n",
       "0      9.833333        8.0   3617.798  \n",
       "1      3.083333       10.0   1271.650  \n",
       "2      4.166667       11.0   2569.874  \n",
       "3     10.500000        0.0    685.200  \n",
       "4      8.000000       13.0    652.800  \n",
       "..          ...        ...        ...  \n",
       "284   13.916667        8.0    164.000  \n",
       "285  284.000000       18.0   2292.700  \n",
       "286   25.583333       17.0     82.500  \n",
       "287   11.666667        3.0    130.500  \n",
       "288   74.500000       16.0        NaN  \n",
       "\n",
       "[289 rows x 9 columns]"
      ]
     },
     "execution_count": 22,
     "metadata": {},
     "output_type": "execute_result"
    }
   ],
   "source": [
    "df_train = cvs_train.merge(scores, on=\"id\", how=\"inner\")\n",
    "df_train"
   ]
  },
  {
   "cell_type": "code",
   "execution_count": 23,
   "id": "6dbed0df",
   "metadata": {},
   "outputs": [
    {
     "data": {
      "application/vnd.microsoft.datawrangler.viewer.v0+json": {
       "columns": [
        {
         "name": "index",
         "rawType": "int64",
         "type": "integer"
        },
        {
         "name": "id",
         "rawType": "object",
         "type": "string"
        },
        {
         "name": "professionality",
         "rawType": "float64",
         "type": "float"
        },
        {
         "name": "visual",
         "rawType": "float64",
         "type": "float"
        },
        {
         "name": "grammar",
         "rawType": "float64",
         "type": "float"
        },
        {
         "name": "ai_likelihood",
         "rawType": "float64",
         "type": "float"
        },
        {
         "name": "education",
         "rawType": "float64",
         "type": "float"
        },
        {
         "name": "experience",
         "rawType": "float64",
         "type": "float"
        },
        {
         "name": "languages",
         "rawType": "float64",
         "type": "float"
        }
       ],
       "conversionMethod": "pd.DataFrame",
       "ref": "d01d9390-8e6c-431d-aac0-33c3bf96f43a",
       "rows": [
        [
         "0",
         "CVANON0002",
         "3.0",
         "4.0",
         "5.0",
         "1.0",
         "5.0",
         "0.0",
         "10.0"
        ],
        [
         "1",
         "CVANON0009",
         "3.0",
         "4.0",
         "6.0",
         "2.0",
         "10.0",
         "0.0",
         "10.0"
        ],
        [
         "2",
         "CVANON0033",
         "6.0",
         "5.0",
         "8.0",
         "3.0",
         "8.0",
         "5.0",
         "10.0"
        ],
        [
         "3",
         "CVANON0010",
         "6.0",
         "5.0",
         "6.0",
         "5.0",
         "10.0",
         "0.3333333333333333",
         "6.0"
        ],
        [
         "4",
         "CVANON0015",
         "3.0",
         "4.0",
         "3.0",
         "6.0",
         "3.0",
         "0.0",
         "8.0"
        ],
        [
         "5",
         "CVANON0007",
         "5.0",
         "5.0",
         "6.0",
         "2.0",
         "10.0",
         "0.0",
         "12.0"
        ],
        [
         "6",
         "CVANON0055",
         "8.0",
         "7.0",
         "7.0",
         "5.0",
         "34.0",
         "24.0",
         "15.0"
        ],
        [
         "7",
         "CVANON0011",
         "7.0",
         "6.0",
         "4.0",
         "4.0",
         "3.0",
         "49.83333333333333",
         "11.0"
        ],
        [
         "8",
         "CVANON0023",
         "6.0",
         "5.0",
         "5.0",
         "3.0",
         "10.0",
         "18.583333333333332",
         "10.0"
        ],
        [
         "9",
         "CVANON0074",
         "3.0",
         "2.0",
         "5.0",
         "4.0",
         "20.0",
         "0.0",
         "7.0"
        ],
        [
         "10",
         "CVANON0037",
         "5.0",
         "3.0",
         "6.0",
         "2.0",
         "3.0",
         "6.666666666666667",
         "8.0"
        ],
        [
         "11",
         "CVANON0029",
         "6.0",
         "5.0",
         "4.0",
         "3.0",
         "13.0",
         "19.0",
         "5.0"
        ],
        [
         "12",
         "CVANON0079",
         "7.0",
         "6.0",
         "5.0",
         "5.0",
         "5.0",
         "4.583333333333334",
         "9.0"
        ],
        [
         "13",
         "CVANON0012",
         "7.0",
         "5.0",
         "6.0",
         "4.0",
         "11.0",
         "4.416666666666667",
         "11.0"
        ],
        [
         "14",
         "CVANON0041",
         "6.0",
         "5.0",
         "4.0",
         "2.0",
         "4.0",
         "48.5",
         "11.0"
        ],
        [
         "15",
         "CVANON0003",
         "6.0",
         "5.0",
         "5.0",
         "3.0",
         "1.0",
         "10.083333333333332",
         "5.0"
        ],
        [
         "16",
         "CVANON0039",
         "7.0",
         "6.0",
         "6.0",
         "3.0",
         "9.0",
         "19.333333333333332",
         "10.0"
        ],
        [
         "17",
         "CVANON0005",
         "6.0",
         "5.0",
         "4.0",
         "3.0",
         "16.0",
         "1.8333333333333333",
         "12.0"
        ],
        [
         "18",
         "CVANON0080",
         "8.0",
         "7.0",
         "8.0",
         "3.0",
         "11.0",
         "15.5",
         "8.0"
        ],
        [
         "19",
         "CVANON0006",
         "6.0",
         "5.0",
         "4.0",
         "3.0",
         "7.0",
         "1.0833333333333333",
         "10.0"
        ],
        [
         "20",
         "CVANON0047",
         "8.0",
         "6.0",
         "7.0",
         "5.0",
         "37.0",
         "26.833333333333332",
         "10.0"
        ],
        [
         "21",
         "CVANON0013",
         "7.0",
         "6.0",
         "5.0",
         "4.0",
         "5.0",
         "31.5",
         "16.0"
        ],
        [
         "22",
         "CVANON0032",
         "7.0",
         "6.0",
         "5.0",
         "4.0",
         "8.0",
         "6.75",
         "8.0"
        ],
        [
         "23",
         "CVANON0058",
         "7.0",
         "6.0",
         "7.0",
         "4.0",
         "3.0",
         "19.583333333333332",
         "15.0"
        ],
        [
         "24",
         "CVANON0064",
         "7.0",
         "6.0",
         "5.0",
         "4.0",
         "6.0",
         "15.666666666666666",
         "10.0"
        ],
        [
         "25",
         "CVANON0060",
         "7.0",
         "6.0",
         "6.0",
         "5.0",
         "15.0",
         "20.25",
         "13.0"
        ],
        [
         "26",
         "CVANON0028",
         "7.0",
         "6.0",
         "8.0",
         "5.0",
         "6.0",
         "9.833333333333332",
         "8.0"
        ],
        [
         "27",
         "CVANON0036",
         "7.0",
         "6.0",
         "5.0",
         "3.0",
         "5.0",
         "1.0",
         "10.0"
        ],
        [
         "28",
         "CVANON0042",
         "7.0",
         "5.0",
         "4.0",
         "5.0",
         "16.0",
         "36.33333333333333",
         "10.0"
        ],
        [
         "29",
         "CVANON0024",
         "6.0",
         "5.0",
         "4.0",
         "3.0",
         "15.0",
         "11.5",
         "13.0"
        ],
        [
         "30",
         "CVANON0038",
         "8.0",
         "7.0",
         "7.0",
         "4.0",
         "50.0",
         "16.0",
         "13.0"
        ],
        [
         "31",
         "CVANON0040",
         "7.0",
         "6.0",
         "5.0",
         "3.0",
         "2.0",
         "76.5",
         "11.0"
        ],
        [
         "32",
         "CVANON0050",
         "6.0",
         "5.0",
         "6.0",
         "3.0",
         "0.0",
         "16.833333333333332",
         "6.0"
        ],
        [
         "33",
         "CVANON0057",
         "7.0",
         "6.0",
         "6.0",
         "5.0",
         "23.0",
         "13.75",
         "7.0"
        ],
        [
         "34",
         "CVANON0067",
         "6.0",
         "5.0",
         "7.0",
         "4.0",
         "3.0",
         "6.166666666666667",
         "5.0"
        ],
        [
         "35",
         "CVANON0034",
         "5.0",
         "4.0",
         "4.0",
         "3.0",
         "5.0",
         "0.0",
         "12.0"
        ],
        [
         "36",
         "CVANON0061",
         "7.0",
         "6.0",
         "6.0",
         "4.0",
         "19.0",
         "13.333333333333334",
         "12.0"
        ],
        [
         "37",
         "CVANON0046",
         "7.0",
         "6.0",
         "7.0",
         "4.0",
         "8.0",
         "10.916666666666668",
         "16.0"
        ],
        [
         "38",
         "CVANON0043",
         "6.0",
         "5.0",
         "4.0",
         "3.0",
         "5.0",
         "8.916666666666666",
         "12.0"
        ],
        [
         "39",
         "CVANON0035",
         "8.0",
         "7.0",
         "6.0",
         "5.0",
         "32.0",
         "9.5",
         "10.0"
        ],
        [
         "40",
         "CVANON0026",
         "7.0",
         "6.0",
         "8.0",
         "5.0",
         "6.0",
         "2.833333333333333",
         "13.0"
        ],
        [
         "41",
         "CVANON0022",
         "7.0",
         "6.0",
         "5.0",
         "5.0",
         "19.0",
         "5.583333333333334",
         "15.0"
        ],
        [
         "42",
         "CVANON0045",
         "7.0",
         "6.0",
         "5.0",
         "6.0",
         "13.0",
         "38.166666666666664",
         "2.0"
        ],
        [
         "43",
         "CVANON0075",
         "7.0",
         "6.0",
         "5.0",
         "3.0",
         "16.0",
         "34.5",
         "11.0"
        ],
        [
         "44",
         "CVANON0016",
         "7.0",
         "6.0",
         "5.0",
         "4.0",
         "10.0",
         "8.416666666666666",
         "8.0"
        ],
        [
         "45",
         "CVANON0069",
         "8.0",
         "6.0",
         "8.0",
         "2.0",
         "5.0",
         "6.333333333333333",
         "8.0"
        ],
        [
         "46",
         "CVANON0021",
         "7.0",
         "6.0",
         "7.0",
         "5.0",
         "37.0",
         "10.916666666666668",
         "9.0"
        ],
        [
         "47",
         "CVANON0062",
         "5.0",
         "4.0",
         "6.0",
         "3.0",
         "8.0",
         "0.5",
         "10.0"
        ],
        [
         "48",
         "CVANON0066",
         "7.0",
         "6.0",
         "5.0",
         "4.0",
         "10.0",
         "2.5",
         "10.0"
        ],
        [
         "49",
         "CVANON0044",
         "7.0",
         "5.0",
         "6.0",
         "4.0",
         "12.0",
         "11.333333333333334",
         "14.0"
        ]
       ],
       "shape": {
        "columns": 8,
        "rows": 81
       }
      },
      "text/html": [
       "<div>\n",
       "<style scoped>\n",
       "    .dataframe tbody tr th:only-of-type {\n",
       "        vertical-align: middle;\n",
       "    }\n",
       "\n",
       "    .dataframe tbody tr th {\n",
       "        vertical-align: top;\n",
       "    }\n",
       "\n",
       "    .dataframe thead th {\n",
       "        text-align: right;\n",
       "    }\n",
       "</style>\n",
       "<table border=\"1\" class=\"dataframe\">\n",
       "  <thead>\n",
       "    <tr style=\"text-align: right;\">\n",
       "      <th></th>\n",
       "      <th>id</th>\n",
       "      <th>professionality</th>\n",
       "      <th>visual</th>\n",
       "      <th>grammar</th>\n",
       "      <th>ai_likelihood</th>\n",
       "      <th>education</th>\n",
       "      <th>experience</th>\n",
       "      <th>languages</th>\n",
       "    </tr>\n",
       "  </thead>\n",
       "  <tbody>\n",
       "    <tr>\n",
       "      <th>0</th>\n",
       "      <td>CVANON0002</td>\n",
       "      <td>3.0</td>\n",
       "      <td>4.0</td>\n",
       "      <td>5.0</td>\n",
       "      <td>1.0</td>\n",
       "      <td>5.0</td>\n",
       "      <td>0.000000</td>\n",
       "      <td>10.0</td>\n",
       "    </tr>\n",
       "    <tr>\n",
       "      <th>1</th>\n",
       "      <td>CVANON0009</td>\n",
       "      <td>3.0</td>\n",
       "      <td>4.0</td>\n",
       "      <td>6.0</td>\n",
       "      <td>2.0</td>\n",
       "      <td>10.0</td>\n",
       "      <td>0.000000</td>\n",
       "      <td>10.0</td>\n",
       "    </tr>\n",
       "    <tr>\n",
       "      <th>2</th>\n",
       "      <td>CVANON0033</td>\n",
       "      <td>6.0</td>\n",
       "      <td>5.0</td>\n",
       "      <td>8.0</td>\n",
       "      <td>3.0</td>\n",
       "      <td>8.0</td>\n",
       "      <td>5.000000</td>\n",
       "      <td>10.0</td>\n",
       "    </tr>\n",
       "    <tr>\n",
       "      <th>3</th>\n",
       "      <td>CVANON0010</td>\n",
       "      <td>6.0</td>\n",
       "      <td>5.0</td>\n",
       "      <td>6.0</td>\n",
       "      <td>5.0</td>\n",
       "      <td>10.0</td>\n",
       "      <td>0.333333</td>\n",
       "      <td>6.0</td>\n",
       "    </tr>\n",
       "    <tr>\n",
       "      <th>4</th>\n",
       "      <td>CVANON0015</td>\n",
       "      <td>3.0</td>\n",
       "      <td>4.0</td>\n",
       "      <td>3.0</td>\n",
       "      <td>6.0</td>\n",
       "      <td>3.0</td>\n",
       "      <td>0.000000</td>\n",
       "      <td>8.0</td>\n",
       "    </tr>\n",
       "    <tr>\n",
       "      <th>...</th>\n",
       "      <td>...</td>\n",
       "      <td>...</td>\n",
       "      <td>...</td>\n",
       "      <td>...</td>\n",
       "      <td>...</td>\n",
       "      <td>...</td>\n",
       "      <td>...</td>\n",
       "      <td>...</td>\n",
       "    </tr>\n",
       "    <tr>\n",
       "      <th>76</th>\n",
       "      <td>CVANON0018</td>\n",
       "      <td>8.0</td>\n",
       "      <td>6.0</td>\n",
       "      <td>7.0</td>\n",
       "      <td>4.0</td>\n",
       "      <td>25.0</td>\n",
       "      <td>31.416667</td>\n",
       "      <td>13.0</td>\n",
       "    </tr>\n",
       "    <tr>\n",
       "      <th>77</th>\n",
       "      <td>CVANON0019</td>\n",
       "      <td>6.0</td>\n",
       "      <td>5.0</td>\n",
       "      <td>4.0</td>\n",
       "      <td>3.0</td>\n",
       "      <td>13.0</td>\n",
       "      <td>22.083333</td>\n",
       "      <td>9.0</td>\n",
       "    </tr>\n",
       "    <tr>\n",
       "      <th>78</th>\n",
       "      <td>CVANON0070</td>\n",
       "      <td>6.0</td>\n",
       "      <td>5.0</td>\n",
       "      <td>5.0</td>\n",
       "      <td>4.0</td>\n",
       "      <td>5.0</td>\n",
       "      <td>5.333333</td>\n",
       "      <td>8.0</td>\n",
       "    </tr>\n",
       "    <tr>\n",
       "      <th>79</th>\n",
       "      <td>CVANON0017</td>\n",
       "      <td>7.0</td>\n",
       "      <td>5.0</td>\n",
       "      <td>4.0</td>\n",
       "      <td>3.0</td>\n",
       "      <td>11.0</td>\n",
       "      <td>23.583333</td>\n",
       "      <td>12.0</td>\n",
       "    </tr>\n",
       "    <tr>\n",
       "      <th>80</th>\n",
       "      <td>CVANON0059</td>\n",
       "      <td>7.0</td>\n",
       "      <td>5.0</td>\n",
       "      <td>6.0</td>\n",
       "      <td>4.0</td>\n",
       "      <td>5.0</td>\n",
       "      <td>9.500000</td>\n",
       "      <td>9.0</td>\n",
       "    </tr>\n",
       "  </tbody>\n",
       "</table>\n",
       "<p>81 rows × 8 columns</p>\n",
       "</div>"
      ],
      "text/plain": [
       "            id  professionality  visual  grammar  ai_likelihood  education  \\\n",
       "0   CVANON0002              3.0     4.0      5.0            1.0        5.0   \n",
       "1   CVANON0009              3.0     4.0      6.0            2.0       10.0   \n",
       "2   CVANON0033              6.0     5.0      8.0            3.0        8.0   \n",
       "3   CVANON0010              6.0     5.0      6.0            5.0       10.0   \n",
       "4   CVANON0015              3.0     4.0      3.0            6.0        3.0   \n",
       "..         ...              ...     ...      ...            ...        ...   \n",
       "76  CVANON0018              8.0     6.0      7.0            4.0       25.0   \n",
       "77  CVANON0019              6.0     5.0      4.0            3.0       13.0   \n",
       "78  CVANON0070              6.0     5.0      5.0            4.0        5.0   \n",
       "79  CVANON0017              7.0     5.0      4.0            3.0       11.0   \n",
       "80  CVANON0059              7.0     5.0      6.0            4.0        5.0   \n",
       "\n",
       "    experience  languages  \n",
       "0     0.000000       10.0  \n",
       "1     0.000000       10.0  \n",
       "2     5.000000       10.0  \n",
       "3     0.333333        6.0  \n",
       "4     0.000000        8.0  \n",
       "..         ...        ...  \n",
       "76   31.416667       13.0  \n",
       "77   22.083333        9.0  \n",
       "78    5.333333        8.0  \n",
       "79   23.583333       12.0  \n",
       "80    9.500000        9.0  \n",
       "\n",
       "[81 rows x 8 columns]"
      ]
     },
     "execution_count": 23,
     "metadata": {},
     "output_type": "execute_result"
    }
   ],
   "source": [
    "df_predict = process_cvs_df(df=cvs_predict, mapping=mapping, formulas=formulas)\n",
    "df_predict"
   ]
  },
  {
   "cell_type": "markdown",
   "id": "932081fd",
   "metadata": {},
   "source": [
    "# Export results"
   ]
  },
  {
   "cell_type": "code",
   "execution_count": 24,
   "id": "5515dd6c",
   "metadata": {},
   "outputs": [],
   "source": [
    "df_train.to_parquet(\"data/df_train.parquet\")\n",
    "df_predict.to_parquet(\"data/df_predict.parquet\")"
   ]
  },
  {
   "cell_type": "code",
   "execution_count": null,
   "id": "57b4f656",
   "metadata": {},
   "outputs": [],
   "source": []
  }
 ],
 "metadata": {
  "kernelspec": {
   "display_name": ".venv",
   "language": "python",
   "name": "python3"
  },
  "language_info": {
   "codemirror_mode": {
    "name": "ipython",
    "version": 3
   },
   "file_extension": ".py",
   "mimetype": "text/x-python",
   "name": "python",
   "nbconvert_exporter": "python",
   "pygments_lexer": "ipython3",
   "version": "3.10.17"
  }
 },
 "nbformat": 4,
 "nbformat_minor": 5
}
