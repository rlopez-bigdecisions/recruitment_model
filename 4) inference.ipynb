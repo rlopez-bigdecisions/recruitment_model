{
 "cells": [
  {
   "cell_type": "code",
   "execution_count": 20,
   "id": "2bc125f8",
   "metadata": {},
   "outputs": [],
   "source": [
    "import pandas as pd\n",
    "import pickle"
   ]
  },
  {
   "cell_type": "code",
   "execution_count": 21,
   "id": "9a805952",
   "metadata": {},
   "outputs": [
    {
     "data": {
      "text/html": [
       "<style>#sk-container-id-3 {\n",
       "  /* Definition of color scheme common for light and dark mode */\n",
       "  --sklearn-color-text: #000;\n",
       "  --sklearn-color-text-muted: #666;\n",
       "  --sklearn-color-line: gray;\n",
       "  /* Definition of color scheme for unfitted estimators */\n",
       "  --sklearn-color-unfitted-level-0: #fff5e6;\n",
       "  --sklearn-color-unfitted-level-1: #f6e4d2;\n",
       "  --sklearn-color-unfitted-level-2: #ffe0b3;\n",
       "  --sklearn-color-unfitted-level-3: chocolate;\n",
       "  /* Definition of color scheme for fitted estimators */\n",
       "  --sklearn-color-fitted-level-0: #f0f8ff;\n",
       "  --sklearn-color-fitted-level-1: #d4ebff;\n",
       "  --sklearn-color-fitted-level-2: #b3dbfd;\n",
       "  --sklearn-color-fitted-level-3: cornflowerblue;\n",
       "\n",
       "  /* Specific color for light theme */\n",
       "  --sklearn-color-text-on-default-background: var(--sg-text-color, var(--theme-code-foreground, var(--jp-content-font-color1, black)));\n",
       "  --sklearn-color-background: var(--sg-background-color, var(--theme-background, var(--jp-layout-color0, white)));\n",
       "  --sklearn-color-border-box: var(--sg-text-color, var(--theme-code-foreground, var(--jp-content-font-color1, black)));\n",
       "  --sklearn-color-icon: #696969;\n",
       "\n",
       "  @media (prefers-color-scheme: dark) {\n",
       "    /* Redefinition of color scheme for dark theme */\n",
       "    --sklearn-color-text-on-default-background: var(--sg-text-color, var(--theme-code-foreground, var(--jp-content-font-color1, white)));\n",
       "    --sklearn-color-background: var(--sg-background-color, var(--theme-background, var(--jp-layout-color0, #111)));\n",
       "    --sklearn-color-border-box: var(--sg-text-color, var(--theme-code-foreground, var(--jp-content-font-color1, white)));\n",
       "    --sklearn-color-icon: #878787;\n",
       "  }\n",
       "}\n",
       "\n",
       "#sk-container-id-3 {\n",
       "  color: var(--sklearn-color-text);\n",
       "}\n",
       "\n",
       "#sk-container-id-3 pre {\n",
       "  padding: 0;\n",
       "}\n",
       "\n",
       "#sk-container-id-3 input.sk-hidden--visually {\n",
       "  border: 0;\n",
       "  clip: rect(1px 1px 1px 1px);\n",
       "  clip: rect(1px, 1px, 1px, 1px);\n",
       "  height: 1px;\n",
       "  margin: -1px;\n",
       "  overflow: hidden;\n",
       "  padding: 0;\n",
       "  position: absolute;\n",
       "  width: 1px;\n",
       "}\n",
       "\n",
       "#sk-container-id-3 div.sk-dashed-wrapped {\n",
       "  border: 1px dashed var(--sklearn-color-line);\n",
       "  margin: 0 0.4em 0.5em 0.4em;\n",
       "  box-sizing: border-box;\n",
       "  padding-bottom: 0.4em;\n",
       "  background-color: var(--sklearn-color-background);\n",
       "}\n",
       "\n",
       "#sk-container-id-3 div.sk-container {\n",
       "  /* jupyter's `normalize.less` sets `[hidden] { display: none; }`\n",
       "     but bootstrap.min.css set `[hidden] { display: none !important; }`\n",
       "     so we also need the `!important` here to be able to override the\n",
       "     default hidden behavior on the sphinx rendered scikit-learn.org.\n",
       "     See: https://github.com/scikit-learn/scikit-learn/issues/21755 */\n",
       "  display: inline-block !important;\n",
       "  position: relative;\n",
       "}\n",
       "\n",
       "#sk-container-id-3 div.sk-text-repr-fallback {\n",
       "  display: none;\n",
       "}\n",
       "\n",
       "div.sk-parallel-item,\n",
       "div.sk-serial,\n",
       "div.sk-item {\n",
       "  /* draw centered vertical line to link estimators */\n",
       "  background-image: linear-gradient(var(--sklearn-color-text-on-default-background), var(--sklearn-color-text-on-default-background));\n",
       "  background-size: 2px 100%;\n",
       "  background-repeat: no-repeat;\n",
       "  background-position: center center;\n",
       "}\n",
       "\n",
       "/* Parallel-specific style estimator block */\n",
       "\n",
       "#sk-container-id-3 div.sk-parallel-item::after {\n",
       "  content: \"\";\n",
       "  width: 100%;\n",
       "  border-bottom: 2px solid var(--sklearn-color-text-on-default-background);\n",
       "  flex-grow: 1;\n",
       "}\n",
       "\n",
       "#sk-container-id-3 div.sk-parallel {\n",
       "  display: flex;\n",
       "  align-items: stretch;\n",
       "  justify-content: center;\n",
       "  background-color: var(--sklearn-color-background);\n",
       "  position: relative;\n",
       "}\n",
       "\n",
       "#sk-container-id-3 div.sk-parallel-item {\n",
       "  display: flex;\n",
       "  flex-direction: column;\n",
       "}\n",
       "\n",
       "#sk-container-id-3 div.sk-parallel-item:first-child::after {\n",
       "  align-self: flex-end;\n",
       "  width: 50%;\n",
       "}\n",
       "\n",
       "#sk-container-id-3 div.sk-parallel-item:last-child::after {\n",
       "  align-self: flex-start;\n",
       "  width: 50%;\n",
       "}\n",
       "\n",
       "#sk-container-id-3 div.sk-parallel-item:only-child::after {\n",
       "  width: 0;\n",
       "}\n",
       "\n",
       "/* Serial-specific style estimator block */\n",
       "\n",
       "#sk-container-id-3 div.sk-serial {\n",
       "  display: flex;\n",
       "  flex-direction: column;\n",
       "  align-items: center;\n",
       "  background-color: var(--sklearn-color-background);\n",
       "  padding-right: 1em;\n",
       "  padding-left: 1em;\n",
       "}\n",
       "\n",
       "\n",
       "/* Toggleable style: style used for estimator/Pipeline/ColumnTransformer box that is\n",
       "clickable and can be expanded/collapsed.\n",
       "- Pipeline and ColumnTransformer use this feature and define the default style\n",
       "- Estimators will overwrite some part of the style using the `sk-estimator` class\n",
       "*/\n",
       "\n",
       "/* Pipeline and ColumnTransformer style (default) */\n",
       "\n",
       "#sk-container-id-3 div.sk-toggleable {\n",
       "  /* Default theme specific background. It is overwritten whether we have a\n",
       "  specific estimator or a Pipeline/ColumnTransformer */\n",
       "  background-color: var(--sklearn-color-background);\n",
       "}\n",
       "\n",
       "/* Toggleable label */\n",
       "#sk-container-id-3 label.sk-toggleable__label {\n",
       "  cursor: pointer;\n",
       "  display: flex;\n",
       "  width: 100%;\n",
       "  margin-bottom: 0;\n",
       "  padding: 0.5em;\n",
       "  box-sizing: border-box;\n",
       "  text-align: center;\n",
       "  align-items: start;\n",
       "  justify-content: space-between;\n",
       "  gap: 0.5em;\n",
       "}\n",
       "\n",
       "#sk-container-id-3 label.sk-toggleable__label .caption {\n",
       "  font-size: 0.6rem;\n",
       "  font-weight: lighter;\n",
       "  color: var(--sklearn-color-text-muted);\n",
       "}\n",
       "\n",
       "#sk-container-id-3 label.sk-toggleable__label-arrow:before {\n",
       "  /* Arrow on the left of the label */\n",
       "  content: \"▸\";\n",
       "  float: left;\n",
       "  margin-right: 0.25em;\n",
       "  color: var(--sklearn-color-icon);\n",
       "}\n",
       "\n",
       "#sk-container-id-3 label.sk-toggleable__label-arrow:hover:before {\n",
       "  color: var(--sklearn-color-text);\n",
       "}\n",
       "\n",
       "/* Toggleable content - dropdown */\n",
       "\n",
       "#sk-container-id-3 div.sk-toggleable__content {\n",
       "  max-height: 0;\n",
       "  max-width: 0;\n",
       "  overflow: hidden;\n",
       "  text-align: left;\n",
       "  /* unfitted */\n",
       "  background-color: var(--sklearn-color-unfitted-level-0);\n",
       "}\n",
       "\n",
       "#sk-container-id-3 div.sk-toggleable__content.fitted {\n",
       "  /* fitted */\n",
       "  background-color: var(--sklearn-color-fitted-level-0);\n",
       "}\n",
       "\n",
       "#sk-container-id-3 div.sk-toggleable__content pre {\n",
       "  margin: 0.2em;\n",
       "  border-radius: 0.25em;\n",
       "  color: var(--sklearn-color-text);\n",
       "  /* unfitted */\n",
       "  background-color: var(--sklearn-color-unfitted-level-0);\n",
       "}\n",
       "\n",
       "#sk-container-id-3 div.sk-toggleable__content.fitted pre {\n",
       "  /* unfitted */\n",
       "  background-color: var(--sklearn-color-fitted-level-0);\n",
       "}\n",
       "\n",
       "#sk-container-id-3 input.sk-toggleable__control:checked~div.sk-toggleable__content {\n",
       "  /* Expand drop-down */\n",
       "  max-height: 200px;\n",
       "  max-width: 100%;\n",
       "  overflow: auto;\n",
       "}\n",
       "\n",
       "#sk-container-id-3 input.sk-toggleable__control:checked~label.sk-toggleable__label-arrow:before {\n",
       "  content: \"▾\";\n",
       "}\n",
       "\n",
       "/* Pipeline/ColumnTransformer-specific style */\n",
       "\n",
       "#sk-container-id-3 div.sk-label input.sk-toggleable__control:checked~label.sk-toggleable__label {\n",
       "  color: var(--sklearn-color-text);\n",
       "  background-color: var(--sklearn-color-unfitted-level-2);\n",
       "}\n",
       "\n",
       "#sk-container-id-3 div.sk-label.fitted input.sk-toggleable__control:checked~label.sk-toggleable__label {\n",
       "  background-color: var(--sklearn-color-fitted-level-2);\n",
       "}\n",
       "\n",
       "/* Estimator-specific style */\n",
       "\n",
       "/* Colorize estimator box */\n",
       "#sk-container-id-3 div.sk-estimator input.sk-toggleable__control:checked~label.sk-toggleable__label {\n",
       "  /* unfitted */\n",
       "  background-color: var(--sklearn-color-unfitted-level-2);\n",
       "}\n",
       "\n",
       "#sk-container-id-3 div.sk-estimator.fitted input.sk-toggleable__control:checked~label.sk-toggleable__label {\n",
       "  /* fitted */\n",
       "  background-color: var(--sklearn-color-fitted-level-2);\n",
       "}\n",
       "\n",
       "#sk-container-id-3 div.sk-label label.sk-toggleable__label,\n",
       "#sk-container-id-3 div.sk-label label {\n",
       "  /* The background is the default theme color */\n",
       "  color: var(--sklearn-color-text-on-default-background);\n",
       "}\n",
       "\n",
       "/* On hover, darken the color of the background */\n",
       "#sk-container-id-3 div.sk-label:hover label.sk-toggleable__label {\n",
       "  color: var(--sklearn-color-text);\n",
       "  background-color: var(--sklearn-color-unfitted-level-2);\n",
       "}\n",
       "\n",
       "/* Label box, darken color on hover, fitted */\n",
       "#sk-container-id-3 div.sk-label.fitted:hover label.sk-toggleable__label.fitted {\n",
       "  color: var(--sklearn-color-text);\n",
       "  background-color: var(--sklearn-color-fitted-level-2);\n",
       "}\n",
       "\n",
       "/* Estimator label */\n",
       "\n",
       "#sk-container-id-3 div.sk-label label {\n",
       "  font-family: monospace;\n",
       "  font-weight: bold;\n",
       "  display: inline-block;\n",
       "  line-height: 1.2em;\n",
       "}\n",
       "\n",
       "#sk-container-id-3 div.sk-label-container {\n",
       "  text-align: center;\n",
       "}\n",
       "\n",
       "/* Estimator-specific */\n",
       "#sk-container-id-3 div.sk-estimator {\n",
       "  font-family: monospace;\n",
       "  border: 1px dotted var(--sklearn-color-border-box);\n",
       "  border-radius: 0.25em;\n",
       "  box-sizing: border-box;\n",
       "  margin-bottom: 0.5em;\n",
       "  /* unfitted */\n",
       "  background-color: var(--sklearn-color-unfitted-level-0);\n",
       "}\n",
       "\n",
       "#sk-container-id-3 div.sk-estimator.fitted {\n",
       "  /* fitted */\n",
       "  background-color: var(--sklearn-color-fitted-level-0);\n",
       "}\n",
       "\n",
       "/* on hover */\n",
       "#sk-container-id-3 div.sk-estimator:hover {\n",
       "  /* unfitted */\n",
       "  background-color: var(--sklearn-color-unfitted-level-2);\n",
       "}\n",
       "\n",
       "#sk-container-id-3 div.sk-estimator.fitted:hover {\n",
       "  /* fitted */\n",
       "  background-color: var(--sklearn-color-fitted-level-2);\n",
       "}\n",
       "\n",
       "/* Specification for estimator info (e.g. \"i\" and \"?\") */\n",
       "\n",
       "/* Common style for \"i\" and \"?\" */\n",
       "\n",
       ".sk-estimator-doc-link,\n",
       "a:link.sk-estimator-doc-link,\n",
       "a:visited.sk-estimator-doc-link {\n",
       "  float: right;\n",
       "  font-size: smaller;\n",
       "  line-height: 1em;\n",
       "  font-family: monospace;\n",
       "  background-color: var(--sklearn-color-background);\n",
       "  border-radius: 1em;\n",
       "  height: 1em;\n",
       "  width: 1em;\n",
       "  text-decoration: none !important;\n",
       "  margin-left: 0.5em;\n",
       "  text-align: center;\n",
       "  /* unfitted */\n",
       "  border: var(--sklearn-color-unfitted-level-1) 1pt solid;\n",
       "  color: var(--sklearn-color-unfitted-level-1);\n",
       "}\n",
       "\n",
       ".sk-estimator-doc-link.fitted,\n",
       "a:link.sk-estimator-doc-link.fitted,\n",
       "a:visited.sk-estimator-doc-link.fitted {\n",
       "  /* fitted */\n",
       "  border: var(--sklearn-color-fitted-level-1) 1pt solid;\n",
       "  color: var(--sklearn-color-fitted-level-1);\n",
       "}\n",
       "\n",
       "/* On hover */\n",
       "div.sk-estimator:hover .sk-estimator-doc-link:hover,\n",
       ".sk-estimator-doc-link:hover,\n",
       "div.sk-label-container:hover .sk-estimator-doc-link:hover,\n",
       ".sk-estimator-doc-link:hover {\n",
       "  /* unfitted */\n",
       "  background-color: var(--sklearn-color-unfitted-level-3);\n",
       "  color: var(--sklearn-color-background);\n",
       "  text-decoration: none;\n",
       "}\n",
       "\n",
       "div.sk-estimator.fitted:hover .sk-estimator-doc-link.fitted:hover,\n",
       ".sk-estimator-doc-link.fitted:hover,\n",
       "div.sk-label-container:hover .sk-estimator-doc-link.fitted:hover,\n",
       ".sk-estimator-doc-link.fitted:hover {\n",
       "  /* fitted */\n",
       "  background-color: var(--sklearn-color-fitted-level-3);\n",
       "  color: var(--sklearn-color-background);\n",
       "  text-decoration: none;\n",
       "}\n",
       "\n",
       "/* Span, style for the box shown on hovering the info icon */\n",
       ".sk-estimator-doc-link span {\n",
       "  display: none;\n",
       "  z-index: 9999;\n",
       "  position: relative;\n",
       "  font-weight: normal;\n",
       "  right: .2ex;\n",
       "  padding: .5ex;\n",
       "  margin: .5ex;\n",
       "  width: min-content;\n",
       "  min-width: 20ex;\n",
       "  max-width: 50ex;\n",
       "  color: var(--sklearn-color-text);\n",
       "  box-shadow: 2pt 2pt 4pt #999;\n",
       "  /* unfitted */\n",
       "  background: var(--sklearn-color-unfitted-level-0);\n",
       "  border: .5pt solid var(--sklearn-color-unfitted-level-3);\n",
       "}\n",
       "\n",
       ".sk-estimator-doc-link.fitted span {\n",
       "  /* fitted */\n",
       "  background: var(--sklearn-color-fitted-level-0);\n",
       "  border: var(--sklearn-color-fitted-level-3);\n",
       "}\n",
       "\n",
       ".sk-estimator-doc-link:hover span {\n",
       "  display: block;\n",
       "}\n",
       "\n",
       "/* \"?\"-specific style due to the `<a>` HTML tag */\n",
       "\n",
       "#sk-container-id-3 a.estimator_doc_link {\n",
       "  float: right;\n",
       "  font-size: 1rem;\n",
       "  line-height: 1em;\n",
       "  font-family: monospace;\n",
       "  background-color: var(--sklearn-color-background);\n",
       "  border-radius: 1rem;\n",
       "  height: 1rem;\n",
       "  width: 1rem;\n",
       "  text-decoration: none;\n",
       "  /* unfitted */\n",
       "  color: var(--sklearn-color-unfitted-level-1);\n",
       "  border: var(--sklearn-color-unfitted-level-1) 1pt solid;\n",
       "}\n",
       "\n",
       "#sk-container-id-3 a.estimator_doc_link.fitted {\n",
       "  /* fitted */\n",
       "  border: var(--sklearn-color-fitted-level-1) 1pt solid;\n",
       "  color: var(--sklearn-color-fitted-level-1);\n",
       "}\n",
       "\n",
       "/* On hover */\n",
       "#sk-container-id-3 a.estimator_doc_link:hover {\n",
       "  /* unfitted */\n",
       "  background-color: var(--sklearn-color-unfitted-level-3);\n",
       "  color: var(--sklearn-color-background);\n",
       "  text-decoration: none;\n",
       "}\n",
       "\n",
       "#sk-container-id-3 a.estimator_doc_link.fitted:hover {\n",
       "  /* fitted */\n",
       "  background-color: var(--sklearn-color-fitted-level-3);\n",
       "}\n",
       "</style><div id=\"sk-container-id-3\" class=\"sk-top-container\"><div class=\"sk-text-repr-fallback\"><pre>RandomForestRegressor(criterion=&#x27;absolute_error&#x27;, max_depth=10,\n",
       "                      max_features=&#x27;sqrt&#x27;, min_samples_leaf=4, n_estimators=300,\n",
       "                      random_state=31415)</pre><b>In a Jupyter environment, please rerun this cell to show the HTML representation or trust the notebook. <br />On GitHub, the HTML representation is unable to render, please try loading this page with nbviewer.org.</b></div><div class=\"sk-container\" hidden><div class=\"sk-item\"><div class=\"sk-estimator fitted sk-toggleable\"><input class=\"sk-toggleable__control sk-hidden--visually\" id=\"sk-estimator-id-3\" type=\"checkbox\" checked><label for=\"sk-estimator-id-3\" class=\"sk-toggleable__label fitted sk-toggleable__label-arrow\"><div><div>RandomForestRegressor</div></div><div><a class=\"sk-estimator-doc-link fitted\" rel=\"noreferrer\" target=\"_blank\" href=\"https://scikit-learn.org/1.6/modules/generated/sklearn.ensemble.RandomForestRegressor.html\">?<span>Documentation for RandomForestRegressor</span></a><span class=\"sk-estimator-doc-link fitted\">i<span>Fitted</span></span></div></label><div class=\"sk-toggleable__content fitted\"><pre>RandomForestRegressor(criterion=&#x27;absolute_error&#x27;, max_depth=10,\n",
       "                      max_features=&#x27;sqrt&#x27;, min_samples_leaf=4, n_estimators=300,\n",
       "                      random_state=31415)</pre></div> </div></div></div></div>"
      ],
      "text/plain": [
       "RandomForestRegressor(criterion='absolute_error', max_depth=10,\n",
       "                      max_features='sqrt', min_samples_leaf=4, n_estimators=300,\n",
       "                      random_state=31415)"
      ]
     },
     "execution_count": 21,
     "metadata": {},
     "output_type": "execute_result"
    }
   ],
   "source": [
    "with open(\"model/model.pkl\", \"rb\") as f:\n",
    "    model = pickle.load(f)\n",
    "model"
   ]
  },
  {
   "cell_type": "code",
   "execution_count": 22,
   "id": "d1905fa3",
   "metadata": {},
   "outputs": [
    {
     "data": {
      "application/vnd.microsoft.datawrangler.viewer.v0+json": {
       "columns": [
        {
         "name": "index",
         "rawType": "int64",
         "type": "integer"
        },
        {
         "name": "orig_filename",
         "rawType": "object",
         "type": "string"
        },
        {
         "name": "new_filename",
         "rawType": "object",
         "type": "string"
        }
       ],
       "conversionMethod": "pd.DataFrame",
       "ref": "5132be9d-5acd-412d-8523-842efa5651d7",
       "rows": [
        [
         "0",
         "Cerys Okandeji",
         "CVANON0000"
        ],
        [
         "1",
         "Emma Natalie Smallwood",
         "CVANON0001"
        ],
        [
         "2",
         "Pablo Valero",
         "CVANON0002"
        ],
        [
         "3",
         "Kaleigh Alyssa Arza",
         "CVANON0003"
        ],
        [
         "4",
         "Eva Thorland Gallegos",
         "CVANON0004"
        ],
        [
         "5",
         "Natasha Martorell",
         "CVANON0005"
        ],
        [
         "6",
         "Christina Giordano",
         "CVANON0006"
        ],
        [
         "7",
         "Silvia Alas Martinez",
         "CVANON0007"
        ],
        [
         "8",
         "Catherine Smith",
         "CVANON0008"
        ],
        [
         "9",
         "Lyra Fenech",
         "CVANON0009"
        ],
        [
         "10",
         "Lara López Groskreutz",
         "CVANON0010"
        ],
        [
         "11",
         "Phoebe Martha Clarke",
         "CVANON0011"
        ],
        [
         "12",
         "Megan Elizabeth Bartlett",
         "CVANON0012"
        ],
        [
         "13",
         "Michael Angelo Sciarrotta",
         "CVANON0013"
        ],
        [
         "14",
         "Isabel Roldán O'Hearon",
         "CVANON0014"
        ],
        [
         "15",
         "Ian Velasquez",
         "CVANON0015"
        ],
        [
         "16",
         "Amber Birchell",
         "CVANON0016"
        ],
        [
         "17",
         "DANIELA TRUJILLO LAMBERTI",
         "CVANON0017"
        ],
        [
         "18",
         "Anoushka Barbara Grant",
         "CVANON0018"
        ],
        [
         "19",
         "Siobhan O'Mahoney",
         "CVANON0019"
        ],
        [
         "20",
         "Shane Xavier Ruiz Finucane",
         "CVANON0020"
        ],
        [
         "21",
         "Kelly Lammers",
         "CVANON0021"
        ],
        [
         "22",
         "Pedro Rudolph Martin Garciandía",
         "CVANON0022"
        ],
        [
         "23",
         "Andrew Malone",
         "CVANON0023"
        ],
        [
         "24",
         "Anabel Cabrera Mosquera",
         "CVANON0024"
        ],
        [
         "25",
         "Samuel Doherty",
         "CVANON0025"
        ],
        [
         "26",
         "Stefania Czarkowska",
         "CVANON0026"
        ],
        [
         "27",
         "Jessica González",
         "CVANON0027"
        ],
        [
         "28",
         "Gabrielle Mathy",
         "CVANON0028"
        ],
        [
         "29",
         "Marcos Liddy",
         "CVANON0029"
        ],
        [
         "30",
         "ANTONIO COLEMAN GONZALEZ",
         "CVANON0030"
        ],
        [
         "31",
         "Cristina Ettedgui Garcia",
         "CVANON0031"
        ],
        [
         "32",
         "James Gallagher",
         "CVANON0032"
        ],
        [
         "33",
         "Samuel Burgr",
         "CVANON0033"
        ],
        [
         "34",
         "Lucia Hudson Hernandez",
         "CVANON0034"
        ],
        [
         "35",
         "Luisa Mayorga Taylor",
         "CVANON0035"
        ],
        [
         "36",
         "Solomon Beckmann",
         "CVANON0036"
        ],
        [
         "37",
         "Iris D'hoff",
         "CVANON0037"
        ],
        [
         "38",
         "Amy García",
         "CVANON0038"
        ],
        [
         "39",
         "Michael Romero Moore",
         "CVANON0039"
        ],
        [
         "40",
         "Daisy Johnson",
         "CVANON0040"
        ],
        [
         "41",
         "Izzy Mccarthy",
         "CVANON0041"
        ],
        [
         "42",
         "Adriana I. Matias Matias Calero",
         "CVANON0042"
        ],
        [
         "43",
         "James Keane",
         "CVANON0043"
        ],
        [
         "44",
         "Elizabeth Liaño Callahan",
         "CVANON0044"
        ],
        [
         "45",
         "Lerys Moronta Vizcaya",
         "CVANON0045"
        ],
        [
         "46",
         "Laura Hartong Ferreiro",
         "CVANON0046"
        ],
        [
         "47",
         "Patricia Cabrero Rodriguez",
         "CVANON0047"
        ],
        [
         "48",
         "Toby James Whitfield",
         "CVANON0048"
        ],
        [
         "49",
         "Toby John Wells",
         "CVANON0049"
        ]
       ],
       "shape": {
        "columns": 2,
        "rows": 81
       }
      },
      "text/html": [
       "<div>\n",
       "<style scoped>\n",
       "    .dataframe tbody tr th:only-of-type {\n",
       "        vertical-align: middle;\n",
       "    }\n",
       "\n",
       "    .dataframe tbody tr th {\n",
       "        vertical-align: top;\n",
       "    }\n",
       "\n",
       "    .dataframe thead th {\n",
       "        text-align: right;\n",
       "    }\n",
       "</style>\n",
       "<table border=\"1\" class=\"dataframe\">\n",
       "  <thead>\n",
       "    <tr style=\"text-align: right;\">\n",
       "      <th></th>\n",
       "      <th>orig_filename</th>\n",
       "      <th>new_filename</th>\n",
       "    </tr>\n",
       "  </thead>\n",
       "  <tbody>\n",
       "    <tr>\n",
       "      <th>0</th>\n",
       "      <td>Cerys Okandeji</td>\n",
       "      <td>CVANON0000</td>\n",
       "    </tr>\n",
       "    <tr>\n",
       "      <th>1</th>\n",
       "      <td>Emma Natalie Smallwood</td>\n",
       "      <td>CVANON0001</td>\n",
       "    </tr>\n",
       "    <tr>\n",
       "      <th>2</th>\n",
       "      <td>Pablo Valero</td>\n",
       "      <td>CVANON0002</td>\n",
       "    </tr>\n",
       "    <tr>\n",
       "      <th>3</th>\n",
       "      <td>Kaleigh Alyssa Arza</td>\n",
       "      <td>CVANON0003</td>\n",
       "    </tr>\n",
       "    <tr>\n",
       "      <th>4</th>\n",
       "      <td>Eva Thorland Gallegos</td>\n",
       "      <td>CVANON0004</td>\n",
       "    </tr>\n",
       "    <tr>\n",
       "      <th>...</th>\n",
       "      <td>...</td>\n",
       "      <td>...</td>\n",
       "    </tr>\n",
       "    <tr>\n",
       "      <th>76</th>\n",
       "      <td>Ciara Fitzgerald</td>\n",
       "      <td>CVANON0076</td>\n",
       "    </tr>\n",
       "    <tr>\n",
       "      <th>77</th>\n",
       "      <td>Isobella Kristina Fortnam Tomlinson</td>\n",
       "      <td>CVANON0077</td>\n",
       "    </tr>\n",
       "    <tr>\n",
       "      <th>78</th>\n",
       "      <td>Samantha Clowes</td>\n",
       "      <td>CVANON0078</td>\n",
       "    </tr>\n",
       "    <tr>\n",
       "      <th>79</th>\n",
       "      <td>Jordon Campbell</td>\n",
       "      <td>CVANON0079</td>\n",
       "    </tr>\n",
       "    <tr>\n",
       "      <th>80</th>\n",
       "      <td>Lauren Steinberg</td>\n",
       "      <td>CVANON0080</td>\n",
       "    </tr>\n",
       "  </tbody>\n",
       "</table>\n",
       "<p>81 rows × 2 columns</p>\n",
       "</div>"
      ],
      "text/plain": [
       "                          orig_filename new_filename\n",
       "0                        Cerys Okandeji   CVANON0000\n",
       "1                Emma Natalie Smallwood   CVANON0001\n",
       "2                          Pablo Valero   CVANON0002\n",
       "3                   Kaleigh Alyssa Arza   CVANON0003\n",
       "4                 Eva Thorland Gallegos   CVANON0004\n",
       "..                                  ...          ...\n",
       "76                     Ciara Fitzgerald   CVANON0076\n",
       "77  Isobella Kristina Fortnam Tomlinson   CVANON0077\n",
       "78                      Samantha Clowes   CVANON0078\n",
       "79                      Jordon Campbell   CVANON0079\n",
       "80                     Lauren Steinberg   CVANON0080\n",
       "\n",
       "[81 rows x 2 columns]"
      ]
     },
     "execution_count": 22,
     "metadata": {},
     "output_type": "execute_result"
    }
   ],
   "source": [
    "cvs_mapping = pd.read_parquet(\"data/CVs_predict/CVs_mapping.parquet\")\n",
    "for col in cvs_mapping.columns:\n",
    "    cvs_mapping[col] = cvs_mapping[col].str.replace(\".pdf\", \"\")\n",
    "cvs_mapping"
   ]
  },
  {
   "cell_type": "code",
   "execution_count": 23,
   "id": "c5525bce",
   "metadata": {},
   "outputs": [
    {
     "data": {
      "application/vnd.microsoft.datawrangler.viewer.v0+json": {
       "columns": [
        {
         "name": "index",
         "rawType": "int64",
         "type": "integer"
        },
        {
         "name": "id",
         "rawType": "object",
         "type": "string"
        },
        {
         "name": "professionality",
         "rawType": "float64",
         "type": "float"
        },
        {
         "name": "visual",
         "rawType": "float64",
         "type": "float"
        },
        {
         "name": "grammar",
         "rawType": "float64",
         "type": "float"
        },
        {
         "name": "ai_likelihood",
         "rawType": "float64",
         "type": "float"
        },
        {
         "name": "education",
         "rawType": "float64",
         "type": "float"
        },
        {
         "name": "experience",
         "rawType": "float64",
         "type": "float"
        },
        {
         "name": "languages",
         "rawType": "float64",
         "type": "float"
        }
       ],
       "conversionMethod": "pd.DataFrame",
       "ref": "5f4f9002-e4b3-49fb-aa6b-51996a94303f",
       "rows": [
        [
         "0",
         "CVANON0002",
         "-3.2515964760684417",
         "-1.383111006649925",
         "-0.8656498091359225",
         "-2.3879769051126605",
         "-0.6709906641129699",
         "-0.7534495958902231",
         "0.16987976767167648"
        ],
        [
         "1",
         "CVANON0009",
         "-3.2515964760684417",
         "-1.383111006649925",
         "-0.22013087929916933",
         "-1.5185289379827154",
         "0.03241500792816288",
         "-0.7534495958902231",
         "0.16987976767167648"
        ],
        [
         "2",
         "CVANON0033",
         "-0.5342802938854436",
         "-0.3892862104809395",
         "1.070906980374337",
         "-0.6490809708527703",
         "-0.24894726088829025",
         "-0.6001241752420509",
         "0.16987976767167648"
        ],
        [
         "3",
         "CVANON0010",
         "-0.5342802938854436",
         "-0.3892862104809395",
         "-0.22013087929916933",
         "1.0898149634071201",
         "0.03241500792816288",
         "-0.743227901180345",
         "-0.6975063402048826"
        ],
        [
         "4",
         "CVANON0015",
         "-3.2515964760684417",
         "-1.383111006649925",
         "-2.1566876688094285",
         "1.9592629305370655",
         "-0.952352932929423",
         "-0.7534495958902231",
         "-0.26381328626660305"
        ],
        [
         "5",
         "CVANON0007",
         "-1.4400523546131097",
         "-0.3892862104809395",
         "-0.22013087929916933",
         "-1.5185289379827154",
         "0.03241500792816288",
         "-0.7534495958902231",
         "0.603572821609956"
        ],
        [
         "6",
         "CVANON0055",
         "1.2772638275698882",
         "1.5983633818570318",
         "0.42538805053758383",
         "1.0898149634071201",
         "3.4087622337256005",
         "-0.017487576778996643",
         "1.2541124025173753"
        ],
        [
         "7",
         "CVANON0011",
         "0.37149176684222235",
         "0.6045385856880461",
         "-1.5111687389726756",
         "0.22036699627717496",
         "-0.952352932929423",
         "0.7746937632365595",
         "0.38672629464081626"
        ],
        [
         "8",
         "CVANON0023",
         "-0.5342802938854436",
         "-0.3892862104809395",
         "-0.8656498091359225",
         "-0.6490809708527703",
         "0.03241500792816288",
         "-0.18359011581451654",
         "0.16987976767167648"
        ],
        [
         "9",
         "CVANON0074",
         "-3.2515964760684417",
         "-3.370760598987896",
         "-0.8656498091359225",
         "0.22036699627717496",
         "1.4392263520104285",
         "-0.7534495958902231",
         "-0.4806598132357428"
        ],
        [
         "10",
         "CVANON0037",
         "-1.4400523546131097",
         "-2.3769358028189105",
         "-0.22013087929916933",
         "-1.5185289379827154",
         "-0.952352932929423",
         "-0.5490157016926601",
         "-0.26381328626660305"
        ],
        [
         "11",
         "CVANON0029",
         "-0.5342802938854436",
         "-0.3892862104809395",
         "-1.5111687389726756",
         "-0.6490809708527703",
         "0.4544584111528426",
         "-0.17081299742716882",
         "-0.9143528671740223"
        ],
        [
         "12",
         "CVANON0079",
         "0.37149176684222235",
         "0.6045385856880461",
         "-0.8656498091359225",
         "1.0898149634071201",
         "-0.6709906641129699",
         "-0.6129012936293986",
         "-0.04696675929746327"
        ],
        [
         "13",
         "CVANON0012",
         "0.37149176684222235",
         "-0.3892862104809395",
         "-0.22013087929916933",
         "0.22036699627717496",
         "0.17309614233638945",
         "-0.6180121409843377",
         "0.38672629464081626"
        ],
        [
         "14",
         "CVANON0041",
         "-0.5342802938854436",
         "-0.3892862104809395",
         "-1.5111687389726756",
         "-1.5185289379827154",
         "-0.8116717985211965",
         "0.7338069843970471",
         "0.38672629464081626"
        ],
        [
         "15",
         "CVANON0003",
         "-0.5342802938854436",
         "-0.3892862104809395",
         "-0.8656498091359225",
         "-0.6490809708527703",
         "-1.2337152017458761",
         "-0.4442433309164092",
         "-0.9143528671740223"
        ],
        [
         "16",
         "CVANON0039",
         "0.37149176684222235",
         "0.6045385856880461",
         "-0.22013087929916933",
         "-0.6490809708527703",
         "-0.10826612648006369",
         "-0.16059130271729072",
         "0.16987976767167648"
        ],
        [
         "17",
         "CVANON0005",
         "-0.5342802938854436",
         "-0.3892862104809395",
         "-1.5111687389726756",
         "-0.6490809708527703",
         "0.8765018143775223",
         "-0.6972302749858933",
         "0.603572821609956"
        ],
        [
         "18",
         "CVANON0080",
         "1.2772638275698882",
         "1.5983633818570318",
         "1.070906980374337",
         "-0.6490809708527703",
         "0.17309614233638945",
         "-0.27814079188088936",
         "-0.26381328626660305"
        ],
        [
         "19",
         "CVANON0006",
         "-0.5342802938854436",
         "-0.3892862104809395",
         "-1.5111687389726756",
         "-0.6490809708527703",
         "-0.3896283952965168",
         "-0.7202290880831191",
         "0.16987976767167648"
        ],
        [
         "20",
         "CVANON0047",
         "1.2772638275698882",
         "0.6045385856880461",
         "0.42538805053758383",
         "1.0898149634071201",
         "3.8308056369502803",
         "0.06939682825496755",
         "0.16987976767167648"
        ],
        [
         "21",
         "CVANON0013",
         "0.37149176684222235",
         "0.6045385856880461",
         "-0.8656498091359225",
         "0.22036699627717496",
         "-0.6709906641129699",
         "0.2125005541932616",
         "1.470958929486515"
        ],
        [
         "22",
         "CVANON0032",
         "0.37149176684222235",
         "0.6045385856880461",
         "-0.8656498091359225",
         "0.22036699627717496",
         "-0.24894726088829025",
         "-0.5464602780151906",
         "-0.26381328626660305"
        ],
        [
         "23",
         "CVANON0058",
         "0.37149176684222235",
         "0.6045385856880461",
         "0.42538805053758383",
         "0.22036699627717496",
         "-0.952352932929423",
         "-0.1529250316848821",
         "1.2541124025173753"
        ],
        [
         "24",
         "CVANON0064",
         "0.37149176684222235",
         "0.6045385856880461",
         "-0.8656498091359225",
         "0.22036699627717496",
         "-0.5303095297047433",
         "-0.2730299445259503",
         "0.16987976767167648"
        ],
        [
         "25",
         "CVANON0060",
         "0.37149176684222235",
         "0.6045385856880461",
         "-0.22013087929916933",
         "1.0898149634071201",
         "0.7358206799692957",
         "-0.13248164226512577",
         "0.8204193485790958"
        ],
        [
         "26",
         "CVANON0028",
         "0.37149176684222235",
         "0.6045385856880461",
         "1.070906980374337",
         "1.0898149634071201",
         "-0.5303095297047433",
         "-0.45190960194881785",
         "-0.26381328626660305"
        ],
        [
         "27",
         "CVANON0036",
         "0.37149176684222235",
         "0.6045385856880461",
         "-0.8656498091359225",
         "-0.6490809708527703",
         "-0.6709906641129699",
         "-0.7227845117605887",
         "0.16987976767167648"
        ],
        [
         "28",
         "CVANON0042",
         "0.37149176684222235",
         "-0.3892862104809395",
         "-1.5111687389726756",
         "1.0898149634071201",
         "0.8765018143775223",
         "0.3607151274864946",
         "0.16987976767167648"
        ],
        [
         "29",
         "CVANON0024",
         "-0.5342802938854436",
         "-0.3892862104809395",
         "-1.5111687389726756",
         "-0.6490809708527703",
         "0.7358206799692957",
         "-0.40080112839942705",
         "0.8204193485790958"
        ],
        [
         "30",
         "CVANON0038",
         "1.2772638275698882",
         "1.5983633818570318",
         "0.42538805053758383",
         "0.22036699627717496",
         "5.659660384257226",
         "-0.2628082498160721",
         "0.8204193485790958"
        ],
        [
         "31",
         "CVANON0040",
         "0.37149176684222235",
         "0.6045385856880461",
         "-0.8656498091359225",
         "-0.6490809708527703",
         "-1.0930340673376495",
         "1.592429340026811",
         "0.38672629464081626"
        ],
        [
         "32",
         "CVANON0050",
         "-0.5342802938854436",
         "-0.3892862104809395",
         "-0.22013087929916933",
         "-0.6490809708527703",
         "-1.3743963361541027",
         "-0.2372540130413768",
         "-0.6975063402048826"
        ],
        [
         "33",
         "CVANON0057",
         "0.37149176684222235",
         "0.6045385856880461",
         "-0.22013087929916933",
         "1.0898149634071201",
         "1.8612697552351083",
         "-0.3318046891077496",
         "-0.4806598132357428"
        ],
        [
         "34",
         "CVANON0067",
         "-0.5342802938854436",
         "-0.3892862104809395",
         "0.42538805053758383",
         "0.22036699627717496",
         "-0.952352932929423",
         "-0.5643482437574774",
         "-0.9143528671740223"
        ],
        [
         "35",
         "CVANON0034",
         "-1.4400523546131097",
         "-1.383111006649925",
         "-1.5111687389726756",
         "-0.6490809708527703",
         "-0.6709906641129699",
         "-0.7534495958902231",
         "0.603572821609956"
        ],
        [
         "36",
         "CVANON0061",
         "0.37149176684222235",
         "0.6045385856880461",
         "-0.22013087929916933",
         "0.22036699627717496",
         "1.2985452176022019",
         "-0.34458180749509726",
         "0.603572821609956"
        ],
        [
         "37",
         "CVANON0046",
         "0.37149176684222235",
         "0.6045385856880461",
         "0.42538805053758383",
         "0.22036699627717496",
         "-0.24894726088829025",
         "-0.4186890941417138",
         "1.470958929486515"
        ],
        [
         "38",
         "CVANON0043",
         "-0.5342802938854436",
         "-0.3892862104809395",
         "-1.5111687389726756",
         "-0.6490809708527703",
         "-0.6709906641129699",
         "-0.4800192624009827",
         "0.603572821609956"
        ],
        [
         "39",
         "CVANON0035",
         "1.2772638275698882",
         "1.5983633818570318",
         "-0.22013087929916933",
         "1.0898149634071201",
         "3.1273999649091473",
         "-0.46213129665869596",
         "0.16987976767167648"
        ],
        [
         "40",
         "CVANON0026",
         "0.37149176684222235",
         "0.6045385856880461",
         "1.070906980374337",
         "1.0898149634071201",
         "-0.5303095297047433",
         "-0.6665651908562589",
         "0.8204193485790958"
        ],
        [
         "41",
         "CVANON0022",
         "0.37149176684222235",
         "0.6045385856880461",
         "-0.8656498091359225",
         "1.0898149634071201",
         "1.2985452176022019",
         "-0.5822362094997642",
         "1.2541124025173753"
        ],
        [
         "42",
         "CVANON0045",
         "0.37149176684222235",
         "0.6045385856880461",
         "-0.8656498091359225",
         "1.9592629305370655",
         "0.4544584111528426",
         "0.41693444839082444",
         "-1.5648924480814417"
        ],
        [
         "43",
         "CVANON0075",
         "0.37149176684222235",
         "0.6045385856880461",
         "-0.8656498091359225",
         "-0.6490809708527703",
         "0.8765018143775223",
         "0.3044958065821649",
         "0.38672629464081626"
        ],
        [
         "44",
         "CVANON0016",
         "0.37149176684222235",
         "0.6045385856880461",
         "-0.8656498091359225",
         "0.22036699627717496",
         "0.03241500792816288",
         "-0.4953518044657999",
         "-0.26381328626660305"
        ],
        [
         "45",
         "CVANON0069",
         "1.2772638275698882",
         "0.6045385856880461",
         "1.070906980374337",
         "-1.5185289379827154",
         "-0.6709906641129699",
         "-0.5592373964025383",
         "-0.26381328626660305"
        ],
        [
         "46",
         "CVANON0021",
         "0.37149176684222235",
         "0.6045385856880461",
         "0.42538805053758383",
         "1.0898149634071201",
         "3.8308056369502803",
         "-0.4186890941417138",
         "-0.04696675929746327"
        ],
        [
         "47",
         "CVANON0062",
         "-1.4400523546131097",
         "-1.383111006649925",
         "-0.22013087929916933",
         "-0.6490809708527703",
         "-0.24894726088829025",
         "-0.7381170538254058",
         "0.16987976767167648"
        ],
        [
         "48",
         "CVANON0066",
         "0.37149176684222235",
         "0.6045385856880461",
         "-0.8656498091359225",
         "0.22036699627717496",
         "0.03241500792816288",
         "-0.676786885566137",
         "0.16987976767167648"
        ],
        [
         "49",
         "CVANON0044",
         "0.37149176684222235",
         "-0.3892862104809395",
         "-0.22013087929916933",
         "0.22036699627717496",
         "0.31377727674461603",
         "-0.4059119757543661",
         "1.0372658755482356"
        ]
       ],
       "shape": {
        "columns": 8,
        "rows": 81
       }
      },
      "text/html": [
       "<div>\n",
       "<style scoped>\n",
       "    .dataframe tbody tr th:only-of-type {\n",
       "        vertical-align: middle;\n",
       "    }\n",
       "\n",
       "    .dataframe tbody tr th {\n",
       "        vertical-align: top;\n",
       "    }\n",
       "\n",
       "    .dataframe thead th {\n",
       "        text-align: right;\n",
       "    }\n",
       "</style>\n",
       "<table border=\"1\" class=\"dataframe\">\n",
       "  <thead>\n",
       "    <tr style=\"text-align: right;\">\n",
       "      <th></th>\n",
       "      <th>id</th>\n",
       "      <th>professionality</th>\n",
       "      <th>visual</th>\n",
       "      <th>grammar</th>\n",
       "      <th>ai_likelihood</th>\n",
       "      <th>education</th>\n",
       "      <th>experience</th>\n",
       "      <th>languages</th>\n",
       "    </tr>\n",
       "  </thead>\n",
       "  <tbody>\n",
       "    <tr>\n",
       "      <th>0</th>\n",
       "      <td>CVANON0002</td>\n",
       "      <td>-3.251596</td>\n",
       "      <td>-1.383111</td>\n",
       "      <td>-0.865650</td>\n",
       "      <td>-2.387977</td>\n",
       "      <td>-0.670991</td>\n",
       "      <td>-0.753450</td>\n",
       "      <td>0.169880</td>\n",
       "    </tr>\n",
       "    <tr>\n",
       "      <th>1</th>\n",
       "      <td>CVANON0009</td>\n",
       "      <td>-3.251596</td>\n",
       "      <td>-1.383111</td>\n",
       "      <td>-0.220131</td>\n",
       "      <td>-1.518529</td>\n",
       "      <td>0.032415</td>\n",
       "      <td>-0.753450</td>\n",
       "      <td>0.169880</td>\n",
       "    </tr>\n",
       "    <tr>\n",
       "      <th>2</th>\n",
       "      <td>CVANON0033</td>\n",
       "      <td>-0.534280</td>\n",
       "      <td>-0.389286</td>\n",
       "      <td>1.070907</td>\n",
       "      <td>-0.649081</td>\n",
       "      <td>-0.248947</td>\n",
       "      <td>-0.600124</td>\n",
       "      <td>0.169880</td>\n",
       "    </tr>\n",
       "    <tr>\n",
       "      <th>3</th>\n",
       "      <td>CVANON0010</td>\n",
       "      <td>-0.534280</td>\n",
       "      <td>-0.389286</td>\n",
       "      <td>-0.220131</td>\n",
       "      <td>1.089815</td>\n",
       "      <td>0.032415</td>\n",
       "      <td>-0.743228</td>\n",
       "      <td>-0.697506</td>\n",
       "    </tr>\n",
       "    <tr>\n",
       "      <th>4</th>\n",
       "      <td>CVANON0015</td>\n",
       "      <td>-3.251596</td>\n",
       "      <td>-1.383111</td>\n",
       "      <td>-2.156688</td>\n",
       "      <td>1.959263</td>\n",
       "      <td>-0.952353</td>\n",
       "      <td>-0.753450</td>\n",
       "      <td>-0.263813</td>\n",
       "    </tr>\n",
       "    <tr>\n",
       "      <th>...</th>\n",
       "      <td>...</td>\n",
       "      <td>...</td>\n",
       "      <td>...</td>\n",
       "      <td>...</td>\n",
       "      <td>...</td>\n",
       "      <td>...</td>\n",
       "      <td>...</td>\n",
       "      <td>...</td>\n",
       "    </tr>\n",
       "    <tr>\n",
       "      <th>76</th>\n",
       "      <td>CVANON0018</td>\n",
       "      <td>1.277264</td>\n",
       "      <td>0.604539</td>\n",
       "      <td>0.425388</td>\n",
       "      <td>0.220367</td>\n",
       "      <td>2.142632</td>\n",
       "      <td>0.209945</td>\n",
       "      <td>0.820419</td>\n",
       "    </tr>\n",
       "    <tr>\n",
       "      <th>77</th>\n",
       "      <td>CVANON0019</td>\n",
       "      <td>-0.534280</td>\n",
       "      <td>-0.389286</td>\n",
       "      <td>-1.511169</td>\n",
       "      <td>-0.649081</td>\n",
       "      <td>0.454458</td>\n",
       "      <td>-0.076262</td>\n",
       "      <td>-0.046967</td>\n",
       "    </tr>\n",
       "    <tr>\n",
       "      <th>78</th>\n",
       "      <td>CVANON0070</td>\n",
       "      <td>-0.534280</td>\n",
       "      <td>-0.389286</td>\n",
       "      <td>-0.865650</td>\n",
       "      <td>0.220367</td>\n",
       "      <td>-0.670991</td>\n",
       "      <td>-0.589902</td>\n",
       "      <td>-0.263813</td>\n",
       "    </tr>\n",
       "    <tr>\n",
       "      <th>79</th>\n",
       "      <td>CVANON0017</td>\n",
       "      <td>0.371492</td>\n",
       "      <td>-0.389286</td>\n",
       "      <td>-1.511169</td>\n",
       "      <td>-0.649081</td>\n",
       "      <td>0.173096</td>\n",
       "      <td>-0.030265</td>\n",
       "      <td>0.603573</td>\n",
       "    </tr>\n",
       "    <tr>\n",
       "      <th>80</th>\n",
       "      <td>CVANON0059</td>\n",
       "      <td>0.371492</td>\n",
       "      <td>-0.389286</td>\n",
       "      <td>-0.220131</td>\n",
       "      <td>0.220367</td>\n",
       "      <td>-0.670991</td>\n",
       "      <td>-0.462131</td>\n",
       "      <td>-0.046967</td>\n",
       "    </tr>\n",
       "  </tbody>\n",
       "</table>\n",
       "<p>81 rows × 8 columns</p>\n",
       "</div>"
      ],
      "text/plain": [
       "            id  professionality    visual   grammar  ai_likelihood  education  \\\n",
       "0   CVANON0002        -3.251596 -1.383111 -0.865650      -2.387977  -0.670991   \n",
       "1   CVANON0009        -3.251596 -1.383111 -0.220131      -1.518529   0.032415   \n",
       "2   CVANON0033        -0.534280 -0.389286  1.070907      -0.649081  -0.248947   \n",
       "3   CVANON0010        -0.534280 -0.389286 -0.220131       1.089815   0.032415   \n",
       "4   CVANON0015        -3.251596 -1.383111 -2.156688       1.959263  -0.952353   \n",
       "..         ...              ...       ...       ...            ...        ...   \n",
       "76  CVANON0018         1.277264  0.604539  0.425388       0.220367   2.142632   \n",
       "77  CVANON0019        -0.534280 -0.389286 -1.511169      -0.649081   0.454458   \n",
       "78  CVANON0070        -0.534280 -0.389286 -0.865650       0.220367  -0.670991   \n",
       "79  CVANON0017         0.371492 -0.389286 -1.511169      -0.649081   0.173096   \n",
       "80  CVANON0059         0.371492 -0.389286 -0.220131       0.220367  -0.670991   \n",
       "\n",
       "    experience  languages  \n",
       "0    -0.753450   0.169880  \n",
       "1    -0.753450   0.169880  \n",
       "2    -0.600124   0.169880  \n",
       "3    -0.743228  -0.697506  \n",
       "4    -0.753450  -0.263813  \n",
       "..         ...        ...  \n",
       "76    0.209945   0.820419  \n",
       "77   -0.076262  -0.046967  \n",
       "78   -0.589902  -0.263813  \n",
       "79   -0.030265   0.603573  \n",
       "80   -0.462131  -0.046967  \n",
       "\n",
       "[81 rows x 8 columns]"
      ]
     },
     "execution_count": 23,
     "metadata": {},
     "output_type": "execute_result"
    }
   ],
   "source": [
    "df_predict = pd.read_parquet(\"data/df_predict_cleaned.parquet\")\n",
    "df_predict"
   ]
  },
  {
   "cell_type": "code",
   "execution_count": 24,
   "id": "81e17dd2",
   "metadata": {},
   "outputs": [
    {
     "data": {
      "application/vnd.microsoft.datawrangler.viewer.v0+json": {
       "columns": [
        {
         "name": "index",
         "rawType": "int64",
         "type": "integer"
        },
        {
         "name": "id",
         "rawType": "object",
         "type": "string"
        },
        {
         "name": "name",
         "rawType": "object",
         "type": "string"
        }
       ],
       "conversionMethod": "pd.DataFrame",
       "ref": "d9d4c25f-7cb9-4fa0-8a23-f4b88a42b099",
       "rows": [
        [
         "0",
         "CVANON0002",
         "Pablo Valero"
        ],
        [
         "1",
         "CVANON0009",
         "Lyra Fenech"
        ],
        [
         "2",
         "CVANON0033",
         "Samuel Burgr"
        ],
        [
         "3",
         "CVANON0010",
         "Lara López Groskreutz"
        ],
        [
         "4",
         "CVANON0015",
         "Ian Velasquez"
        ],
        [
         "5",
         "CVANON0007",
         "Silvia Alas Martinez"
        ],
        [
         "6",
         "CVANON0055",
         "Ignacio Garcia-Bango"
        ],
        [
         "7",
         "CVANON0011",
         "Phoebe Martha Clarke"
        ],
        [
         "8",
         "CVANON0023",
         "Andrew Malone"
        ],
        [
         "9",
         "CVANON0074",
         "Clodagh Lyons"
        ],
        [
         "10",
         "CVANON0037",
         "Iris D'hoff"
        ],
        [
         "11",
         "CVANON0029",
         "Marcos Liddy"
        ],
        [
         "12",
         "CVANON0079",
         "Jordon Campbell"
        ],
        [
         "13",
         "CVANON0012",
         "Megan Elizabeth Bartlett"
        ],
        [
         "14",
         "CVANON0041",
         "Izzy Mccarthy"
        ],
        [
         "15",
         "CVANON0003",
         "Kaleigh Alyssa Arza"
        ],
        [
         "16",
         "CVANON0039",
         "Michael Romero Moore"
        ],
        [
         "17",
         "CVANON0005",
         "Natasha Martorell"
        ],
        [
         "18",
         "CVANON0080",
         "Lauren Steinberg"
        ],
        [
         "19",
         "CVANON0006",
         "Christina Giordano"
        ],
        [
         "20",
         "CVANON0047",
         "Patricia Cabrero Rodriguez"
        ],
        [
         "21",
         "CVANON0013",
         "Michael Angelo Sciarrotta"
        ],
        [
         "22",
         "CVANON0032",
         "James Gallagher"
        ],
        [
         "23",
         "CVANON0058",
         "Tim Foreman"
        ],
        [
         "24",
         "CVANON0064",
         "Marie Enriquez"
        ],
        [
         "25",
         "CVANON0060",
         "Sarah Corbett"
        ],
        [
         "26",
         "CVANON0028",
         "Gabrielle Mathy"
        ],
        [
         "27",
         "CVANON0036",
         "Solomon Beckmann"
        ],
        [
         "28",
         "CVANON0042",
         "Adriana I. Matias Matias Calero"
        ],
        [
         "29",
         "CVANON0024",
         "Anabel Cabrera Mosquera"
        ],
        [
         "30",
         "CVANON0038",
         "Amy García"
        ],
        [
         "31",
         "CVANON0040",
         "Daisy Johnson"
        ],
        [
         "32",
         "CVANON0050",
         "Aaron Blenkinship"
        ],
        [
         "33",
         "CVANON0057",
         "Emily Jensen"
        ],
        [
         "34",
         "CVANON0067",
         "Alexandra Aguilar"
        ],
        [
         "35",
         "CVANON0034",
         "Lucia Hudson Hernandez"
        ],
        [
         "36",
         "CVANON0061",
         "Maycie Rosado"
        ],
        [
         "37",
         "CVANON0046",
         "Laura Hartong Ferreiro"
        ],
        [
         "38",
         "CVANON0043",
         "James Keane"
        ],
        [
         "39",
         "CVANON0035",
         "Luisa Mayorga Taylor"
        ],
        [
         "40",
         "CVANON0026",
         "Stefania Czarkowska"
        ],
        [
         "41",
         "CVANON0022",
         "Pedro Rudolph Martin Garciandía"
        ],
        [
         "42",
         "CVANON0045",
         "Lerys Moronta Vizcaya"
        ],
        [
         "43",
         "CVANON0075",
         "Sean Rodríguez Higgins"
        ],
        [
         "44",
         "CVANON0016",
         "Amber Birchell"
        ],
        [
         "45",
         "CVANON0069",
         "Victoria Parisot Solanas"
        ],
        [
         "46",
         "CVANON0021",
         "Kelly Lammers"
        ],
        [
         "47",
         "CVANON0062",
         "Ingrid Arias"
        ],
        [
         "48",
         "CVANON0066",
         "Carlos Hernán Zerpa Chacín"
        ],
        [
         "49",
         "CVANON0044",
         "Elizabeth Liaño Callahan"
        ]
       ],
       "shape": {
        "columns": 2,
        "rows": 81
       }
      },
      "text/html": [
       "<div>\n",
       "<style scoped>\n",
       "    .dataframe tbody tr th:only-of-type {\n",
       "        vertical-align: middle;\n",
       "    }\n",
       "\n",
       "    .dataframe tbody tr th {\n",
       "        vertical-align: top;\n",
       "    }\n",
       "\n",
       "    .dataframe thead th {\n",
       "        text-align: right;\n",
       "    }\n",
       "</style>\n",
       "<table border=\"1\" class=\"dataframe\">\n",
       "  <thead>\n",
       "    <tr style=\"text-align: right;\">\n",
       "      <th></th>\n",
       "      <th>id</th>\n",
       "      <th>name</th>\n",
       "    </tr>\n",
       "  </thead>\n",
       "  <tbody>\n",
       "    <tr>\n",
       "      <th>0</th>\n",
       "      <td>CVANON0002</td>\n",
       "      <td>Pablo Valero</td>\n",
       "    </tr>\n",
       "    <tr>\n",
       "      <th>1</th>\n",
       "      <td>CVANON0009</td>\n",
       "      <td>Lyra Fenech</td>\n",
       "    </tr>\n",
       "    <tr>\n",
       "      <th>2</th>\n",
       "      <td>CVANON0033</td>\n",
       "      <td>Samuel Burgr</td>\n",
       "    </tr>\n",
       "    <tr>\n",
       "      <th>3</th>\n",
       "      <td>CVANON0010</td>\n",
       "      <td>Lara López Groskreutz</td>\n",
       "    </tr>\n",
       "    <tr>\n",
       "      <th>4</th>\n",
       "      <td>CVANON0015</td>\n",
       "      <td>Ian Velasquez</td>\n",
       "    </tr>\n",
       "    <tr>\n",
       "      <th>...</th>\n",
       "      <td>...</td>\n",
       "      <td>...</td>\n",
       "    </tr>\n",
       "    <tr>\n",
       "      <th>76</th>\n",
       "      <td>CVANON0018</td>\n",
       "      <td>Anoushka Barbara Grant</td>\n",
       "    </tr>\n",
       "    <tr>\n",
       "      <th>77</th>\n",
       "      <td>CVANON0019</td>\n",
       "      <td>Siobhan O'Mahoney</td>\n",
       "    </tr>\n",
       "    <tr>\n",
       "      <th>78</th>\n",
       "      <td>CVANON0070</td>\n",
       "      <td>Carmen Roberts</td>\n",
       "    </tr>\n",
       "    <tr>\n",
       "      <th>79</th>\n",
       "      <td>CVANON0017</td>\n",
       "      <td>DANIELA TRUJILLO LAMBERTI</td>\n",
       "    </tr>\n",
       "    <tr>\n",
       "      <th>80</th>\n",
       "      <td>CVANON0059</td>\n",
       "      <td>Caroline Arcuri</td>\n",
       "    </tr>\n",
       "  </tbody>\n",
       "</table>\n",
       "<p>81 rows × 2 columns</p>\n",
       "</div>"
      ],
      "text/plain": [
       "            id                       name\n",
       "0   CVANON0002               Pablo Valero\n",
       "1   CVANON0009                Lyra Fenech\n",
       "2   CVANON0033               Samuel Burgr\n",
       "3   CVANON0010      Lara López Groskreutz\n",
       "4   CVANON0015              Ian Velasquez\n",
       "..         ...                        ...\n",
       "76  CVANON0018     Anoushka Barbara Grant\n",
       "77  CVANON0019          Siobhan O'Mahoney\n",
       "78  CVANON0070             Carmen Roberts\n",
       "79  CVANON0017  DANIELA TRUJILLO LAMBERTI\n",
       "80  CVANON0059            Caroline Arcuri\n",
       "\n",
       "[81 rows x 2 columns]"
      ]
     },
     "execution_count": 24,
     "metadata": {},
     "output_type": "execute_result"
    }
   ],
   "source": [
    "predictions = df_predict[\"id\"].copy()\n",
    "predictions = pd.merge(predictions, cvs_mapping, left_on=\"id\", right_on=\"new_filename\", how=\"inner\")\n",
    "predictions = predictions.drop(columns=[\"new_filename\"])\n",
    "predictions = predictions.rename(columns={\"orig_filename\": \"name\"})\n",
    "predictions"
   ]
  },
  {
   "cell_type": "code",
   "execution_count": 25,
   "id": "48d87b0f",
   "metadata": {},
   "outputs": [
    {
     "data": {
      "application/vnd.microsoft.datawrangler.viewer.v0+json": {
       "columns": [
        {
         "name": "index",
         "rawType": "int64",
         "type": "integer"
        },
        {
         "name": "id",
         "rawType": "object",
         "type": "string"
        },
        {
         "name": "name",
         "rawType": "object",
         "type": "string"
        },
        {
         "name": "points_9m",
         "rawType": "float64",
         "type": "float"
        }
       ],
       "conversionMethod": "pd.DataFrame",
       "ref": "e02c8370-2dc1-476d-a653-9e366a4029d2",
       "rows": [
        [
         "0",
         "CVANON0002",
         "Pablo Valero",
         "1148.0854585600537"
        ],
        [
         "1",
         "CVANON0009",
         "Lyra Fenech",
         "1242.7750536812964"
        ],
        [
         "2",
         "CVANON0033",
         "Samuel Burgr",
         "1037.7349293306715"
        ],
        [
         "3",
         "CVANON0010",
         "Lara López Groskreutz",
         "885.5995703293156"
        ],
        [
         "4",
         "CVANON0015",
         "Ian Velasquez",
         "1028.8127220472234"
        ],
        [
         "5",
         "CVANON0007",
         "Silvia Alas Martinez",
         "1384.6531797833593"
        ],
        [
         "6",
         "CVANON0055",
         "Ignacio Garcia-Bango",
         "1004.6624858339133"
        ],
        [
         "7",
         "CVANON0011",
         "Phoebe Martha Clarke",
         "910.7082576175242"
        ],
        [
         "8",
         "CVANON0023",
         "Andrew Malone",
         "1435.5315662360601"
        ],
        [
         "9",
         "CVANON0074",
         "Clodagh Lyons",
         "1013.1250114074794"
        ],
        [
         "10",
         "CVANON0037",
         "Iris D'hoff",
         "1419.1054702092065"
        ],
        [
         "11",
         "CVANON0029",
         "Marcos Liddy",
         "1248.3984666312956"
        ],
        [
         "12",
         "CVANON0079",
         "Jordon Campbell",
         "977.8853360234402"
        ],
        [
         "13",
         "CVANON0012",
         "Megan Elizabeth Bartlett",
         "1311.5403570088404"
        ],
        [
         "14",
         "CVANON0041",
         "Izzy Mccarthy",
         "1610.9019575948512"
        ],
        [
         "15",
         "CVANON0003",
         "Kaleigh Alyssa Arza",
         "1187.5406352552397"
        ],
        [
         "16",
         "CVANON0039",
         "Michael Romero Moore",
         "867.6652411972769"
        ],
        [
         "17",
         "CVANON0005",
         "Natasha Martorell",
         "1541.066068079169"
        ],
        [
         "18",
         "CVANON0080",
         "Lauren Steinberg",
         "506.2324448996499"
        ],
        [
         "19",
         "CVANON0006",
         "Christina Giordano",
         "1518.077973091939"
        ],
        [
         "20",
         "CVANON0047",
         "Patricia Cabrero Rodriguez",
         "897.1087190341333"
        ],
        [
         "21",
         "CVANON0013",
         "Michael Angelo Sciarrotta",
         "841.6047449424935"
        ],
        [
         "22",
         "CVANON0032",
         "James Gallagher",
         "937.2298273155833"
        ],
        [
         "23",
         "CVANON0058",
         "Tim Foreman",
         "1009.1128330163829"
        ],
        [
         "24",
         "CVANON0064",
         "Marie Enriquez",
         "899.1803230304907"
        ],
        [
         "25",
         "CVANON0060",
         "Sarah Corbett",
         "1010.1908950218505"
        ],
        [
         "26",
         "CVANON0028",
         "Gabrielle Mathy",
         "848.8190741165239"
        ],
        [
         "27",
         "CVANON0036",
         "Solomon Beckmann",
         "726.3242171793268"
        ],
        [
         "28",
         "CVANON0042",
         "Adriana I. Matias Matias Calero",
         "1104.4790026314906"
        ],
        [
         "29",
         "CVANON0024",
         "Anabel Cabrera Mosquera",
         "1687.0574892812597"
        ],
        [
         "30",
         "CVANON0038",
         "Amy García",
         "841.2384958440691"
        ],
        [
         "31",
         "CVANON0040",
         "Daisy Johnson",
         "828.1854199166904"
        ],
        [
         "32",
         "CVANON0050",
         "Aaron Blenkinship",
         "1188.8678688451757"
        ],
        [
         "33",
         "CVANON0057",
         "Emily Jensen",
         "915.1112246245601"
        ],
        [
         "34",
         "CVANON0067",
         "Alexandra Aguilar",
         "736.3519273075556"
        ],
        [
         "35",
         "CVANON0034",
         "Lucia Hudson Hernandez",
         "1173.0842625125401"
        ],
        [
         "36",
         "CVANON0061",
         "Maycie Rosado",
         "931.2174943920859"
        ],
        [
         "37",
         "CVANON0046",
         "Laura Hartong Ferreiro",
         "1052.5899103658394"
        ],
        [
         "38",
         "CVANON0043",
         "James Keane",
         "1741.824863601769"
        ],
        [
         "39",
         "CVANON0035",
         "Luisa Mayorga Taylor",
         "1008.01671906983"
        ],
        [
         "40",
         "CVANON0026",
         "Stefania Czarkowska",
         "863.7568710268458"
        ],
        [
         "41",
         "CVANON0022",
         "Pedro Rudolph Martin Garciandía",
         "1376.4342038328357"
        ],
        [
         "42",
         "CVANON0045",
         "Lerys Moronta Vizcaya",
         "683.9153161960371"
        ],
        [
         "43",
         "CVANON0075",
         "Sean Rodríguez Higgins",
         "705.525881567177"
        ],
        [
         "44",
         "CVANON0016",
         "Amber Birchell",
         "860.0254774319066"
        ],
        [
         "45",
         "CVANON0069",
         "Victoria Parisot Solanas",
         "702.5682132665629"
        ],
        [
         "46",
         "CVANON0021",
         "Kelly Lammers",
         "1154.346756366883"
        ],
        [
         "47",
         "CVANON0062",
         "Ingrid Arias",
         "1181.4163779258995"
        ],
        [
         "48",
         "CVANON0066",
         "Carlos Hernán Zerpa Chacín",
         "970.1691778102636"
        ],
        [
         "49",
         "CVANON0044",
         "Elizabeth Liaño Callahan",
         "1221.493579975124"
        ]
       ],
       "shape": {
        "columns": 3,
        "rows": 81
       }
      },
      "text/html": [
       "<div>\n",
       "<style scoped>\n",
       "    .dataframe tbody tr th:only-of-type {\n",
       "        vertical-align: middle;\n",
       "    }\n",
       "\n",
       "    .dataframe tbody tr th {\n",
       "        vertical-align: top;\n",
       "    }\n",
       "\n",
       "    .dataframe thead th {\n",
       "        text-align: right;\n",
       "    }\n",
       "</style>\n",
       "<table border=\"1\" class=\"dataframe\">\n",
       "  <thead>\n",
       "    <tr style=\"text-align: right;\">\n",
       "      <th></th>\n",
       "      <th>id</th>\n",
       "      <th>name</th>\n",
       "      <th>points_9m</th>\n",
       "    </tr>\n",
       "  </thead>\n",
       "  <tbody>\n",
       "    <tr>\n",
       "      <th>0</th>\n",
       "      <td>CVANON0002</td>\n",
       "      <td>Pablo Valero</td>\n",
       "      <td>1148.085459</td>\n",
       "    </tr>\n",
       "    <tr>\n",
       "      <th>1</th>\n",
       "      <td>CVANON0009</td>\n",
       "      <td>Lyra Fenech</td>\n",
       "      <td>1242.775054</td>\n",
       "    </tr>\n",
       "    <tr>\n",
       "      <th>2</th>\n",
       "      <td>CVANON0033</td>\n",
       "      <td>Samuel Burgr</td>\n",
       "      <td>1037.734929</td>\n",
       "    </tr>\n",
       "    <tr>\n",
       "      <th>3</th>\n",
       "      <td>CVANON0010</td>\n",
       "      <td>Lara López Groskreutz</td>\n",
       "      <td>885.599570</td>\n",
       "    </tr>\n",
       "    <tr>\n",
       "      <th>4</th>\n",
       "      <td>CVANON0015</td>\n",
       "      <td>Ian Velasquez</td>\n",
       "      <td>1028.812722</td>\n",
       "    </tr>\n",
       "    <tr>\n",
       "      <th>...</th>\n",
       "      <td>...</td>\n",
       "      <td>...</td>\n",
       "      <td>...</td>\n",
       "    </tr>\n",
       "    <tr>\n",
       "      <th>76</th>\n",
       "      <td>CVANON0018</td>\n",
       "      <td>Anoushka Barbara Grant</td>\n",
       "      <td>893.927058</td>\n",
       "    </tr>\n",
       "    <tr>\n",
       "      <th>77</th>\n",
       "      <td>CVANON0019</td>\n",
       "      <td>Siobhan O'Mahoney</td>\n",
       "      <td>1600.149152</td>\n",
       "    </tr>\n",
       "    <tr>\n",
       "      <th>78</th>\n",
       "      <td>CVANON0070</td>\n",
       "      <td>Carmen Roberts</td>\n",
       "      <td>1125.594366</td>\n",
       "    </tr>\n",
       "    <tr>\n",
       "      <th>79</th>\n",
       "      <td>CVANON0017</td>\n",
       "      <td>DANIELA TRUJILLO LAMBERTI</td>\n",
       "      <td>1300.346608</td>\n",
       "    </tr>\n",
       "    <tr>\n",
       "      <th>80</th>\n",
       "      <td>CVANON0059</td>\n",
       "      <td>Caroline Arcuri</td>\n",
       "      <td>1173.536685</td>\n",
       "    </tr>\n",
       "  </tbody>\n",
       "</table>\n",
       "<p>81 rows × 3 columns</p>\n",
       "</div>"
      ],
      "text/plain": [
       "            id                       name    points_9m\n",
       "0   CVANON0002               Pablo Valero  1148.085459\n",
       "1   CVANON0009                Lyra Fenech  1242.775054\n",
       "2   CVANON0033               Samuel Burgr  1037.734929\n",
       "3   CVANON0010      Lara López Groskreutz   885.599570\n",
       "4   CVANON0015              Ian Velasquez  1028.812722\n",
       "..         ...                        ...          ...\n",
       "76  CVANON0018     Anoushka Barbara Grant   893.927058\n",
       "77  CVANON0019          Siobhan O'Mahoney  1600.149152\n",
       "78  CVANON0070             Carmen Roberts  1125.594366\n",
       "79  CVANON0017  DANIELA TRUJILLO LAMBERTI  1300.346608\n",
       "80  CVANON0059            Caroline Arcuri  1173.536685\n",
       "\n",
       "[81 rows x 3 columns]"
      ]
     },
     "execution_count": 25,
     "metadata": {},
     "output_type": "execute_result"
    }
   ],
   "source": [
    "predictions[\"points_9m\"] = model.predict(df_predict.iloc[:, 1:])\n",
    "predictions"
   ]
  },
  {
   "cell_type": "code",
   "execution_count": 26,
   "id": "b26a4916",
   "metadata": {},
   "outputs": [],
   "source": [
    "predictions.to_parquet(\"predictions/predictions.parquet\")\n",
    "predictions.to_excel(\"predictions/predictions.xlsx\")"
   ]
  },
  {
   "cell_type": "code",
   "execution_count": null,
   "id": "72f749b8",
   "metadata": {},
   "outputs": [],
   "source": []
  }
 ],
 "metadata": {
  "kernelspec": {
   "display_name": ".venv",
   "language": "python",
   "name": "python3"
  },
  "language_info": {
   "codemirror_mode": {
    "name": "ipython",
    "version": 3
   },
   "file_extension": ".py",
   "mimetype": "text/x-python",
   "name": "python",
   "nbconvert_exporter": "python",
   "pygments_lexer": "ipython3",
   "version": "3.10.17"
  }
 },
 "nbformat": 4,
 "nbformat_minor": 5
}
